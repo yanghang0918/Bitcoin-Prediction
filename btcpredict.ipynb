{
 "cells": [
  {
   "attachments": {},
   "cell_type": "markdown",
   "metadata": {},
   "source": [
    "# Import Package"
   ]
  },
  {
   "cell_type": "code",
   "execution_count": 5,
   "metadata": {},
   "outputs": [],
   "source": [
    "import os\n",
    "from datetime import datetime\n",
    "import time\n",
    "from sklearn.preprocessing import StandardScaler\n",
    "import plotly.express as px\n",
    "import plotly.graph_objs as go\n",
    "import matplotlib.pyplot as plt\n",
    "import seaborn as sns\n",
    "import math\n",
    "import statsmodels.api as sm\n",
    "from statsmodels.tsa.ar_model import AutoReg\n",
    "from statsmodels.tsa.arima_model import ARMA\n",
    "from statsmodels.tsa.stattools import adfuller\n",
    "from statsmodels.graphics.tsaplots import plot_acf\n",
    "from statsmodels.graphics.tsaplots import plot_pacf\n",
    "from statsmodels.tsa.arima_model import ARIMA\n",
    "from statsmodels.tsa.statespace.sarimax import SARIMAX\n",
    "from statsmodels.tsa.seasonal import seasonal_decompose\n",
    "from scipy import stats\n",
    "from itertools import product\n",
    "import warnings\n",
    "warnings.filterwarnings(\"ignore\")\n",
    "import numpy as np # linear algebra\n",
    "import pandas as pd\n"
   ]
  },
  {
   "attachments": {},
   "cell_type": "markdown",
   "metadata": {},
   "source": [
    "# Data Overview"
   ]
  },
  {
   "attachments": {},
   "cell_type": "markdown",
   "metadata": {},
   "source": [
    "## Import data"
   ]
  },
  {
   "cell_type": "code",
   "execution_count": 6,
   "metadata": {},
   "outputs": [],
   "source": [
    "assetinfo = pd.read_csv(\"asset_details.csv\")\n",
    "ctrain = pd.read_csv(\"train.csv\")"
   ]
  },
  {
   "attachments": {},
   "cell_type": "markdown",
   "metadata": {},
   "source": [
    "## Asset Information and Dataset Overview"
   ]
  },
  {
   "cell_type": "code",
   "execution_count": 7,
   "metadata": {},
   "outputs": [
    {
     "name": "stdout",
     "output_type": "stream",
     "text": [
      "    Asset_ID    Weight        Asset_Name\n",
      "0          2  2.397895      Bitcoin Cash\n",
      "1          0  4.304065      Binance Coin\n",
      "2          1  6.779922           Bitcoin\n",
      "3          5  1.386294            EOS.IO\n",
      "4          7  2.079442  Ethereum Classic\n",
      "5          6  5.894403          Ethereum\n",
      "6          9  2.397895          Litecoin\n",
      "7         11  1.609438            Monero\n",
      "8         13  1.791759              TRON\n",
      "9         12  2.079442           Stellar\n",
      "10         3  4.406719           Cardano\n",
      "11         8  1.098612              IOTA\n",
      "12        10  1.098612             Maker\n",
      "13         4  3.555348          Dogecoin\n"
     ]
    }
   ],
   "source": [
    "print(assetinfo)"
   ]
  },
  {
   "attachments": {},
   "cell_type": "markdown",
   "metadata": {},
   "source": [
    "Bitcoin Cash：Bitcoin Cash is the result of a Bitcoin hard fork that happened in August 2017. Bitcoin Cash was created to allow more transactions in a single block,  theoretically decreasing the fees and transaction times. As of March 22, 2022, Bitcoin Cash had a market capitalization of $4.48 billion, ranking it No. 24 among cryptocurrencies by this measure, while Bitcoin was the largest cryptocurrency by far, with its market cap of $808.37 billion more than twice that of second-ranked Ethereum at $360.82 billion.\n",
    "\n",
    "Binance Coin: Binance Coin is the cryptocurrency issued by the Binance exchange and trades with the BNB symbol. BNB was initially based on the Ethereum network but is now the native currency of Binance's own blockchain, the Binance chain. BNB is a utility cryptocurrency that operates as a payment method for the fees associated with trading on the Binance Exchange. Those who use the token as a means of payment for the exchange can trade at a discount. Now Binance had a market cap of more than $56 billion and ranks behind only Bitcoin, Ethereum, and USD Tether in terms of market cap. \n",
    "\n",
    "Bitcoin: (abbreviation: BTC; sign: ₿) A decentralized digital currency that can be transferred on the peer-to-peer bitcoin network.[7] Bitcoin transactions are verified by network nodes through cryptography and recorded in a public distributed ledger called a blockchain.\n",
    "\n",
    "EOS.I0:\n",
    "\n",
    "Ethereum Classic:\n",
    "\n",
    "Ethereum: (Abbreviation: ETH;[a] sign: Ξ) A decentralized, open-source blockchain with smart contract functionality. Ether is the native cryptocurrency of the platform. Among cryptocurrencies, ether is second only to bitcoin in market capitalization.\n",
    "\n",
    "Litecoin:\n",
    "\n",
    "Monero:\n",
    "\n",
    "TRON:\n",
    "\n",
    "Stellar:\n",
    "\n",
    "Cardano: Cardano (ADA) is an “Ouroboros proof-of-stake” cryptocurrency created with a research-based approach by engineers, mathematicians, and cryptography experts. Cardano aims to be the world’s financial operating system by establishing DeFi products similar to Ethereum's and providing solutions for chain interoperability, voter fraud, and legal contract tracing, among other things. \n",
    "\n",
    "IOIA:\n",
    "\n",
    "Maker:\n",
    "\n",
    "Dogecoin: Dogecoin (DOGE), seen by some as the original “memecoin,” caused a stir in 2021 as its price skyrocketed. The coin, which uses an image of the Shiba Inu as its avatar, is accepted as a form of payment by some major companies."
   ]
  },
  {
   "cell_type": "code",
   "execution_count": 8,
   "metadata": {},
   "outputs": [
    {
     "name": "stdout",
     "output_type": "stream",
     "text": [
      "    timestamp  Asset_ID  Count        Open        High         Low  \\\n",
      "0  1514764860         2   40.0   2376.5800   2399.5000   2357.1400   \n",
      "1  1514764860         0    5.0      8.5300      8.5300      8.5300   \n",
      "2  1514764860         1  229.0  13835.1940  14013.8000  13666.1100   \n",
      "3  1514764860         5   32.0      7.6596      7.6596      7.6567   \n",
      "4  1514764860         7    5.0     25.9200     25.9200     25.8740   \n",
      "\n",
      "        Close       Volume          VWAP    Target  \n",
      "0   2374.5900    19.233005   2373.116392 -0.004218  \n",
      "1      8.5300    78.380000      8.530000 -0.014399  \n",
      "2  13850.1760    31.550062  13827.062093 -0.014643  \n",
      "3      7.6576  6626.713370      7.657713 -0.013922  \n",
      "4     25.8770   121.087310     25.891363 -0.008264  \n"
     ]
    }
   ],
   "source": [
    "print(ctrain.head())"
   ]
  },
  {
   "cell_type": "code",
   "execution_count": 9,
   "metadata": {},
   "outputs": [
    {
     "name": "stdout",
     "output_type": "stream",
     "text": [
      "<class 'pandas.core.frame.DataFrame'>\n",
      "RangeIndex: 24236806 entries, 0 to 24236805\n",
      "Data columns (total 10 columns):\n",
      " #   Column     Non-Null Count     Dtype  \n",
      "---  ------     --------------     -----  \n",
      " 0   timestamp  24236806 non-null  int64  \n",
      " 1   Asset_ID   24236806 non-null  int64  \n",
      " 2   Count      24236806 non-null  float64\n",
      " 3   Open       24236806 non-null  float64\n",
      " 4   High       24236806 non-null  float64\n",
      " 5   Low        24236806 non-null  float64\n",
      " 6   Close      24236806 non-null  float64\n",
      " 7   Volume     24236806 non-null  float64\n",
      " 8   VWAP       24236797 non-null  float64\n",
      " 9   Target     23486468 non-null  float64\n",
      "dtypes: float64(8), int64(2)\n",
      "memory usage: 1.8 GB\n"
     ]
    }
   ],
   "source": [
    "ctrain.info(show_counts = True)"
   ]
  },
  {
   "attachments": {},
   "cell_type": "markdown",
   "metadata": {},
   "source": [
    "## Generate Sorting List"
   ]
  },
  {
   "cell_type": "code",
   "execution_count": 10,
   "metadata": {},
   "outputs": [],
   "source": [
    "asset_names_dict = {row[\"Asset_Name\"]:row[\"Asset_ID\"] for ind, row in assetinfo.iterrows()}\n",
    "\n",
    "asset_names = [\n",
    "    'Bitcoin',\n",
    "    'Ethereum',\n",
    "    'Cardano',\n",
    "    'Binance Coin',\n",
    "    'Dogecoin',\n",
    "    'Bitcoin Cash',\n",
    "    'Litecoin',\n",
    "    'Ethereum Classic',\n",
    "    'Stellar',\n",
    "    'TRON',\n",
    "    'Monero',\n",
    "    'EOS.IO',\n",
    "    'IOTA',\n",
    "    'Maker'\n",
    "]"
   ]
  },
  {
   "attachments": {},
   "cell_type": "markdown",
   "metadata": {},
   "source": [
    "## Timespan Overview"
   ]
  },
  {
   "cell_type": "code",
   "execution_count": 11,
   "metadata": {},
   "outputs": [
    {
     "data": {
      "text/html": [
       "<div>\n",
       "<style scoped>\n",
       "    .dataframe tbody tr th:only-of-type {\n",
       "        vertical-align: middle;\n",
       "    }\n",
       "\n",
       "    .dataframe tbody tr th {\n",
       "        vertical-align: top;\n",
       "    }\n",
       "\n",
       "    .dataframe thead th {\n",
       "        text-align: right;\n",
       "    }\n",
       "</style>\n",
       "<table border=\"1\" class=\"dataframe\">\n",
       "  <thead>\n",
       "    <tr style=\"text-align: right;\">\n",
       "      <th></th>\n",
       "      <th>Asset_Name</th>\n",
       "      <th>Begin_Time</th>\n",
       "      <th>End_Time</th>\n",
       "    </tr>\n",
       "  </thead>\n",
       "  <tbody>\n",
       "    <tr>\n",
       "      <th>0</th>\n",
       "      <td>Bitcoin</td>\n",
       "      <td>2018-01-01 00:01:00</td>\n",
       "      <td>2021-09-21</td>\n",
       "    </tr>\n",
       "    <tr>\n",
       "      <th>1</th>\n",
       "      <td>Ethereum</td>\n",
       "      <td>2018-01-01 00:01:00</td>\n",
       "      <td>2021-09-21</td>\n",
       "    </tr>\n",
       "    <tr>\n",
       "      <th>2</th>\n",
       "      <td>Cardano</td>\n",
       "      <td>2018-04-17 09:11:00</td>\n",
       "      <td>2021-09-21</td>\n",
       "    </tr>\n",
       "    <tr>\n",
       "      <th>3</th>\n",
       "      <td>Binance Coin</td>\n",
       "      <td>2018-01-01 00:01:00</td>\n",
       "      <td>2021-09-21</td>\n",
       "    </tr>\n",
       "    <tr>\n",
       "      <th>4</th>\n",
       "      <td>Dogecoin</td>\n",
       "      <td>2019-04-12 14:34:00</td>\n",
       "      <td>2021-09-21</td>\n",
       "    </tr>\n",
       "    <tr>\n",
       "      <th>5</th>\n",
       "      <td>Bitcoin Cash</td>\n",
       "      <td>2018-01-01 00:01:00</td>\n",
       "      <td>2021-09-21</td>\n",
       "    </tr>\n",
       "    <tr>\n",
       "      <th>6</th>\n",
       "      <td>Litecoin</td>\n",
       "      <td>2018-01-01 00:01:00</td>\n",
       "      <td>2021-09-21</td>\n",
       "    </tr>\n",
       "    <tr>\n",
       "      <th>7</th>\n",
       "      <td>Ethereum Classic</td>\n",
       "      <td>2018-01-01 00:01:00</td>\n",
       "      <td>2021-09-21</td>\n",
       "    </tr>\n",
       "    <tr>\n",
       "      <th>8</th>\n",
       "      <td>Stellar</td>\n",
       "      <td>2018-02-16 23:53:00</td>\n",
       "      <td>2021-09-21</td>\n",
       "    </tr>\n",
       "    <tr>\n",
       "      <th>9</th>\n",
       "      <td>TRON</td>\n",
       "      <td>2018-02-06 21:37:00</td>\n",
       "      <td>2021-09-21</td>\n",
       "    </tr>\n",
       "    <tr>\n",
       "      <th>10</th>\n",
       "      <td>Monero</td>\n",
       "      <td>2018-01-01 00:01:00</td>\n",
       "      <td>2021-09-21</td>\n",
       "    </tr>\n",
       "    <tr>\n",
       "      <th>11</th>\n",
       "      <td>EOS.IO</td>\n",
       "      <td>2018-01-01 00:01:00</td>\n",
       "      <td>2021-09-21</td>\n",
       "    </tr>\n",
       "    <tr>\n",
       "      <th>12</th>\n",
       "      <td>IOTA</td>\n",
       "      <td>2018-05-09 08:07:00</td>\n",
       "      <td>2021-09-21</td>\n",
       "    </tr>\n",
       "    <tr>\n",
       "      <th>13</th>\n",
       "      <td>Maker</td>\n",
       "      <td>2018-05-10 15:21:00</td>\n",
       "      <td>2021-09-21</td>\n",
       "    </tr>\n",
       "  </tbody>\n",
       "</table>\n",
       "</div>"
      ],
      "text/plain": [
       "          Asset_Name          Begin_Time   End_Time\n",
       "0            Bitcoin 2018-01-01 00:01:00 2021-09-21\n",
       "1           Ethereum 2018-01-01 00:01:00 2021-09-21\n",
       "2            Cardano 2018-04-17 09:11:00 2021-09-21\n",
       "3       Binance Coin 2018-01-01 00:01:00 2021-09-21\n",
       "4           Dogecoin 2019-04-12 14:34:00 2021-09-21\n",
       "5       Bitcoin Cash 2018-01-01 00:01:00 2021-09-21\n",
       "6           Litecoin 2018-01-01 00:01:00 2021-09-21\n",
       "7   Ethereum Classic 2018-01-01 00:01:00 2021-09-21\n",
       "8            Stellar 2018-02-16 23:53:00 2021-09-21\n",
       "9               TRON 2018-02-06 21:37:00 2021-09-21\n",
       "10            Monero 2018-01-01 00:01:00 2021-09-21\n",
       "11            EOS.IO 2018-01-01 00:01:00 2021-09-21\n",
       "12              IOTA 2018-05-09 08:07:00 2021-09-21\n",
       "13             Maker 2018-05-10 15:21:00 2021-09-21"
      ]
     },
     "execution_count": 11,
     "metadata": {},
     "output_type": "execute_result"
    }
   ],
   "source": [
    "time_list = []\n",
    "for coin in asset_names:\n",
    "    coin_df = ctrain[ctrain[\"Asset_ID\"]==asset_names_dict[coin]].set_index(\"timestamp\")  # 以timestamp为index，按照加密货币种类生成df; create dataframe in accordance to the type of crpytocurrency, with timestamp as index \n",
    "    beg_time = coin_df.index[0].astype('datetime64[s]') # astype是pandas的数据转换function(如df['clientno'].astype('object'),也可以用to_datetime()), 从数据库中读取的timestamp往往是object格式，将object的日期格式转换成时间格式datetime64(在pandas和numpy下)([s]second,[m]minute,[h]hour,[D]day,[W]week,[M]month,[Y]year,[ms,us,ns,ps,fs,as])\n",
    "    end_time = coin_df.index[-1].astype('datetime64[s]') #we can use astype to change the type of the data(not limited to time, e.g:df['clientno'].astype('object')), datetime64 is the type of time data under pandas and numpy\n",
    "    time_list.append([coin, beg_time, end_time])\n",
    "time_df = pd.DataFrame(time_list)\n",
    "time_df.columns = [\"Asset_Name\", \"Begin_Time\", \"End_Time\"]\n",
    "time_df"
   ]
  },
  {
   "attachments": {},
   "cell_type": "markdown",
   "metadata": {},
   "source": [
    "## Missing data overview"
   ]
  },
  {
   "cell_type": "code",
   "execution_count": 12,
   "metadata": {},
   "outputs": [
    {
     "data": {
      "text/html": [
       "<div>\n",
       "<style scoped>\n",
       "    .dataframe tbody tr th:only-of-type {\n",
       "        vertical-align: middle;\n",
       "    }\n",
       "\n",
       "    .dataframe tbody tr th {\n",
       "        vertical-align: top;\n",
       "    }\n",
       "\n",
       "    .dataframe thead th {\n",
       "        text-align: right;\n",
       "    }\n",
       "</style>\n",
       "<table border=\"1\" class=\"dataframe\">\n",
       "  <thead>\n",
       "    <tr style=\"text-align: right;\">\n",
       "      <th></th>\n",
       "      <th>Asset_Name</th>\n",
       "      <th>number_of_gaps</th>\n",
       "      <th>max_gap_in_seconds</th>\n",
       "    </tr>\n",
       "  </thead>\n",
       "  <tbody>\n",
       "    <tr>\n",
       "      <th>0</th>\n",
       "      <td>Bitcoin</td>\n",
       "      <td>145</td>\n",
       "      <td>2400</td>\n",
       "    </tr>\n",
       "    <tr>\n",
       "      <th>1</th>\n",
       "      <td>Ethereum</td>\n",
       "      <td>156</td>\n",
       "      <td>7200</td>\n",
       "    </tr>\n",
       "    <tr>\n",
       "      <th>2</th>\n",
       "      <td>Cardano</td>\n",
       "      <td>9360</td>\n",
       "      <td>4800</td>\n",
       "    </tr>\n",
       "    <tr>\n",
       "      <th>3</th>\n",
       "      <td>Binance Coin</td>\n",
       "      <td>6600</td>\n",
       "      <td>120720</td>\n",
       "    </tr>\n",
       "    <tr>\n",
       "      <th>4</th>\n",
       "      <td>Dogecoin</td>\n",
       "      <td>76652</td>\n",
       "      <td>7260</td>\n",
       "    </tr>\n",
       "    <tr>\n",
       "      <th>5</th>\n",
       "      <td>Bitcoin Cash</td>\n",
       "      <td>2502</td>\n",
       "      <td>4380</td>\n",
       "    </tr>\n",
       "    <tr>\n",
       "      <th>6</th>\n",
       "      <td>Litecoin</td>\n",
       "      <td>291</td>\n",
       "      <td>5280</td>\n",
       "    </tr>\n",
       "    <tr>\n",
       "      <th>7</th>\n",
       "      <td>Ethereum Classic</td>\n",
       "      <td>4707</td>\n",
       "      <td>3780</td>\n",
       "    </tr>\n",
       "    <tr>\n",
       "      <th>8</th>\n",
       "      <td>Stellar</td>\n",
       "      <td>37770</td>\n",
       "      <td>8520</td>\n",
       "    </tr>\n",
       "    <tr>\n",
       "      <th>9</th>\n",
       "      <td>TRON</td>\n",
       "      <td>12225</td>\n",
       "      <td>3000</td>\n",
       "    </tr>\n",
       "    <tr>\n",
       "      <th>10</th>\n",
       "      <td>Monero</td>\n",
       "      <td>131837</td>\n",
       "      <td>3180</td>\n",
       "    </tr>\n",
       "    <tr>\n",
       "      <th>11</th>\n",
       "      <td>EOS.IO</td>\n",
       "      <td>1188</td>\n",
       "      <td>3960</td>\n",
       "    </tr>\n",
       "    <tr>\n",
       "      <th>12</th>\n",
       "      <td>IOTA</td>\n",
       "      <td>107741</td>\n",
       "      <td>10920</td>\n",
       "    </tr>\n",
       "    <tr>\n",
       "      <th>13</th>\n",
       "      <td>Maker</td>\n",
       "      <td>26497</td>\n",
       "      <td>281700</td>\n",
       "    </tr>\n",
       "  </tbody>\n",
       "</table>\n",
       "</div>"
      ],
      "text/plain": [
       "          Asset_Name  number_of_gaps  max_gap_in_seconds\n",
       "0            Bitcoin             145                2400\n",
       "1           Ethereum             156                7200\n",
       "2            Cardano            9360                4800\n",
       "3       Binance Coin            6600              120720\n",
       "4           Dogecoin           76652                7260\n",
       "5       Bitcoin Cash            2502                4380\n",
       "6           Litecoin             291                5280\n",
       "7   Ethereum Classic            4707                3780\n",
       "8            Stellar           37770                8520\n",
       "9               TRON           12225                3000\n",
       "10            Monero          131837                3180\n",
       "11            EOS.IO            1188                3960\n",
       "12              IOTA          107741               10920\n",
       "13             Maker           26497              281700"
      ]
     },
     "execution_count": 12,
     "metadata": {},
     "output_type": "execute_result"
    }
   ],
   "source": [
    "gap_list = []\n",
    "for coin in asset_names:\n",
    "    coin_df = ctrain[ctrain[\"Asset_ID\"]==asset_names_dict[coin]].set_index(\"timestamp\")\n",
    "    gap_df = (coin_df.index[1:]-coin_df.index[:-1]).value_counts().reset_index() #针对每个币种，计算两个记录之间的时间差(计算结果有60s,120s,180s...),然后计算每种时间差的数量，并以时间差种类为index生成一个序列（索引/时间差/时间差个数）; for each cryptocurrency, calculate the time gap between two records(outcomes include 60s,120s,180s...), then calculate the amount of each type of gap(60s,120s,180s...), finally generate a dataframe with the type of gap as index\n",
    "    n_gaps = gap_df[gap_df[\"index\"]!=60][\"timestamp\"].sum() #剔除时间差为60s的数据后，针对每个币种统计不同时间差的个数; from the dataframe previously generated we neglect those 60s\n",
    "    max_gap = gap_df[\"index\"].max()\n",
    "    gap_list.append([coin, n_gaps, max_gap])\n",
    "gap_df = pd.DataFrame(gap_list)\n",
    "gap_df.columns = [\"Asset_Name\", \"number_of_gaps\", \"max_gap_in_seconds\"]\n",
    "gap_df"
   ]
  },
  {
   "cell_type": "code",
   "execution_count": 13,
   "metadata": {},
   "outputs": [
    {
     "data": {
      "text/html": [
       "<div>\n",
       "<style scoped>\n",
       "    .dataframe tbody tr th:only-of-type {\n",
       "        vertical-align: middle;\n",
       "    }\n",
       "\n",
       "    .dataframe tbody tr th {\n",
       "        vertical-align: top;\n",
       "    }\n",
       "\n",
       "    .dataframe thead th {\n",
       "        text-align: right;\n",
       "    }\n",
       "</style>\n",
       "<table border=\"1\" class=\"dataframe\">\n",
       "  <thead>\n",
       "    <tr style=\"text-align: right;\">\n",
       "      <th></th>\n",
       "      <th>Asset_Name</th>\n",
       "      <th>TotalRows</th>\n",
       "      <th>Missing_Asset_ID</th>\n",
       "      <th>Missing_Count</th>\n",
       "      <th>Missing_Open</th>\n",
       "      <th>Missing_High</th>\n",
       "      <th>Missing_Low</th>\n",
       "      <th>Missing_Close</th>\n",
       "      <th>Missing_Volume</th>\n",
       "      <th>Missing_VWAP</th>\n",
       "      <th>Missing_Target</th>\n",
       "    </tr>\n",
       "  </thead>\n",
       "  <tbody>\n",
       "    <tr>\n",
       "      <th>0</th>\n",
       "      <td>Bitcoin</td>\n",
       "      <td>1956282</td>\n",
       "      <td>0</td>\n",
       "      <td>0</td>\n",
       "      <td>0</td>\n",
       "      <td>0</td>\n",
       "      <td>0</td>\n",
       "      <td>0</td>\n",
       "      <td>0</td>\n",
       "      <td>0</td>\n",
       "      <td>304</td>\n",
       "    </tr>\n",
       "    <tr>\n",
       "      <th>1</th>\n",
       "      <td>Ethereum</td>\n",
       "      <td>1956200</td>\n",
       "      <td>0</td>\n",
       "      <td>0</td>\n",
       "      <td>0</td>\n",
       "      <td>0</td>\n",
       "      <td>0</td>\n",
       "      <td>0</td>\n",
       "      <td>0</td>\n",
       "      <td>0</td>\n",
       "      <td>340</td>\n",
       "    </tr>\n",
       "    <tr>\n",
       "      <th>2</th>\n",
       "      <td>Cardano</td>\n",
       "      <td>1791867</td>\n",
       "      <td>0</td>\n",
       "      <td>0</td>\n",
       "      <td>0</td>\n",
       "      <td>0</td>\n",
       "      <td>0</td>\n",
       "      <td>0</td>\n",
       "      <td>0</td>\n",
       "      <td>0</td>\n",
       "      <td>18731</td>\n",
       "    </tr>\n",
       "    <tr>\n",
       "      <th>3</th>\n",
       "      <td>Binance Coin</td>\n",
       "      <td>1942619</td>\n",
       "      <td>0</td>\n",
       "      <td>0</td>\n",
       "      <td>0</td>\n",
       "      <td>0</td>\n",
       "      <td>0</td>\n",
       "      <td>0</td>\n",
       "      <td>0</td>\n",
       "      <td>0</td>\n",
       "      <td>13415</td>\n",
       "    </tr>\n",
       "    <tr>\n",
       "      <th>4</th>\n",
       "      <td>Dogecoin</td>\n",
       "      <td>1156866</td>\n",
       "      <td>0</td>\n",
       "      <td>0</td>\n",
       "      <td>0</td>\n",
       "      <td>0</td>\n",
       "      <td>0</td>\n",
       "      <td>0</td>\n",
       "      <td>0</td>\n",
       "      <td>0</td>\n",
       "      <td>144974</td>\n",
       "    </tr>\n",
       "    <tr>\n",
       "      <th>5</th>\n",
       "      <td>Bitcoin Cash</td>\n",
       "      <td>1953537</td>\n",
       "      <td>0</td>\n",
       "      <td>0</td>\n",
       "      <td>0</td>\n",
       "      <td>0</td>\n",
       "      <td>0</td>\n",
       "      <td>0</td>\n",
       "      <td>0</td>\n",
       "      <td>0</td>\n",
       "      <td>4861</td>\n",
       "    </tr>\n",
       "    <tr>\n",
       "      <th>6</th>\n",
       "      <td>Litecoin</td>\n",
       "      <td>1956030</td>\n",
       "      <td>0</td>\n",
       "      <td>0</td>\n",
       "      <td>0</td>\n",
       "      <td>0</td>\n",
       "      <td>0</td>\n",
       "      <td>0</td>\n",
       "      <td>0</td>\n",
       "      <td>0</td>\n",
       "      <td>521</td>\n",
       "    </tr>\n",
       "    <tr>\n",
       "      <th>7</th>\n",
       "      <td>Ethereum Classic</td>\n",
       "      <td>1951127</td>\n",
       "      <td>0</td>\n",
       "      <td>0</td>\n",
       "      <td>0</td>\n",
       "      <td>0</td>\n",
       "      <td>0</td>\n",
       "      <td>0</td>\n",
       "      <td>0</td>\n",
       "      <td>0</td>\n",
       "      <td>9326</td>\n",
       "    </tr>\n",
       "    <tr>\n",
       "      <th>8</th>\n",
       "      <td>Stellar</td>\n",
       "      <td>1778749</td>\n",
       "      <td>0</td>\n",
       "      <td>0</td>\n",
       "      <td>0</td>\n",
       "      <td>0</td>\n",
       "      <td>0</td>\n",
       "      <td>0</td>\n",
       "      <td>0</td>\n",
       "      <td>0</td>\n",
       "      <td>61816</td>\n",
       "    </tr>\n",
       "    <tr>\n",
       "      <th>9</th>\n",
       "      <td>TRON</td>\n",
       "      <td>1874560</td>\n",
       "      <td>0</td>\n",
       "      <td>0</td>\n",
       "      <td>0</td>\n",
       "      <td>0</td>\n",
       "      <td>0</td>\n",
       "      <td>0</td>\n",
       "      <td>0</td>\n",
       "      <td>0</td>\n",
       "      <td>21014</td>\n",
       "    </tr>\n",
       "    <tr>\n",
       "      <th>10</th>\n",
       "      <td>Monero</td>\n",
       "      <td>1701261</td>\n",
       "      <td>0</td>\n",
       "      <td>0</td>\n",
       "      <td>0</td>\n",
       "      <td>0</td>\n",
       "      <td>0</td>\n",
       "      <td>0</td>\n",
       "      <td>0</td>\n",
       "      <td>0</td>\n",
       "      <td>239603</td>\n",
       "    </tr>\n",
       "    <tr>\n",
       "      <th>11</th>\n",
       "      <td>EOS.IO</td>\n",
       "      <td>1955140</td>\n",
       "      <td>0</td>\n",
       "      <td>0</td>\n",
       "      <td>0</td>\n",
       "      <td>0</td>\n",
       "      <td>0</td>\n",
       "      <td>0</td>\n",
       "      <td>0</td>\n",
       "      <td>0</td>\n",
       "      <td>2302</td>\n",
       "    </tr>\n",
       "    <tr>\n",
       "      <th>12</th>\n",
       "      <td>IOTA</td>\n",
       "      <td>1592071</td>\n",
       "      <td>0</td>\n",
       "      <td>0</td>\n",
       "      <td>0</td>\n",
       "      <td>0</td>\n",
       "      <td>0</td>\n",
       "      <td>0</td>\n",
       "      <td>0</td>\n",
       "      <td>0</td>\n",
       "      <td>193106</td>\n",
       "    </tr>\n",
       "    <tr>\n",
       "      <th>13</th>\n",
       "      <td>Maker</td>\n",
       "      <td>670497</td>\n",
       "      <td>0</td>\n",
       "      <td>0</td>\n",
       "      <td>0</td>\n",
       "      <td>0</td>\n",
       "      <td>0</td>\n",
       "      <td>0</td>\n",
       "      <td>0</td>\n",
       "      <td>9</td>\n",
       "      <td>40025</td>\n",
       "    </tr>\n",
       "  </tbody>\n",
       "</table>\n",
       "</div>"
      ],
      "text/plain": [
       "          Asset_Name  TotalRows  Missing_Asset_ID  Missing_Count  \\\n",
       "0            Bitcoin    1956282                 0              0   \n",
       "1           Ethereum    1956200                 0              0   \n",
       "2            Cardano    1791867                 0              0   \n",
       "3       Binance Coin    1942619                 0              0   \n",
       "4           Dogecoin    1156866                 0              0   \n",
       "5       Bitcoin Cash    1953537                 0              0   \n",
       "6           Litecoin    1956030                 0              0   \n",
       "7   Ethereum Classic    1951127                 0              0   \n",
       "8            Stellar    1778749                 0              0   \n",
       "9               TRON    1874560                 0              0   \n",
       "10            Monero    1701261                 0              0   \n",
       "11            EOS.IO    1955140                 0              0   \n",
       "12              IOTA    1592071                 0              0   \n",
       "13             Maker     670497                 0              0   \n",
       "\n",
       "    Missing_Open  Missing_High  Missing_Low  Missing_Close  Missing_Volume  \\\n",
       "0              0             0            0              0               0   \n",
       "1              0             0            0              0               0   \n",
       "2              0             0            0              0               0   \n",
       "3              0             0            0              0               0   \n",
       "4              0             0            0              0               0   \n",
       "5              0             0            0              0               0   \n",
       "6              0             0            0              0               0   \n",
       "7              0             0            0              0               0   \n",
       "8              0             0            0              0               0   \n",
       "9              0             0            0              0               0   \n",
       "10             0             0            0              0               0   \n",
       "11             0             0            0              0               0   \n",
       "12             0             0            0              0               0   \n",
       "13             0             0            0              0               0   \n",
       "\n",
       "    Missing_VWAP  Missing_Target  \n",
       "0              0             304  \n",
       "1              0             340  \n",
       "2              0           18731  \n",
       "3              0           13415  \n",
       "4              0          144974  \n",
       "5              0            4861  \n",
       "6              0             521  \n",
       "7              0            9326  \n",
       "8              0           61816  \n",
       "9              0           21014  \n",
       "10             0          239603  \n",
       "11             0            2302  \n",
       "12             0          193106  \n",
       "13             9           40025  "
      ]
     },
     "execution_count": 13,
     "metadata": {},
     "output_type": "execute_result"
    }
   ],
   "source": [
    "missing_list = []\n",
    "for coin in asset_names:\n",
    "    coin_df = ctrain[ctrain[\"Asset_ID\"]==asset_names_dict[coin]].set_index(\"timestamp\")\n",
    "    missing_list.append([coin, coin_df.shape[0]] + coin_df.isna().sum().tolist()) #coin_df.shape[0]读取某个币种数组的行数(即下面结果中的TotalRows，[1]读取列数, 对于三维张量还有shape[2]; use coin_df_shape[0] we can get the number of rows of the dataframe of each coin (the column \"TotalRows\" in the outcome, shape[0]-the number of rows, shape[1]-the number of columns, for 3 dimension dataset, there will be shape[2]\n",
    "missing_df = pd.DataFrame(missing_list)\n",
    "missing_df.columns = [\"Asset_Name\", \"TotalRows\", 'Missing_Asset_ID', 'Missing_Count', 'Missing_Open', \n",
    "                      'Missing_High', 'Missing_Low', 'Missing_Close', 'Missing_Volume', 'Missing_VWAP', 'Missing_Target']\n",
    "missing_df"
   ]
  },
  {
   "attachments": {},
   "cell_type": "markdown",
   "metadata": {},
   "source": [
    "# Data preprocessing"
   ]
  },
  {
   "attachments": {},
   "cell_type": "markdown",
   "metadata": {},
   "source": [
    "## Dealing with missing data"
   ]
  },
  {
   "attachments": {},
   "cell_type": "markdown",
   "metadata": {},
   "source": [
    "### Missing time"
   ]
  },
  {
   "cell_type": "code",
   "execution_count": 14,
   "metadata": {},
   "outputs": [],
   "source": [
    "allcoin = pd.DataFrame([])\n",
    "for coin in asset_names:\n",
    "    coin_df = ctrain[ctrain[\"Asset_ID\"]==asset_names_dict[coin]].set_index(\"timestamp\")\n",
    "    coin_df_time = coin_df.reindex(range(coin_df.index[0],coin_df.index[-1]+60,60), method=\"pad\")    # range(star(opt.specifying at which position to start, default is 0), stop(opt.specifying at which position to stop, not included), step(specifying the incrementation, default is 1)) ;  df.fillna(), methods include backfill, bfill, pad, ffill and None, pad is the same as ffill actually https://pandas.pydata.org/docs/reference/api/pandas.DataFrame.fillna.html\n",
    "    allcoin = allcoin.append(coin_df_time)"
   ]
  },
  {
   "cell_type": "code",
   "execution_count": 15,
   "metadata": {},
   "outputs": [
    {
     "data": {
      "text/html": [
       "<div>\n",
       "<style scoped>\n",
       "    .dataframe tbody tr th:only-of-type {\n",
       "        vertical-align: middle;\n",
       "    }\n",
       "\n",
       "    .dataframe tbody tr th {\n",
       "        vertical-align: top;\n",
       "    }\n",
       "\n",
       "    .dataframe thead th {\n",
       "        text-align: right;\n",
       "    }\n",
       "</style>\n",
       "<table border=\"1\" class=\"dataframe\">\n",
       "  <thead>\n",
       "    <tr style=\"text-align: right;\">\n",
       "      <th></th>\n",
       "      <th>Asset_ID</th>\n",
       "      <th>Count</th>\n",
       "      <th>Open</th>\n",
       "      <th>High</th>\n",
       "      <th>Low</th>\n",
       "      <th>Close</th>\n",
       "      <th>Volume</th>\n",
       "      <th>VWAP</th>\n",
       "      <th>Target</th>\n",
       "    </tr>\n",
       "    <tr>\n",
       "      <th>timestamp</th>\n",
       "      <th></th>\n",
       "      <th></th>\n",
       "      <th></th>\n",
       "      <th></th>\n",
       "      <th></th>\n",
       "      <th></th>\n",
       "      <th></th>\n",
       "      <th></th>\n",
       "      <th></th>\n",
       "    </tr>\n",
       "  </thead>\n",
       "  <tbody>\n",
       "    <tr>\n",
       "      <th>1514764860</th>\n",
       "      <td>1</td>\n",
       "      <td>229.0</td>\n",
       "      <td>13835.194000</td>\n",
       "      <td>14013.8000</td>\n",
       "      <td>13666.1100</td>\n",
       "      <td>13850.176000</td>\n",
       "      <td>31.550062</td>\n",
       "      <td>13827.062093</td>\n",
       "      <td>-0.014643</td>\n",
       "    </tr>\n",
       "    <tr>\n",
       "      <th>1514764920</th>\n",
       "      <td>1</td>\n",
       "      <td>235.0</td>\n",
       "      <td>13835.036000</td>\n",
       "      <td>14052.3000</td>\n",
       "      <td>13680.0000</td>\n",
       "      <td>13828.102000</td>\n",
       "      <td>31.046432</td>\n",
       "      <td>13840.362591</td>\n",
       "      <td>-0.015037</td>\n",
       "    </tr>\n",
       "    <tr>\n",
       "      <th>1514764980</th>\n",
       "      <td>1</td>\n",
       "      <td>528.0</td>\n",
       "      <td>13823.900000</td>\n",
       "      <td>14000.4000</td>\n",
       "      <td>13601.0000</td>\n",
       "      <td>13801.314000</td>\n",
       "      <td>55.061820</td>\n",
       "      <td>13806.068014</td>\n",
       "      <td>-0.010309</td>\n",
       "    </tr>\n",
       "    <tr>\n",
       "      <th>1514765040</th>\n",
       "      <td>1</td>\n",
       "      <td>435.0</td>\n",
       "      <td>13802.512000</td>\n",
       "      <td>13999.0000</td>\n",
       "      <td>13576.2800</td>\n",
       "      <td>13768.040000</td>\n",
       "      <td>38.780529</td>\n",
       "      <td>13783.598101</td>\n",
       "      <td>-0.008999</td>\n",
       "    </tr>\n",
       "    <tr>\n",
       "      <th>1514765100</th>\n",
       "      <td>1</td>\n",
       "      <td>742.0</td>\n",
       "      <td>13766.000000</td>\n",
       "      <td>13955.9000</td>\n",
       "      <td>13554.4400</td>\n",
       "      <td>13724.914000</td>\n",
       "      <td>108.501637</td>\n",
       "      <td>13735.586842</td>\n",
       "      <td>-0.008079</td>\n",
       "    </tr>\n",
       "    <tr>\n",
       "      <th>...</th>\n",
       "      <td>...</td>\n",
       "      <td>...</td>\n",
       "      <td>...</td>\n",
       "      <td>...</td>\n",
       "      <td>...</td>\n",
       "      <td>...</td>\n",
       "      <td>...</td>\n",
       "      <td>...</td>\n",
       "      <td>...</td>\n",
       "    </tr>\n",
       "    <tr>\n",
       "      <th>1632182160</th>\n",
       "      <td>10</td>\n",
       "      <td>32.0</td>\n",
       "      <td>2432.374125</td>\n",
       "      <td>2434.6565</td>\n",
       "      <td>2424.0000</td>\n",
       "      <td>2425.832500</td>\n",
       "      <td>0.908325</td>\n",
       "      <td>2428.051855</td>\n",
       "      <td>NaN</td>\n",
       "    </tr>\n",
       "    <tr>\n",
       "      <th>1632182220</th>\n",
       "      <td>10</td>\n",
       "      <td>22.0</td>\n",
       "      <td>2423.134450</td>\n",
       "      <td>2426.0000</td>\n",
       "      <td>2417.0000</td>\n",
       "      <td>2419.437500</td>\n",
       "      <td>1.070306</td>\n",
       "      <td>2420.973654</td>\n",
       "      <td>NaN</td>\n",
       "    </tr>\n",
       "    <tr>\n",
       "      <th>1632182280</th>\n",
       "      <td>10</td>\n",
       "      <td>51.0</td>\n",
       "      <td>2417.673900</td>\n",
       "      <td>2423.0000</td>\n",
       "      <td>2414.0000</td>\n",
       "      <td>2421.112000</td>\n",
       "      <td>8.953943</td>\n",
       "      <td>2419.701730</td>\n",
       "      <td>NaN</td>\n",
       "    </tr>\n",
       "    <tr>\n",
       "      <th>1632182340</th>\n",
       "      <td>10</td>\n",
       "      <td>63.0</td>\n",
       "      <td>2424.459500</td>\n",
       "      <td>2439.0000</td>\n",
       "      <td>2420.4780</td>\n",
       "      <td>2435.652250</td>\n",
       "      <td>6.107466</td>\n",
       "      <td>2432.949907</td>\n",
       "      <td>NaN</td>\n",
       "    </tr>\n",
       "    <tr>\n",
       "      <th>1632182400</th>\n",
       "      <td>10</td>\n",
       "      <td>34.0</td>\n",
       "      <td>2437.065067</td>\n",
       "      <td>2438.0000</td>\n",
       "      <td>2430.2269</td>\n",
       "      <td>2432.907467</td>\n",
       "      <td>3.975460</td>\n",
       "      <td>2434.818747</td>\n",
       "      <td>NaN</td>\n",
       "    </tr>\n",
       "  </tbody>\n",
       "</table>\n",
       "<p>26080043 rows × 9 columns</p>\n",
       "</div>"
      ],
      "text/plain": [
       "            Asset_ID  Count          Open        High         Low  \\\n",
       "timestamp                                                           \n",
       "1514764860         1  229.0  13835.194000  14013.8000  13666.1100   \n",
       "1514764920         1  235.0  13835.036000  14052.3000  13680.0000   \n",
       "1514764980         1  528.0  13823.900000  14000.4000  13601.0000   \n",
       "1514765040         1  435.0  13802.512000  13999.0000  13576.2800   \n",
       "1514765100         1  742.0  13766.000000  13955.9000  13554.4400   \n",
       "...              ...    ...           ...         ...         ...   \n",
       "1632182160        10   32.0   2432.374125   2434.6565   2424.0000   \n",
       "1632182220        10   22.0   2423.134450   2426.0000   2417.0000   \n",
       "1632182280        10   51.0   2417.673900   2423.0000   2414.0000   \n",
       "1632182340        10   63.0   2424.459500   2439.0000   2420.4780   \n",
       "1632182400        10   34.0   2437.065067   2438.0000   2430.2269   \n",
       "\n",
       "                   Close      Volume          VWAP    Target  \n",
       "timestamp                                                     \n",
       "1514764860  13850.176000   31.550062  13827.062093 -0.014643  \n",
       "1514764920  13828.102000   31.046432  13840.362591 -0.015037  \n",
       "1514764980  13801.314000   55.061820  13806.068014 -0.010309  \n",
       "1514765040  13768.040000   38.780529  13783.598101 -0.008999  \n",
       "1514765100  13724.914000  108.501637  13735.586842 -0.008079  \n",
       "...                  ...         ...           ...       ...  \n",
       "1632182160   2425.832500    0.908325   2428.051855       NaN  \n",
       "1632182220   2419.437500    1.070306   2420.973654       NaN  \n",
       "1632182280   2421.112000    8.953943   2419.701730       NaN  \n",
       "1632182340   2435.652250    6.107466   2432.949907       NaN  \n",
       "1632182400   2432.907467    3.975460   2434.818747       NaN  \n",
       "\n",
       "[26080043 rows x 9 columns]"
      ]
     },
     "execution_count": 15,
     "metadata": {},
     "output_type": "execute_result"
    }
   ],
   "source": [
    "allcoin"
   ]
  },
  {
   "cell_type": "code",
   "execution_count": 16,
   "metadata": {},
   "outputs": [
    {
     "data": {
      "text/plain": [
       " 60           26080029\n",
       "-117417540           7\n",
       "-108226140           1\n",
       "-77102760            1\n",
       "-113357220           1\n",
       "Name: timestamp, dtype: int64"
      ]
     },
     "execution_count": 16,
     "metadata": {},
     "output_type": "execute_result"
    }
   ],
   "source": [
    "(allcoin.index[1:]-allcoin.index[:-1]).value_counts().head() #check if there is some surprise that we don't want, those ten hug time gap should be the gap between the end time of one currency and the start time of another one"
   ]
  },
  {
   "cell_type": "code",
   "execution_count": 17,
   "metadata": {},
   "outputs": [
    {
     "name": "stdout",
     "output_type": "stream",
     "text": [
      "Original Dataset Null Summary\n"
     ]
    },
    {
     "data": {
      "text/plain": [
       "timestamp         0\n",
       "Asset_ID          0\n",
       "Count             0\n",
       "Open              0\n",
       "High              0\n",
       "Low               0\n",
       "Close             0\n",
       "Volume            0\n",
       "VWAP              9\n",
       "Target       750338\n",
       "dtype: int64"
      ]
     },
     "execution_count": 17,
     "metadata": {},
     "output_type": "execute_result"
    }
   ],
   "source": [
    "print('Original Dataset Null Summary')\n",
    "ctrain.isnull().sum()"
   ]
  },
  {
   "cell_type": "code",
   "execution_count": 18,
   "metadata": {},
   "outputs": [
    {
     "name": "stdout",
     "output_type": "stream",
     "text": [
      "Modified Dataset Null Summary\n"
     ]
    },
    {
     "data": {
      "text/plain": [
       "Asset_ID          0\n",
       "Count             0\n",
       "Open              0\n",
       "High              0\n",
       "Low               0\n",
       "Close             0\n",
       "Volume            0\n",
       "VWAP             18\n",
       "Target      2593032\n",
       "dtype: int64"
      ]
     },
     "execution_count": 18,
     "metadata": {},
     "output_type": "execute_result"
    }
   ],
   "source": [
    "print('Modified Dataset Null Summary')  \n",
    "allcoin.isnull().sum()\n",
    "\n",
    "# it shows that we add 1,842,694(2593032-750338) rows after dealing with the missing timestamps"
   ]
  },
  {
   "attachments": {},
   "cell_type": "markdown",
   "metadata": {},
   "source": [
    "### Log Return"
   ]
  },
  {
   "attachments": {},
   "cell_type": "markdown",
   "metadata": {},
   "source": [
    "Removing Variability Using Logarithmic Transformation\n",
    "Since the data shows changing variance over time, the first thing we will do to stabilize the variance by applying log transformation using the log() function. The resulting series will be a linear time series.\n",
    "\n",
    "Removing Linear Trend\n",
    "Then we perform the first difference transformation z(t) - z(t-1) to our series to remove the linear trend\n"
   ]
  },
  {
   "cell_type": "code",
   "execution_count": 19,
   "metadata": {},
   "outputs": [],
   "source": [
    "def log_return(series, periods = 1):\n",
    "    return np.log(series).diff(periods=periods)\n",
    "\n",
    "allcoinlret = pd.DataFrame([])\n",
    "for coin in asset_names:\n",
    "    coin_df = ctrain[ctrain[\"Asset_ID\"]==asset_names_dict[coin]].set_index(\"timestamp\")\n",
    "    coin_lret = log_return(coin_df.Close)[1:]\n",
    "    allcoinlret = allcoinlret.join(coin_lret, rsuffix= coin, how = \"outer\") # rsuffix - add appendix from the right(Close➡️CloseEthereum) the usage of merge,join, concat and compare https://pandas.pydata.org/pandas-docs/stable/user_guide/merging.html"
   ]
  },
  {
   "cell_type": "code",
   "execution_count": 20,
   "metadata": {},
   "outputs": [
    {
     "data": {
      "text/html": [
       "<div>\n",
       "<style scoped>\n",
       "    .dataframe tbody tr th:only-of-type {\n",
       "        vertical-align: middle;\n",
       "    }\n",
       "\n",
       "    .dataframe tbody tr th {\n",
       "        vertical-align: top;\n",
       "    }\n",
       "\n",
       "    .dataframe thead th {\n",
       "        text-align: right;\n",
       "    }\n",
       "</style>\n",
       "<table border=\"1\" class=\"dataframe\">\n",
       "  <thead>\n",
       "    <tr style=\"text-align: right;\">\n",
       "      <th></th>\n",
       "      <th>Close</th>\n",
       "      <th>CloseEthereum</th>\n",
       "      <th>CloseCardano</th>\n",
       "      <th>CloseBinance Coin</th>\n",
       "      <th>CloseDogecoin</th>\n",
       "      <th>CloseBitcoin Cash</th>\n",
       "      <th>CloseLitecoin</th>\n",
       "      <th>CloseEthereum Classic</th>\n",
       "      <th>CloseStellar</th>\n",
       "      <th>CloseTRON</th>\n",
       "      <th>CloseMonero</th>\n",
       "      <th>CloseEOS.IO</th>\n",
       "      <th>CloseIOTA</th>\n",
       "      <th>CloseMaker</th>\n",
       "    </tr>\n",
       "    <tr>\n",
       "      <th>timestamp</th>\n",
       "      <th></th>\n",
       "      <th></th>\n",
       "      <th></th>\n",
       "      <th></th>\n",
       "      <th></th>\n",
       "      <th></th>\n",
       "      <th></th>\n",
       "      <th></th>\n",
       "      <th></th>\n",
       "      <th></th>\n",
       "      <th></th>\n",
       "      <th></th>\n",
       "      <th></th>\n",
       "      <th></th>\n",
       "    </tr>\n",
       "  </thead>\n",
       "  <tbody>\n",
       "    <tr>\n",
       "      <th>1514764920</th>\n",
       "      <td>-0.001595</td>\n",
       "      <td>-0.000335</td>\n",
       "      <td>NaN</td>\n",
       "      <td>-0.001819</td>\n",
       "      <td>NaN</td>\n",
       "      <td>-0.000970</td>\n",
       "      <td>-0.001555</td>\n",
       "      <td>0.000773</td>\n",
       "      <td>NaN</td>\n",
       "      <td>NaN</td>\n",
       "      <td>-0.000030</td>\n",
       "      <td>-0.000118</td>\n",
       "      <td>NaN</td>\n",
       "      <td>NaN</td>\n",
       "    </tr>\n",
       "    <tr>\n",
       "      <th>1514764980</th>\n",
       "      <td>-0.001939</td>\n",
       "      <td>-0.001027</td>\n",
       "      <td>NaN</td>\n",
       "      <td>-0.003494</td>\n",
       "      <td>NaN</td>\n",
       "      <td>-0.000094</td>\n",
       "      <td>0.005072</td>\n",
       "      <td>0.021866</td>\n",
       "      <td>NaN</td>\n",
       "      <td>NaN</td>\n",
       "      <td>-0.000790</td>\n",
       "      <td>-0.000719</td>\n",
       "      <td>NaN</td>\n",
       "      <td>NaN</td>\n",
       "    </tr>\n",
       "    <tr>\n",
       "      <th>1514765040</th>\n",
       "      <td>-0.002414</td>\n",
       "      <td>-0.000543</td>\n",
       "      <td>NaN</td>\n",
       "      <td>0.001896</td>\n",
       "      <td>NaN</td>\n",
       "      <td>-0.000631</td>\n",
       "      <td>-0.007662</td>\n",
       "      <td>-0.000756</td>\n",
       "      <td>NaN</td>\n",
       "      <td>NaN</td>\n",
       "      <td>-0.003134</td>\n",
       "      <td>-0.002015</td>\n",
       "      <td>NaN</td>\n",
       "      <td>NaN</td>\n",
       "    </tr>\n",
       "    <tr>\n",
       "      <th>1514765100</th>\n",
       "      <td>-0.003137</td>\n",
       "      <td>-0.001898</td>\n",
       "      <td>NaN</td>\n",
       "      <td>-0.005296</td>\n",
       "      <td>NaN</td>\n",
       "      <td>-0.000166</td>\n",
       "      <td>-0.002031</td>\n",
       "      <td>-0.000473</td>\n",
       "      <td>NaN</td>\n",
       "      <td>NaN</td>\n",
       "      <td>-0.002227</td>\n",
       "      <td>-0.003385</td>\n",
       "      <td>NaN</td>\n",
       "      <td>NaN</td>\n",
       "    </tr>\n",
       "    <tr>\n",
       "      <th>1514765160</th>\n",
       "      <td>-0.000569</td>\n",
       "      <td>-0.000687</td>\n",
       "      <td>NaN</td>\n",
       "      <td>-0.006645</td>\n",
       "      <td>NaN</td>\n",
       "      <td>-0.001134</td>\n",
       "      <td>-0.003099</td>\n",
       "      <td>-0.001401</td>\n",
       "      <td>NaN</td>\n",
       "      <td>NaN</td>\n",
       "      <td>0.013680</td>\n",
       "      <td>-0.005006</td>\n",
       "      <td>NaN</td>\n",
       "      <td>NaN</td>\n",
       "    </tr>\n",
       "    <tr>\n",
       "      <th>...</th>\n",
       "      <td>...</td>\n",
       "      <td>...</td>\n",
       "      <td>...</td>\n",
       "      <td>...</td>\n",
       "      <td>...</td>\n",
       "      <td>...</td>\n",
       "      <td>...</td>\n",
       "      <td>...</td>\n",
       "      <td>...</td>\n",
       "      <td>...</td>\n",
       "      <td>...</td>\n",
       "      <td>...</td>\n",
       "      <td>...</td>\n",
       "      <td>...</td>\n",
       "    </tr>\n",
       "    <tr>\n",
       "      <th>1632182160</th>\n",
       "      <td>-0.002007</td>\n",
       "      <td>-0.003137</td>\n",
       "      <td>-0.007796</td>\n",
       "      <td>-0.003282</td>\n",
       "      <td>-0.003144</td>\n",
       "      <td>-0.002363</td>\n",
       "      <td>-0.002359</td>\n",
       "      <td>-0.001912</td>\n",
       "      <td>-0.003261</td>\n",
       "      <td>-0.002754</td>\n",
       "      <td>-0.002766</td>\n",
       "      <td>-0.003516</td>\n",
       "      <td>-0.004869</td>\n",
       "      <td>-0.003641</td>\n",
       "    </tr>\n",
       "    <tr>\n",
       "      <th>1632182220</th>\n",
       "      <td>-0.000910</td>\n",
       "      <td>-0.001305</td>\n",
       "      <td>-0.000610</td>\n",
       "      <td>-0.001980</td>\n",
       "      <td>-0.002531</td>\n",
       "      <td>-0.005945</td>\n",
       "      <td>-0.003906</td>\n",
       "      <td>-0.004158</td>\n",
       "      <td>-0.002748</td>\n",
       "      <td>-0.003939</td>\n",
       "      <td>-0.003065</td>\n",
       "      <td>-0.002115</td>\n",
       "      <td>-0.002737</td>\n",
       "      <td>-0.002640</td>\n",
       "    </tr>\n",
       "    <tr>\n",
       "      <th>1632182280</th>\n",
       "      <td>-0.000770</td>\n",
       "      <td>-0.001165</td>\n",
       "      <td>-0.000583</td>\n",
       "      <td>-0.000945</td>\n",
       "      <td>-0.000596</td>\n",
       "      <td>0.000158</td>\n",
       "      <td>-0.001038</td>\n",
       "      <td>-0.001059</td>\n",
       "      <td>-0.002100</td>\n",
       "      <td>-0.000041</td>\n",
       "      <td>-0.000551</td>\n",
       "      <td>-0.000822</td>\n",
       "      <td>-0.001528</td>\n",
       "      <td>0.000692</td>\n",
       "    </tr>\n",
       "    <tr>\n",
       "      <th>1632182340</th>\n",
       "      <td>0.004433</td>\n",
       "      <td>0.006670</td>\n",
       "      <td>0.007448</td>\n",
       "      <td>0.006217</td>\n",
       "      <td>0.008783</td>\n",
       "      <td>0.006913</td>\n",
       "      <td>0.005811</td>\n",
       "      <td>0.005138</td>\n",
       "      <td>0.005839</td>\n",
       "      <td>0.005122</td>\n",
       "      <td>0.004771</td>\n",
       "      <td>0.005493</td>\n",
       "      <td>0.007462</td>\n",
       "      <td>0.005988</td>\n",
       "    </tr>\n",
       "    <tr>\n",
       "      <th>1632182400</th>\n",
       "      <td>-0.000343</td>\n",
       "      <td>-0.001542</td>\n",
       "      <td>-0.000514</td>\n",
       "      <td>-0.000981</td>\n",
       "      <td>-0.001569</td>\n",
       "      <td>-0.002709</td>\n",
       "      <td>-0.001790</td>\n",
       "      <td>-0.000206</td>\n",
       "      <td>-0.000095</td>\n",
       "      <td>0.000253</td>\n",
       "      <td>0.000073</td>\n",
       "      <td>-0.000713</td>\n",
       "      <td>-0.001558</td>\n",
       "      <td>-0.001128</td>\n",
       "    </tr>\n",
       "  </tbody>\n",
       "</table>\n",
       "<p>1956781 rows × 14 columns</p>\n",
       "</div>"
      ],
      "text/plain": [
       "               Close  CloseEthereum  CloseCardano  CloseBinance Coin  \\\n",
       "timestamp                                                              \n",
       "1514764920 -0.001595      -0.000335           NaN          -0.001819   \n",
       "1514764980 -0.001939      -0.001027           NaN          -0.003494   \n",
       "1514765040 -0.002414      -0.000543           NaN           0.001896   \n",
       "1514765100 -0.003137      -0.001898           NaN          -0.005296   \n",
       "1514765160 -0.000569      -0.000687           NaN          -0.006645   \n",
       "...              ...            ...           ...                ...   \n",
       "1632182160 -0.002007      -0.003137     -0.007796          -0.003282   \n",
       "1632182220 -0.000910      -0.001305     -0.000610          -0.001980   \n",
       "1632182280 -0.000770      -0.001165     -0.000583          -0.000945   \n",
       "1632182340  0.004433       0.006670      0.007448           0.006217   \n",
       "1632182400 -0.000343      -0.001542     -0.000514          -0.000981   \n",
       "\n",
       "            CloseDogecoin  CloseBitcoin Cash  CloseLitecoin  \\\n",
       "timestamp                                                     \n",
       "1514764920            NaN          -0.000970      -0.001555   \n",
       "1514764980            NaN          -0.000094       0.005072   \n",
       "1514765040            NaN          -0.000631      -0.007662   \n",
       "1514765100            NaN          -0.000166      -0.002031   \n",
       "1514765160            NaN          -0.001134      -0.003099   \n",
       "...                   ...                ...            ...   \n",
       "1632182160      -0.003144          -0.002363      -0.002359   \n",
       "1632182220      -0.002531          -0.005945      -0.003906   \n",
       "1632182280      -0.000596           0.000158      -0.001038   \n",
       "1632182340       0.008783           0.006913       0.005811   \n",
       "1632182400      -0.001569          -0.002709      -0.001790   \n",
       "\n",
       "            CloseEthereum Classic  CloseStellar  CloseTRON  CloseMonero  \\\n",
       "timestamp                                                                 \n",
       "1514764920               0.000773           NaN        NaN    -0.000030   \n",
       "1514764980               0.021866           NaN        NaN    -0.000790   \n",
       "1514765040              -0.000756           NaN        NaN    -0.003134   \n",
       "1514765100              -0.000473           NaN        NaN    -0.002227   \n",
       "1514765160              -0.001401           NaN        NaN     0.013680   \n",
       "...                           ...           ...        ...          ...   \n",
       "1632182160              -0.001912     -0.003261  -0.002754    -0.002766   \n",
       "1632182220              -0.004158     -0.002748  -0.003939    -0.003065   \n",
       "1632182280              -0.001059     -0.002100  -0.000041    -0.000551   \n",
       "1632182340               0.005138      0.005839   0.005122     0.004771   \n",
       "1632182400              -0.000206     -0.000095   0.000253     0.000073   \n",
       "\n",
       "            CloseEOS.IO  CloseIOTA  CloseMaker  \n",
       "timestamp                                       \n",
       "1514764920    -0.000118        NaN         NaN  \n",
       "1514764980    -0.000719        NaN         NaN  \n",
       "1514765040    -0.002015        NaN         NaN  \n",
       "1514765100    -0.003385        NaN         NaN  \n",
       "1514765160    -0.005006        NaN         NaN  \n",
       "...                 ...        ...         ...  \n",
       "1632182160    -0.003516  -0.004869   -0.003641  \n",
       "1632182220    -0.002115  -0.002737   -0.002640  \n",
       "1632182280    -0.000822  -0.001528    0.000692  \n",
       "1632182340     0.005493   0.007462    0.005988  \n",
       "1632182400    -0.000713  -0.001558   -0.001128  \n",
       "\n",
       "[1956781 rows x 14 columns]"
      ]
     },
     "execution_count": 20,
     "metadata": {},
     "output_type": "execute_result"
    }
   ],
   "source": [
    "allcoinlret"
   ]
  },
  {
   "attachments": {},
   "cell_type": "markdown",
   "metadata": {},
   "source": [
    "# Data Visualisation"
   ]
  },
  {
   "attachments": {},
   "cell_type": "markdown",
   "metadata": {},
   "source": [
    "## Subgroup and Define Function for Data Visualisation and Comparison "
   ]
  },
  {
   "cell_type": "code",
   "execution_count": 185,
   "metadata": {},
   "outputs": [],
   "source": [
    "totimestamp = lambda s: np.int32(time.mktime(datetime.strptime(s,\"%d/%m/%Y\").timetuple()))\n",
    "\n",
    "\n",
    "#Subgroup Bitcoin\n",
    "btc = allcoin[allcoin[\"Asset_ID\"]==1].loc[totimestamp(\"01/01/2021\"):totimestamp(\"21/09/2021\")]\n",
    "\n",
    "#Subgroup Ethereum\n",
    "eth = allcoin[allcoin[\"Asset_ID\"]==6].loc[totimestamp(\"01/01/2021\"):totimestamp(\"21/09/2021\")]\n",
    "\n",
    "#Subgroup Dogecoin\n",
    "doge = allcoin[allcoin[\"Asset_ID\"]==4].loc[totimestamp(\"01/01/2021\"):totimestamp(\"21/09/2021\")]\n"
   ]
  },
  {
   "cell_type": "code",
   "execution_count": 173,
   "metadata": {},
   "outputs": [],
   "source": [
    "#Define a function to plot the closing price and return for btc, eth and doge\n",
    "\n",
    "def gplot(no, data, porret, label, ylabel, color):\n",
    "    fig = plt.figure(figsize = (6,9))\n",
    "    ax = fig.add_subplot(no)\n",
    "    plt.plot(data[porret], label = label, color = color)\n",
    "    plt.legend()\n",
    "    plt.xlabel(\"Time\")\n",
    "    plt.ylabel(ylabel)\n",
    "    plt.tight_layout()\n",
    "    plt.show()\n"
   ]
  },
  {
   "cell_type": "code",
   "execution_count": 176,
   "metadata": {},
   "outputs": [],
   "source": [
    "#Defind a function to draw candlestick charts\n",
    "\n",
    "def cschart(data, label):\n",
    "    data_recent = data.iloc[-90:]\n",
    "    csc_fig = plt.figure(figsize = (6,9))\n",
    "    csc_fig = go.Figure([go.Candlestick(x = data_recent.index, open = data_recent['Open'], high = data_recent['High'], low = data_recent['Low'], close = data_recent['Close'])])\n",
    "    csc_fig.update_layout(title = {'text':'{:} Candlestick Chart'.format(label), \"y\":0.9, \"x\":0.5, 'xanchor':'center', 'yanchor':'top'})\n",
    "    csc_fig.update_xaxes(title_text = 'Time')\n",
    "    csc_fig.update_yaxes(title_text = 'Price in USD', ticksuffix = '$')\n",
    "    csc_fig.plt.tight_layout()\n",
    "    csc_fig.show()"
   ]
  },
  {
   "attachments": {},
   "cell_type": "markdown",
   "metadata": {},
   "source": [
    "## Closing Price Trend (Period: year 2021)"
   ]
  },
  {
   "cell_type": "code",
   "execution_count": 174,
   "metadata": {},
   "outputs": [
    {
     "data": {
      "image/png": "[encoded data removed]",
      "text/plain": [
       "<Figure size 600x900 with 1 Axes>"
      ]
     },
     "metadata": {},
     "output_type": "display_data"
    },
    {
     "data": {
      "image/png": "[encoded data removed]",
      "text/plain": [
       "<Figure size 600x900 with 1 Axes>"
      ]
     },
     "metadata": {},
     "output_type": "display_data"
    },
    {
     "data": {
      "image/png": "[encoded data removed]",
      "text/plain": [
       "<Figure size 600x900 with 1 Axes>"
      ]
     },
     "metadata": {},
     "output_type": "display_data"
    }
   ],
   "source": [
    "#BTC Price Trend\n",
    "gplot(no = 311, data = btc,  porret = \"Close\", label = \"BTC Overall Closing Price Trend\", ylabel = \"BTC Closing Price\", color = \"#FFC0CB\" )\n",
    "\n",
    "#ETH Price Trend\n",
    "gplot(no = 312, data = eth, porret = \"Close\", label = \"ETH Overall Closing Price Trend\", ylabel = \"ETH Closing Price\", color = \"#ff81c0\" )\n",
    "\n",
    "#DOGE Price Trend\n",
    "gplot(no = 313, data = doge, porret = \"Close\", label = \"DOGE Overall Closing Price Trend\", ylabel = \"DOGE Closing Price\", color = \"#dda0dd\" )\n"
   ]
  },
  {
   "attachments": {},
   "cell_type": "markdown",
   "metadata": {},
   "source": [
    "The trend charts show that Bitcoin and Ethereum have similar price trend, while Dogecoin, which is xxxxxxx"
   ]
  },
  {
   "attachments": {},
   "cell_type": "markdown",
   "metadata": {},
   "source": [
    "## Return Trend"
   ]
  },
  {
   "cell_type": "code",
   "execution_count": 177,
   "metadata": {},
   "outputs": [
    {
     "data": {
      "image/png": "[encoded data removed]",
      "text/plain": [
       "<Figure size 600x900 with 1 Axes>"
      ]
     },
     "metadata": {},
     "output_type": "display_data"
    },
    {
     "data": {
      "image/png": "[encoded data removed]",
      "text/plain": [
       "<Figure size 600x900 with 1 Axes>"
      ]
     },
     "metadata": {},
     "output_type": "display_data"
    },
    {
     "data": {
      "image/png": "[encoded data removed]",
      "text/plain": [
       "<Figure size 600x900 with 1 Axes>"
      ]
     },
     "metadata": {},
     "output_type": "display_data"
    }
   ],
   "source": [
    "#BTC Return Trend\n",
    "gplot(no = 311, data = btc, porret = \"Target\", label = \"BTC Overall 15min Residual Return Trend\", ylabel = \"BTC Residual Return\", color = \"#FFC0CB\" )\n",
    "\n",
    "#ETH Return Trend\n",
    "gplot(no = 312, data = eth, porret = \"Target\", label = \"ETH Overall 15min Residual Return Trend\", ylabel = \"ETH Residual Return\", color = \"#ff81c0\" )\n",
    "\n",
    "#DOGE Return Trend\n",
    "gplot(no = 313, data = doge, porret = \"Target\", label = \"DOGE Overall 15min Residual Return Trend\", ylabel = \"DOGE Residual Return\", color = \"#dda0dd\" )"
   ]
  },
  {
   "attachments": {},
   "cell_type": "markdown",
   "metadata": {},
   "source": [
    "## Candlestick Chart （Period: 21/09/2021)"
   ]
  },
  {
   "cell_type": "code",
   "execution_count": 87,
   "metadata": {},
   "outputs": [
    {
     "data": {
      "application/vnd.plotly.v1+json": {
       "config": {
        "plotlyServerURL": "https://plot.ly"
       },
       "data": [
        {
         "close": [
          43797.20571428572,
          43798.15714285714,
          43804.61142857144,
          43831.59142857143,
          43871.69625,
          43897.16857142858,
          43901.38285714285,
          43883.25895342144,
          43862.52,
          43894.77857142857,
          43866.73499999999,
          43845.84857142857,
          43823.298571428575,
          43752.76714285714,
          43703.374285714286,
          43669.07857142857,
          43642.77285714285,
          43615.38,
          43504.42428571429,
          43367.88571428572,
          43316.7225,
          43295.04428571429,
          43250.16571428572,
          43075.9025,
          43232.90125,
          43259.1575,
          43293.7075,
          43305.09857142857,
          43327.79,
          43356.28068103,
          43344.55857142858,
          43484.61375,
          43580.82375,
          43470.794999999984,
          43198.788571428566,
          43213.69,
          43269.54714285715,
          43239.26125,
          43114.23614144125,
          43067.63,
          43060.81,
          42991.2775,
          42989.62375,
          43219.33125,
          43140.19135458125,
          43198.24000000001,
          43110.797500000015,
          43157.72298172143,
          43099.1575,
          43051.08285714287,
          42966.91285714286,
          43009.43142857143,
          42880.67875,
          42822.040000000015,
          42699.178750000014,
          42778.885,
          42779.71,
          42700.44625,
          42659.58241635572,
          42600.39625,
          42624.279999999984,
          42577,
          42679.60625,
          42678.21816655625,
          42762.514285714286,
          42825.295,
          42736.6525,
          42769.39571428571,
          42637.115,
          42703.63625,
          42781.97057111125,
          42755.5925,
          42717.23428571428,
          42657.20249999999,
          42678.72142857143,
          42778.29125,
          42790.17571428571,
          42731.73142857143,
          42898.565,
          42939.64571428572,
          42927.167142857135,
          42979.83375,
          42960.60142857144,
          42985.48285714286,
          42985.21482412572,
          42899.01285714287,
          42860.00571428572,
          42827.02,
          43017.277142857136,
          43002.505
         ],
         "high": [
          43818.6,
          43818.4,
          43821.1,
          43840.7,
          43910.99,
          43912.1,
          43940,
          43912,
          43908.5,
          43906.71,
          43906.73,
          43874.98,
          43851.4,
          43843.87,
          43782.1,
          43721.3,
          43699.8,
          43679.99,
          43633.3,
          43560.02,
          43417.91,
          43354.59,
          43359.44,
          43259.3,
          43281,
          43301.61947119,
          43320.02,
          43348.22,
          43366,
          43391.85,
          43376,
          43546.61,
          43640,
          43627,
          43455,
          43276.57,
          43366,
          43288.47,
          43287.5,
          43133.15,
          43099.98,
          43072.2,
          43069.67,
          43289.9,
          43350.5,
          43229.1,
          43247.5,
          43193.54,
          43172.9,
          43122,
          43082.02,
          43029.49,
          43015,
          42897,
          42884.85,
          42836.33,
          42811,
          42852,
          42719.98,
          42779.1,
          42703.01,
          42650,
          42705,
          42802.54,
          42862,
          42877.82,
          42846,
          42833.9,
          42841.99,
          42736.9,
          42819.38,
          42827.1,
          42811.3,
          42752,
          42715.99,
          42810.26,
          42828,
          42827.7,
          42937.31,
          42966.98,
          42971.95,
          43014.98,
          43005.65,
          43008.85,
          43006.54,
          43001.85084871,
          42932,
          42887.5,
          43042.16,
          43048.51
         ],
         "low": [
          43766.7,
          43757.17,
          43782.18,
          43795.58,
          43823.74,
          43842.5,
          43875.72,
          43866.3,
          43847,
          43835.66,
          43850.16,
          43832.56,
          43813.11,
          43746,
          43687,
          43650.01,
          43627.29,
          43600,
          43499.99,
          43350.4,
          43295.74,
          43278.42,
          43221.04,
          43003.84,
          43067,
          43172.38,
          43172,
          43220.67,
          43261.3,
          43333.51,
          43283.1,
          43335.64,
          43441.56,
          43428.8,
          43172.9,
          43133.08,
          43209.9,
          43218.81,
          43062.9,
          43050.9,
          43019.49,
          42930.14,
          42967.33,
          42969.79,
          43106.01,
          43026.47,
          43092.88,
          43064.36,
          43058.56,
          43007.67,
          42898.8,
          42900,
          42801,
          42795.45,
          42659.29112887,
          42660.05,
          42651.4,
          42672.8,
          42640,
          42575,
          42579.4,
          42515.09,
          42548.09,
          42626.61,
          42660.7,
          42743.68,
          42688.55,
          42731.17,
          42600,
          42607.5,
          42690.84,
          42690.75,
          42694.37,
          42636.76,
          42630.17,
          42662.27,
          42742.36,
          42713.48,
          42713.48,
          42852.07,
          42899.1,
          42907.18,
          42929.74,
          42953.1,
          42958.06,
          42878.26,
          42840.16,
          42797.2,
          42818.1,
          42961.64
         ],
         "open": [
          43798.41857142857,
          43794.84032981571,
          43807.66285714285,
          43807.34428571429,
          43836.9875,
          43872.08714285714,
          43900.88857142856,
          43901.008571428574,
          43890.30857142857,
          43858.474285714285,
          43893.88166666668,
          43866.00571428572,
          43843.235714285714,
          43821.555714285714,
          43752.37,
          43704.62857142857,
          43671.72,
          43644.06142857143,
          43610.07408044428,
          43504.71428571428,
          43365.91375,
          43313.70812588,
          43296.055714285714,
          43239.0175,
          43092.85375,
          43251.94250000001,
          43264.50125,
          43307.44571428571,
          43296.88375,
          43341.862857142856,
          43353.12,
          43365.74875000001,
          43477.0875,
          43588.102500000015,
          43447.60285714286,
          43205.55625,
          43234.95285714286,
          43267.83,
          43229.50125,
          43106.66925542,
          43064.47714285714,
          43054.81000000001,
          43002.9225,
          42998.535,
          43227.1275,
          43122.16,
          43192.76624999999,
          43106.25997366144,
          43159.91625,
          43085.22049047715,
          43049.56714285714,
          42972.15714285714,
          42979.09125000001,
          42873.23000000002,
          42815.11375,
          42707.930000000015,
          42766.4325,
          42775.73125,
          42694.57285714285,
          42675.71750000001,
          42599.647142857146,
          42620.29375,
          42577.715,
          42683.24375,
          42673.72571428572,
          42768.39625000001,
          42819.91125,
          42750.58285714287,
          42760.10875,
          42632.465,
          42718.815,
          42772.92125,
          42762.29,
          42703.80250000001,
          42655.528483642855,
          42688.935,
          42790.287142857145,
          42792.855714285724,
          42745.15375,
          42896.17428571428,
          42937.78428571428,
          42933.25490686,
          42974.10869267286,
          42971.347142857136,
          42982.91571428572,
          42983.779999999984,
          42904.19714285714,
          42859.38571428572,
          42839.01280218857,
          43009.96125
         ],
         "type": "candlestick",
         "x": [
          1632177060,
          1632177120,
          1632177180,
          1632177240,
          1632177300,
          1632177360,
          1632177420,
          1632177480,
          1632177540,
          1632177600,
          1632177660,
          1632177720,
          1632177780,
          1632177840,
          1632177900,
          1632177960,
          1632178020,
          1632178080,
          1632178140,
          1632178200,
          1632178260,
          1632178320,
          1632178380,
          1632178440,
          1632178500,
          1632178560,
          1632178620,
          1632178680,
          1632178740,
          1632178800,
          1632178860,
          1632178920,
          1632178980,
          1632179040,
          1632179100,
          1632179160,
          1632179220,
          1632179280,
          1632179340,
          1632179400,
          1632179460,
          1632179520,
          1632179580,
          1632179640,
          1632179700,
          1632179760,
          1632179820,
          1632179880,
          1632179940,
          1632180000,
          1632180060,
          1632180120,
          1632180180,
          1632180240,
          1632180300,
          1632180360,
          1632180420,
          1632180480,
          1632180540,
          1632180600,
          1632180660,
          1632180720,
          1632180780,
          1632180840,
          1632180900,
          1632180960,
          1632181020,
          1632181080,
          1632181140,
          1632181200,
          1632181260,
          1632181320,
          1632181380,
          1632181440,
          1632181500,
          1632181560,
          1632181620,
          1632181680,
          1632181740,
          1632181800,
          1632181860,
          1632181920,
          1632181980,
          1632182040,
          1632182100,
          1632182160,
          1632182220,
          1632182280,
          1632182340,
          1632182400
         ]
        }
       ],
       "layout": {
        "template": {
         "data": {
          "bar": [
           {
            "error_x": {
             "color": "#2a3f5f"
            },
            "error_y": {
             "color": "#2a3f5f"
            },
            "marker": {
             "line": {
              "color": "#E5ECF6",
              "width": 0.5
             },
             "pattern": {
              "fillmode": "overlay",
              "size": 10,
              "solidity": 0.2
             }
            },
            "type": "bar"
           }
          ],
          "barpolar": [
           {
            "marker": {
             "line": {
              "color": "#E5ECF6",
              "width": 0.5
             },
             "pattern": {
              "fillmode": "overlay",
              "size": 10,
              "solidity": 0.2
             }
            },
            "type": "barpolar"
           }
          ],
          "carpet": [
           {
            "aaxis": {
             "endlinecolor": "#2a3f5f",
             "gridcolor": "white",
             "linecolor": "white",
             "minorgridcolor": "white",
             "startlinecolor": "#2a3f5f"
            },
            "baxis": {
             "endlinecolor": "#2a3f5f",
             "gridcolor": "white",
             "linecolor": "white",
             "minorgridcolor": "white",
             "startlinecolor": "#2a3f5f"
            },
            "type": "carpet"
           }
          ],
          "choropleth": [
           {
            "colorbar": {
             "outlinewidth": 0,
             "ticks": ""
            },
            "type": "choropleth"
           }
          ],
          "contour": [
           {
            "colorbar": {
             "outlinewidth": 0,
             "ticks": ""
            },
            "colorscale": [
             [
              0,
              "#0d0887"
             ],
             [
              0.1111111111111111,
              "#46039f"
             ],
             [
              0.2222222222222222,
              "#7201a8"
             ],
             [
              0.3333333333333333,
              "#9c179e"
             ],
             [
              0.4444444444444444,
              "#bd3786"
             ],
             [
              0.5555555555555556,
              "#d8576b"
             ],
             [
              0.6666666666666666,
              "#ed7953"
             ],
             [
              0.7777777777777778,
              "#fb9f3a"
             ],
             [
              0.8888888888888888,
              "#fdca26"
             ],
             [
              1,
              "#f0f921"
             ]
            ],
            "type": "contour"
           }
          ],
          "contourcarpet": [
           {
            "colorbar": {
             "outlinewidth": 0,
             "ticks": ""
            },
            "type": "contourcarpet"
           }
          ],
          "heatmap": [
           {
            "colorbar": {
             "outlinewidth": 0,
             "ticks": ""
            },
            "colorscale": [
             [
              0,
              "#0d0887"
             ],
             [
              0.1111111111111111,
              "#46039f"
             ],
             [
              0.2222222222222222,
              "#7201a8"
             ],
             [
              0.3333333333333333,
              "#9c179e"
             ],
             [
              0.4444444444444444,
              "#bd3786"
             ],
             [
              0.5555555555555556,
              "#d8576b"
             ],
             [
              0.6666666666666666,
              "#ed7953"
             ],
             [
              0.7777777777777778,
              "#fb9f3a"
             ],
             [
              0.8888888888888888,
              "#fdca26"
             ],
             [
              1,
              "#f0f921"
             ]
            ],
            "type": "heatmap"
           }
          ],
          "heatmapgl": [
           {
            "colorbar": {
             "outlinewidth": 0,
             "ticks": ""
            },
            "colorscale": [
             [
              0,
              "#0d0887"
             ],
             [
              0.1111111111111111,
              "#46039f"
             ],
             [
              0.2222222222222222,
              "#7201a8"
             ],
             [
              0.3333333333333333,
              "#9c179e"
             ],
             [
              0.4444444444444444,
              "#bd3786"
             ],
             [
              0.5555555555555556,
              "#d8576b"
             ],
             [
              0.6666666666666666,
              "#ed7953"
             ],
             [
              0.7777777777777778,
              "#fb9f3a"
             ],
             [
              0.8888888888888888,
              "#fdca26"
             ],
             [
              1,
              "#f0f921"
             ]
            ],
            "type": "heatmapgl"
           }
          ],
          "histogram": [
           {
            "marker": {
             "pattern": {
              "fillmode": "overlay",
              "size": 10,
              "solidity": 0.2
             }
            },
            "type": "histogram"
           }
          ],
          "histogram2d": [
           {
            "colorbar": {
             "outlinewidth": 0,
             "ticks": ""
            },
            "colorscale": [
             [
              0,
              "#0d0887"
             ],
             [
              0.1111111111111111,
              "#46039f"
             ],
             [
              0.2222222222222222,
              "#7201a8"
             ],
             [
              0.3333333333333333,
              "#9c179e"
             ],
             [
              0.4444444444444444,
              "#bd3786"
             ],
             [
              0.5555555555555556,
              "#d8576b"
             ],
             [
              0.6666666666666666,
              "#ed7953"
             ],
             [
              0.7777777777777778,
              "#fb9f3a"
             ],
             [
              0.8888888888888888,
              "#fdca26"
             ],
             [
              1,
              "#f0f921"
             ]
            ],
            "type": "histogram2d"
           }
          ],
          "histogram2dcontour": [
           {
            "colorbar": {
             "outlinewidth": 0,
             "ticks": ""
            },
            "colorscale": [
             [
              0,
              "#0d0887"
             ],
             [
              0.1111111111111111,
              "#46039f"
             ],
             [
              0.2222222222222222,
              "#7201a8"
             ],
             [
              0.3333333333333333,
              "#9c179e"
             ],
             [
              0.4444444444444444,
              "#bd3786"
             ],
             [
              0.5555555555555556,
              "#d8576b"
             ],
             [
              0.6666666666666666,
              "#ed7953"
             ],
             [
              0.7777777777777778,
              "#fb9f3a"
             ],
             [
              0.8888888888888888,
              "#fdca26"
             ],
             [
              1,
              "#f0f921"
             ]
            ],
            "type": "histogram2dcontour"
           }
          ],
          "mesh3d": [
           {
            "colorbar": {
             "outlinewidth": 0,
             "ticks": ""
            },
            "type": "mesh3d"
           }
          ],
          "parcoords": [
           {
            "line": {
             "colorbar": {
              "outlinewidth": 0,
              "ticks": ""
             }
            },
            "type": "parcoords"
           }
          ],
          "pie": [
           {
            "automargin": true,
            "type": "pie"
           }
          ],
          "scatter": [
           {
            "fillpattern": {
             "fillmode": "overlay",
             "size": 10,
             "solidity": 0.2
            },
            "type": "scatter"
           }
          ],
          "scatter3d": [
           {
            "line": {
             "colorbar": {
              "outlinewidth": 0,
              "ticks": ""
             }
            },
            "marker": {
             "colorbar": {
              "outlinewidth": 0,
              "ticks": ""
             }
            },
            "type": "scatter3d"
           }
          ],
          "scattercarpet": [
           {
            "marker": {
             "colorbar": {
              "outlinewidth": 0,
              "ticks": ""
             }
            },
            "type": "scattercarpet"
           }
          ],
          "scattergeo": [
           {
            "marker": {
             "colorbar": {
              "outlinewidth": 0,
              "ticks": ""
             }
            },
            "type": "scattergeo"
           }
          ],
          "scattergl": [
           {
            "marker": {
             "colorbar": {
              "outlinewidth": 0,
              "ticks": ""
             }
            },
            "type": "scattergl"
           }
          ],
          "scattermapbox": [
           {
            "marker": {
             "colorbar": {
              "outlinewidth": 0,
              "ticks": ""
             }
            },
            "type": "scattermapbox"
           }
          ],
          "scatterpolar": [
           {
            "marker": {
             "colorbar": {
              "outlinewidth": 0,
              "ticks": ""
             }
            },
            "type": "scatterpolar"
           }
          ],
          "scatterpolargl": [
           {
            "marker": {
             "colorbar": {
              "outlinewidth": 0,
              "ticks": ""
             }
            },
            "type": "scatterpolargl"
           }
          ],
          "scatterternary": [
           {
            "marker": {
             "colorbar": {
              "outlinewidth": 0,
              "ticks": ""
             }
            },
            "type": "scatterternary"
           }
          ],
          "surface": [
           {
            "colorbar": {
             "outlinewidth": 0,
             "ticks": ""
            },
            "colorscale": [
             [
              0,
              "#0d0887"
             ],
             [
              0.1111111111111111,
              "#46039f"
             ],
             [
              0.2222222222222222,
              "#7201a8"
             ],
             [
              0.3333333333333333,
              "#9c179e"
             ],
             [
              0.4444444444444444,
              "#bd3786"
             ],
             [
              0.5555555555555556,
              "#d8576b"
             ],
             [
              0.6666666666666666,
              "#ed7953"
             ],
             [
              0.7777777777777778,
              "#fb9f3a"
             ],
             [
              0.8888888888888888,
              "#fdca26"
             ],
             [
              1,
              "#f0f921"
             ]
            ],
            "type": "surface"
           }
          ],
          "table": [
           {
            "cells": {
             "fill": {
              "color": "#EBF0F8"
             },
             "line": {
              "color": "white"
             }
            },
            "header": {
             "fill": {
              "color": "#C8D4E3"
             },
             "line": {
              "color": "white"
             }
            },
            "type": "table"
           }
          ]
         },
         "layout": {
          "annotationdefaults": {
           "arrowcolor": "#2a3f5f",
           "arrowhead": 0,
           "arrowwidth": 1
          },
          "autotypenumbers": "strict",
          "coloraxis": {
           "colorbar": {
            "outlinewidth": 0,
            "ticks": ""
           }
          },
          "colorscale": {
           "diverging": [
            [
             0,
             "#8e0152"
            ],
            [
             0.1,
             "#c51b7d"
            ],
            [
             0.2,
             "#de77ae"
            ],
            [
             0.3,
             "#f1b6da"
            ],
            [
             0.4,
             "#fde0ef"
            ],
            [
             0.5,
             "#f7f7f7"
            ],
            [
             0.6,
             "#e6f5d0"
            ],
            [
             0.7,
             "#b8e186"
            ],
            [
             0.8,
             "#7fbc41"
            ],
            [
             0.9,
             "#4d9221"
            ],
            [
             1,
             "#276419"
            ]
           ],
           "sequential": [
            [
             0,
             "#0d0887"
            ],
            [
             0.1111111111111111,
             "#46039f"
            ],
            [
             0.2222222222222222,
             "#7201a8"
            ],
            [
             0.3333333333333333,
             "#9c179e"
            ],
            [
             0.4444444444444444,
             "#bd3786"
            ],
            [
             0.5555555555555556,
             "#d8576b"
            ],
            [
             0.6666666666666666,
             "#ed7953"
            ],
            [
             0.7777777777777778,
             "#fb9f3a"
            ],
            [
             0.8888888888888888,
             "#fdca26"
            ],
            [
             1,
             "#f0f921"
            ]
           ],
           "sequentialminus": [
            [
             0,
             "#0d0887"
            ],
            [
             0.1111111111111111,
             "#46039f"
            ],
            [
             0.2222222222222222,
             "#7201a8"
            ],
            [
             0.3333333333333333,
             "#9c179e"
            ],
            [
             0.4444444444444444,
             "#bd3786"
            ],
            [
             0.5555555555555556,
             "#d8576b"
            ],
            [
             0.6666666666666666,
             "#ed7953"
            ],
            [
             0.7777777777777778,
             "#fb9f3a"
            ],
            [
             0.8888888888888888,
             "#fdca26"
            ],
            [
             1,
             "#f0f921"
            ]
           ]
          },
          "colorway": [
           "#636efa",
           "#EF553B",
           "#00cc96",
           "#ab63fa",
           "#FFA15A",
           "#19d3f3",
           "#FF6692",
           "#B6E880",
           "#FF97FF",
           "#FECB52"
          ],
          "font": {
           "color": "#2a3f5f"
          },
          "geo": {
           "bgcolor": "white",
           "lakecolor": "white",
           "landcolor": "#E5ECF6",
           "showlakes": true,
           "showland": true,
           "subunitcolor": "white"
          },
          "hoverlabel": {
           "align": "left"
          },
          "hovermode": "closest",
          "mapbox": {
           "style": "light"
          },
          "paper_bgcolor": "white",
          "plot_bgcolor": "#E5ECF6",
          "polar": {
           "angularaxis": {
            "gridcolor": "white",
            "linecolor": "white",
            "ticks": ""
           },
           "bgcolor": "#E5ECF6",
           "radialaxis": {
            "gridcolor": "white",
            "linecolor": "white",
            "ticks": ""
           }
          },
          "scene": {
           "xaxis": {
            "backgroundcolor": "#E5ECF6",
            "gridcolor": "white",
            "gridwidth": 2,
            "linecolor": "white",
            "showbackground": true,
            "ticks": "",
            "zerolinecolor": "white"
           },
           "yaxis": {
            "backgroundcolor": "#E5ECF6",
            "gridcolor": "white",
            "gridwidth": 2,
            "linecolor": "white",
            "showbackground": true,
            "ticks": "",
            "zerolinecolor": "white"
           },
           "zaxis": {
            "backgroundcolor": "#E5ECF6",
            "gridcolor": "white",
            "gridwidth": 2,
            "linecolor": "white",
            "showbackground": true,
            "ticks": "",
            "zerolinecolor": "white"
           }
          },
          "shapedefaults": {
           "line": {
            "color": "#2a3f5f"
           }
          },
          "ternary": {
           "aaxis": {
            "gridcolor": "white",
            "linecolor": "white",
            "ticks": ""
           },
           "baxis": {
            "gridcolor": "white",
            "linecolor": "white",
            "ticks": ""
           },
           "bgcolor": "#E5ECF6",
           "caxis": {
            "gridcolor": "white",
            "linecolor": "white",
            "ticks": ""
           }
          },
          "title": {
           "x": 0.05
          },
          "xaxis": {
           "automargin": true,
           "gridcolor": "white",
           "linecolor": "white",
           "ticks": "",
           "title": {
            "standoff": 15
           },
           "zerolinecolor": "white",
           "zerolinewidth": 2
          },
          "yaxis": {
           "automargin": true,
           "gridcolor": "white",
           "linecolor": "white",
           "ticks": "",
           "title": {
            "standoff": 15
           },
           "zerolinecolor": "white",
           "zerolinewidth": 2
          }
         }
        },
        "title": {
         "text": "BTC Candlestick Chart",
         "x": 0.5,
         "xanchor": "center",
         "y": 0.9,
         "yanchor": "top"
        },
        "xaxis": {
         "title": {
          "text": "Time"
         }
        },
        "yaxis": {
         "ticksuffix": "$",
         "title": {
          "text": "Price in USD"
         }
        }
       }
      }
     },
     "metadata": {},
     "output_type": "display_data"
    },
    {
     "data": {
      "application/vnd.plotly.v1+json": {
       "config": {
        "plotlyServerURL": "https://plot.ly"
       },
       "data": [
        {
         "close": [
          3047.28,
          3045.1714285714284,
          3046.8514285714286,
          3048.338571428572,
          3052.535714285714,
          3055.5042857142853,
          3055.9771428571435,
          3053.638571428572,
          3049.048571428571,
          3054.095714285714,
          3051.001666666667,
          3048.02,
          3044.043333333333,
          3036.238571428571,
          3031.844285714286,
          3027.99,
          3018.332857142857,
          3017.5614285714287,
          3008.387142857143,
          2996.458626465714,
          2992.7671428571434,
          2988.478571428572,
          2981.3514285714286,
          2967.982857142857,
          2982.665714285715,
          2983.8257142857133,
          2986.055714285714,
          2986.741428571429,
          2992.184285714286,
          2993.820451447143,
          2992.871428571428,
          3003.080000000001,
          3012.9842857142853,
          3004.64,
          2982.837142857143,
          2979.2771428571423,
          2980.617142857143,
          2978.592746214286,
          2968.914285714286,
          2966.3028571428576,
          2964.587142857143,
          2961.6314285714284,
          2959.2942857142853,
          2978.451428571429,
          2971.3214285714284,
          2978.464285714286,
          2971.51,
          2974.278571428571,
          2969.058587331429,
          2967.3814285714284,
          2959.3614285714284,
          2961.7542857142853,
          2954.5242857142857,
          2951.834285714285,
          2953.892007824285,
          2959.278571428572,
          2964.534600452857,
          2959.5528571428576,
          2955.925714285714,
          2952.297142857143,
          2950.262857142857,
          2948.182857142857,
          2956.465714285714,
          2956.7478496571425,
          2960.381428571429,
          2969.7771428571427,
          2966,
          2965.5242857142853,
          2955.498571428572,
          2959.727142857143,
          2965.9271428571424,
          2966.315714285714,
          2961.05,
          2955.7542857142853,
          2953.845739191428,
          2962.108571428572,
          2963.394285714285,
          2959.516104105715,
          2971.905714285714,
          2978.068663851428,
          2975.14,
          2977.1957142857145,
          2977.387142857143,
          2978.137142857143,
          2974.0271428571427,
          2964.7114285714283,
          2960.845714285714,
          2957.398571428572,
          2977.19,
          2972.603333333334
         ],
         "high": [
          3049.52,
          3048.85,
          3048.6,
          3050.49,
          3056.06,
          3056.8,
          3060,
          3056.6,
          3054.72,
          3055.51,
          3055.87,
          3052.48,
          3049.12,
          3046.4,
          3039.84,
          3032.94,
          3030.46,
          3024.37,
          3017.8,
          3012.64,
          3002.45,
          2995.17,
          2993.59,
          2982.21,
          2986.86,
          2986.71,
          2989.27,
          2993.16,
          2993.93,
          2996.12,
          2996.14,
          3006.59,
          3015.81,
          3016.47,
          3005.8,
          2989.08,
          2988.63,
          2983.13,
          2982.2,
          2970.4,
          2967.8,
          2967.90990952,
          2967.77,
          2981.97,
          2986.84,
          2979.7,
          2983.1,
          2978.3,
          2977.36,
          2971.08,
          2970.57105798,
          2963.94,
          2962.6,
          2956.61,
          2957.97,
          2964.2,
          2965.99,
          2969.9,
          2961.12,
          2966.4,
          2959.09,
          2952.22,
          2957.84,
          2964.99,
          2967.62,
          2973.96,
          2972.23,
          2973.51,
          2971.08,
          2962.39,
          2968.7,
          2969.29,
          2971.11,
          2964.77,
          2960.23,
          2965.91,
          2966.19,
          2966.07,
          2974.1,
          2982.58,
          2979.21,
          2981.68,
          2980.08,
          2982.9,
          2979,
          2976.1,
          2967.95,
          2962.6,
          2978.71,
          2978.82
         ],
         "low": [
          3045.95,
          3038.82,
          3044.45,
          3046.59,
          3046.81,
          3049.84,
          3054.04,
          3052.04,
          3048.21,
          3046.25,
          3049.47,
          3046.67,
          3042.99,
          3035.11,
          3030.93,
          3025.18,
          3017.05,
          3014.55,
          3007.24,
          2993.46,
          2991.15,
          2983.93,
          2977.46,
          2963.21,
          2967.77,
          2971.95,
          2973.82,
          2979.98,
          2981.04,
          2990.25,
          2987.48,
          2992,
          2998.95,
          3003.35,
          2981.07,
          2975.54,
          2975.27,
          2976.47,
          2967,
          2964.98,
          2960,
          2953.83,
          2957.65,
          2958.35,
          2969.49,
          2962.67,
          2969.53,
          2967.93,
          2967.05,
          2963.33,
          2952,
          2952.6,
          2947.62,
          2950,
          2947.24,
          2952.3,
          2953.82,
          2956.52,
          2953.49,
          2950,
          2948.86,
          2945.03,
          2945,
          2953.11,
          2954.09,
          2959.38,
          2963.03,
          2963.94,
          2952.65,
          2952.39,
          2958.39,
          2960.6,
          2959.22,
          2953.66,
          2952,
          2952.71,
          2962.21,
          2957.91,
          2958.09,
          2967.82,
          2971.34,
          2971.34,
          2973.57,
          2975.88,
          2967.13,
          2962.09,
          2958.05,
          2954.14,
          2956.75,
          2969.35
         ],
         "open": [
          3048.3310505685718,
          3047.352069631428,
          3046.611428571429,
          3047.491428571428,
          3048.2269611257148,
          3052.258571428572,
          3056.0571428571425,
          3054.811428571428,
          3052.9700000000007,
          3048.611428571429,
          3054.096666666667,
          3050.4757142857147,
          3047.9600000000005,
          3043.568571428572,
          3036.498571428572,
          3031.7157142857145,
          3027.299345192857,
          3018.4056356199994,
          3016.2671428571434,
          3008.641428571429,
          2997.348571428572,
          2993.18,
          2988.95,
          2980.6,
          2969.798571428572,
          2981.528571428572,
          2984.062857142857,
          2987.558571428572,
          2987.804285714286,
          2992.485714285714,
          2993.82811931,
          2993.2657142857147,
          3001.942857142857,
          3012.557142857143,
          3003.7771428571427,
          2983.167142857142,
          2979.474809408571,
          2980.2342857142853,
          2978.037142857143,
          2969.0071428571428,
          2966.178571428572,
          2963.625714285715,
          2962.242857142857,
          2960.618571428571,
          2977.661428571429,
          2970.2457142857147,
          2978.575714285714,
          2970.605714285715,
          2975.197142857143,
          2968.1800000000007,
          2967.0799999999995,
          2959.567142857143,
          2959.967142857143,
          2954.17,
          2951.82,
          2955.1771428571424,
          2959.782857142857,
          2964.384285714286,
          2959.088571428572,
          2957.0271428571427,
          2952.171912078572,
          2950.6542857142854,
          2948.182857142857,
          2956.870000000001,
          2956.57,
          2961.414285714286,
          2969.557142857143,
          2966.7157142857145,
          2965.647142857142,
          2955.097142857143,
          2960.612857142857,
          2965.741428571428,
          2967.775714285714,
          2961.5028571428584,
          2955.4257142857136,
          2954.9871428571428,
          2963.701428571429,
          2963.3071428571425,
          2959.8514285714286,
          2972.4614285714283,
          2977.4728571428573,
          2974.152857142857,
          2977.297142857143,
          2978.0328571428577,
          2977.782857142857,
          2973.728685914285,
          2965.461446438572,
          2960.3214285714284,
          2958.7714285714283,
          2976.8583333333336
         ],
         "type": "candlestick",
         "x": [
          1632177060,
          1632177120,
          1632177180,
          1632177240,
          1632177300,
          1632177360,
          1632177420,
          1632177480,
          1632177540,
          1632177600,
          1632177660,
          1632177720,
          1632177780,
          1632177840,
          1632177900,
          1632177960,
          1632178020,
          1632178080,
          1632178140,
          1632178200,
          1632178260,
          1632178320,
          1632178380,
          1632178440,
          1632178500,
          1632178560,
          1632178620,
          1632178680,
          1632178740,
          1632178800,
          1632178860,
          1632178920,
          1632178980,
          1632179040,
          1632179100,
          1632179160,
          1632179220,
          1632179280,
          1632179340,
          1632179400,
          1632179460,
          1632179520,
          1632179580,
          1632179640,
          1632179700,
          1632179760,
          1632179820,
          1632179880,
          1632179940,
          1632180000,
          1632180060,
          1632180120,
          1632180180,
          1632180240,
          1632180300,
          1632180360,
          1632180420,
          1632180480,
          1632180540,
          1632180600,
          1632180660,
          1632180720,
          1632180780,
          1632180840,
          1632180900,
          1632180960,
          1632181020,
          1632181080,
          1632181140,
          1632181200,
          1632181260,
          1632181320,
          1632181380,
          1632181440,
          1632181500,
          1632181560,
          1632181620,
          1632181680,
          1632181740,
          1632181800,
          1632181860,
          1632181920,
          1632181980,
          1632182040,
          1632182100,
          1632182160,
          1632182220,
          1632182280,
          1632182340,
          1632182400
         ]
        }
       ],
       "layout": {
        "template": {
         "data": {
          "bar": [
           {
            "error_x": {
             "color": "#2a3f5f"
            },
            "error_y": {
             "color": "#2a3f5f"
            },
            "marker": {
             "line": {
              "color": "#E5ECF6",
              "width": 0.5
             },
             "pattern": {
              "fillmode": "overlay",
              "size": 10,
              "solidity": 0.2
             }
            },
            "type": "bar"
           }
          ],
          "barpolar": [
           {
            "marker": {
             "line": {
              "color": "#E5ECF6",
              "width": 0.5
             },
             "pattern": {
              "fillmode": "overlay",
              "size": 10,
              "solidity": 0.2
             }
            },
            "type": "barpolar"
           }
          ],
          "carpet": [
           {
            "aaxis": {
             "endlinecolor": "#2a3f5f",
             "gridcolor": "white",
             "linecolor": "white",
             "minorgridcolor": "white",
             "startlinecolor": "#2a3f5f"
            },
            "baxis": {
             "endlinecolor": "#2a3f5f",
             "gridcolor": "white",
             "linecolor": "white",
             "minorgridcolor": "white",
             "startlinecolor": "#2a3f5f"
            },
            "type": "carpet"
           }
          ],
          "choropleth": [
           {
            "colorbar": {
             "outlinewidth": 0,
             "ticks": ""
            },
            "type": "choropleth"
           }
          ],
          "contour": [
           {
            "colorbar": {
             "outlinewidth": 0,
             "ticks": ""
            },
            "colorscale": [
             [
              0,
              "#0d0887"
             ],
             [
              0.1111111111111111,
              "#46039f"
             ],
             [
              0.2222222222222222,
              "#7201a8"
             ],
             [
              0.3333333333333333,
              "#9c179e"
             ],
             [
              0.4444444444444444,
              "#bd3786"
             ],
             [
              0.5555555555555556,
              "#d8576b"
             ],
             [
              0.6666666666666666,
              "#ed7953"
             ],
             [
              0.7777777777777778,
              "#fb9f3a"
             ],
             [
              0.8888888888888888,
              "#fdca26"
             ],
             [
              1,
              "#f0f921"
             ]
            ],
            "type": "contour"
           }
          ],
          "contourcarpet": [
           {
            "colorbar": {
             "outlinewidth": 0,
             "ticks": ""
            },
            "type": "contourcarpet"
           }
          ],
          "heatmap": [
           {
            "colorbar": {
             "outlinewidth": 0,
             "ticks": ""
            },
            "colorscale": [
             [
              0,
              "#0d0887"
             ],
             [
              0.1111111111111111,
              "#46039f"
             ],
             [
              0.2222222222222222,
              "#7201a8"
             ],
             [
              0.3333333333333333,
              "#9c179e"
             ],
             [
              0.4444444444444444,
              "#bd3786"
             ],
             [
              0.5555555555555556,
              "#d8576b"
             ],
             [
              0.6666666666666666,
              "#ed7953"
             ],
             [
              0.7777777777777778,
              "#fb9f3a"
             ],
             [
              0.8888888888888888,
              "#fdca26"
             ],
             [
              1,
              "#f0f921"
             ]
            ],
            "type": "heatmap"
           }
          ],
          "heatmapgl": [
           {
            "colorbar": {
             "outlinewidth": 0,
             "ticks": ""
            },
            "colorscale": [
             [
              0,
              "#0d0887"
             ],
             [
              0.1111111111111111,
              "#46039f"
             ],
             [
              0.2222222222222222,
              "#7201a8"
             ],
             [
              0.3333333333333333,
              "#9c179e"
             ],
             [
              0.4444444444444444,
              "#bd3786"
             ],
             [
              0.5555555555555556,
              "#d8576b"
             ],
             [
              0.6666666666666666,
              "#ed7953"
             ],
             [
              0.7777777777777778,
              "#fb9f3a"
             ],
             [
              0.8888888888888888,
              "#fdca26"
             ],
             [
              1,
              "#f0f921"
             ]
            ],
            "type": "heatmapgl"
           }
          ],
          "histogram": [
           {
            "marker": {
             "pattern": {
              "fillmode": "overlay",
              "size": 10,
              "solidity": 0.2
             }
            },
            "type": "histogram"
           }
          ],
          "histogram2d": [
           {
            "colorbar": {
             "outlinewidth": 0,
             "ticks": ""
            },
            "colorscale": [
             [
              0,
              "#0d0887"
             ],
             [
              0.1111111111111111,
              "#46039f"
             ],
             [
              0.2222222222222222,
              "#7201a8"
             ],
             [
              0.3333333333333333,
              "#9c179e"
             ],
             [
              0.4444444444444444,
              "#bd3786"
             ],
             [
              0.5555555555555556,
              "#d8576b"
             ],
             [
              0.6666666666666666,
              "#ed7953"
             ],
             [
              0.7777777777777778,
              "#fb9f3a"
             ],
             [
              0.8888888888888888,
              "#fdca26"
             ],
             [
              1,
              "#f0f921"
             ]
            ],
            "type": "histogram2d"
           }
          ],
          "histogram2dcontour": [
           {
            "colorbar": {
             "outlinewidth": 0,
             "ticks": ""
            },
            "colorscale": [
             [
              0,
              "#0d0887"
             ],
             [
              0.1111111111111111,
              "#46039f"
             ],
             [
              0.2222222222222222,
              "#7201a8"
             ],
             [
              0.3333333333333333,
              "#9c179e"
             ],
             [
              0.4444444444444444,
              "#bd3786"
             ],
             [
              0.5555555555555556,
              "#d8576b"
             ],
             [
              0.6666666666666666,
              "#ed7953"
             ],
             [
              0.7777777777777778,
              "#fb9f3a"
             ],
             [
              0.8888888888888888,
              "#fdca26"
             ],
             [
              1,
              "#f0f921"
             ]
            ],
            "type": "histogram2dcontour"
           }
          ],
          "mesh3d": [
           {
            "colorbar": {
             "outlinewidth": 0,
             "ticks": ""
            },
            "type": "mesh3d"
           }
          ],
          "parcoords": [
           {
            "line": {
             "colorbar": {
              "outlinewidth": 0,
              "ticks": ""
             }
            },
            "type": "parcoords"
           }
          ],
          "pie": [
           {
            "automargin": true,
            "type": "pie"
           }
          ],
          "scatter": [
           {
            "fillpattern": {
             "fillmode": "overlay",
             "size": 10,
             "solidity": 0.2
            },
            "type": "scatter"
           }
          ],
          "scatter3d": [
           {
            "line": {
             "colorbar": {
              "outlinewidth": 0,
              "ticks": ""
             }
            },
            "marker": {
             "colorbar": {
              "outlinewidth": 0,
              "ticks": ""
             }
            },
            "type": "scatter3d"
           }
          ],
          "scattercarpet": [
           {
            "marker": {
             "colorbar": {
              "outlinewidth": 0,
              "ticks": ""
             }
            },
            "type": "scattercarpet"
           }
          ],
          "scattergeo": [
           {
            "marker": {
             "colorbar": {
              "outlinewidth": 0,
              "ticks": ""
             }
            },
            "type": "scattergeo"
           }
          ],
          "scattergl": [
           {
            "marker": {
             "colorbar": {
              "outlinewidth": 0,
              "ticks": ""
             }
            },
            "type": "scattergl"
           }
          ],
          "scattermapbox": [
           {
            "marker": {
             "colorbar": {
              "outlinewidth": 0,
              "ticks": ""
             }
            },
            "type": "scattermapbox"
           }
          ],
          "scatterpolar": [
           {
            "marker": {
             "colorbar": {
              "outlinewidth": 0,
              "ticks": ""
             }
            },
            "type": "scatterpolar"
           }
          ],
          "scatterpolargl": [
           {
            "marker": {
             "colorbar": {
              "outlinewidth": 0,
              "ticks": ""
             }
            },
            "type": "scatterpolargl"
           }
          ],
          "scatterternary": [
           {
            "marker": {
             "colorbar": {
              "outlinewidth": 0,
              "ticks": ""
             }
            },
            "type": "scatterternary"
           }
          ],
          "surface": [
           {
            "colorbar": {
             "outlinewidth": 0,
             "ticks": ""
            },
            "colorscale": [
             [
              0,
              "#0d0887"
             ],
             [
              0.1111111111111111,
              "#46039f"
             ],
             [
              0.2222222222222222,
              "#7201a8"
             ],
             [
              0.3333333333333333,
              "#9c179e"
             ],
             [
              0.4444444444444444,
              "#bd3786"
             ],
             [
              0.5555555555555556,
              "#d8576b"
             ],
             [
              0.6666666666666666,
              "#ed7953"
             ],
             [
              0.7777777777777778,
              "#fb9f3a"
             ],
             [
              0.8888888888888888,
              "#fdca26"
             ],
             [
              1,
              "#f0f921"
             ]
            ],
            "type": "surface"
           }
          ],
          "table": [
           {
            "cells": {
             "fill": {
              "color": "#EBF0F8"
             },
             "line": {
              "color": "white"
             }
            },
            "header": {
             "fill": {
              "color": "#C8D4E3"
             },
             "line": {
              "color": "white"
             }
            },
            "type": "table"
           }
          ]
         },
         "layout": {
          "annotationdefaults": {
           "arrowcolor": "#2a3f5f",
           "arrowhead": 0,
           "arrowwidth": 1
          },
          "autotypenumbers": "strict",
          "coloraxis": {
           "colorbar": {
            "outlinewidth": 0,
            "ticks": ""
           }
          },
          "colorscale": {
           "diverging": [
            [
             0,
             "#8e0152"
            ],
            [
             0.1,
             "#c51b7d"
            ],
            [
             0.2,
             "#de77ae"
            ],
            [
             0.3,
             "#f1b6da"
            ],
            [
             0.4,
             "#fde0ef"
            ],
            [
             0.5,
             "#f7f7f7"
            ],
            [
             0.6,
             "#e6f5d0"
            ],
            [
             0.7,
             "#b8e186"
            ],
            [
             0.8,
             "#7fbc41"
            ],
            [
             0.9,
             "#4d9221"
            ],
            [
             1,
             "#276419"
            ]
           ],
           "sequential": [
            [
             0,
             "#0d0887"
            ],
            [
             0.1111111111111111,
             "#46039f"
            ],
            [
             0.2222222222222222,
             "#7201a8"
            ],
            [
             0.3333333333333333,
             "#9c179e"
            ],
            [
             0.4444444444444444,
             "#bd3786"
            ],
            [
             0.5555555555555556,
             "#d8576b"
            ],
            [
             0.6666666666666666,
             "#ed7953"
            ],
            [
             0.7777777777777778,
             "#fb9f3a"
            ],
            [
             0.8888888888888888,
             "#fdca26"
            ],
            [
             1,
             "#f0f921"
            ]
           ],
           "sequentialminus": [
            [
             0,
             "#0d0887"
            ],
            [
             0.1111111111111111,
             "#46039f"
            ],
            [
             0.2222222222222222,
             "#7201a8"
            ],
            [
             0.3333333333333333,
             "#9c179e"
            ],
            [
             0.4444444444444444,
             "#bd3786"
            ],
            [
             0.5555555555555556,
             "#d8576b"
            ],
            [
             0.6666666666666666,
             "#ed7953"
            ],
            [
             0.7777777777777778,
             "#fb9f3a"
            ],
            [
             0.8888888888888888,
             "#fdca26"
            ],
            [
             1,
             "#f0f921"
            ]
           ]
          },
          "colorway": [
           "#636efa",
           "#EF553B",
           "#00cc96",
           "#ab63fa",
           "#FFA15A",
           "#19d3f3",
           "#FF6692",
           "#B6E880",
           "#FF97FF",
           "#FECB52"
          ],
          "font": {
           "color": "#2a3f5f"
          },
          "geo": {
           "bgcolor": "white",
           "lakecolor": "white",
           "landcolor": "#E5ECF6",
           "showlakes": true,
           "showland": true,
           "subunitcolor": "white"
          },
          "hoverlabel": {
           "align": "left"
          },
          "hovermode": "closest",
          "mapbox": {
           "style": "light"
          },
          "paper_bgcolor": "white",
          "plot_bgcolor": "#E5ECF6",
          "polar": {
           "angularaxis": {
            "gridcolor": "white",
            "linecolor": "white",
            "ticks": ""
           },
           "bgcolor": "#E5ECF6",
           "radialaxis": {
            "gridcolor": "white",
            "linecolor": "white",
            "ticks": ""
           }
          },
          "scene": {
           "xaxis": {
            "backgroundcolor": "#E5ECF6",
            "gridcolor": "white",
            "gridwidth": 2,
            "linecolor": "white",
            "showbackground": true,
            "ticks": "",
            "zerolinecolor": "white"
           },
           "yaxis": {
            "backgroundcolor": "#E5ECF6",
            "gridcolor": "white",
            "gridwidth": 2,
            "linecolor": "white",
            "showbackground": true,
            "ticks": "",
            "zerolinecolor": "white"
           },
           "zaxis": {
            "backgroundcolor": "#E5ECF6",
            "gridcolor": "white",
            "gridwidth": 2,
            "linecolor": "white",
            "showbackground": true,
            "ticks": "",
            "zerolinecolor": "white"
           }
          },
          "shapedefaults": {
           "line": {
            "color": "#2a3f5f"
           }
          },
          "ternary": {
           "aaxis": {
            "gridcolor": "white",
            "linecolor": "white",
            "ticks": ""
           },
           "baxis": {
            "gridcolor": "white",
            "linecolor": "white",
            "ticks": ""
           },
           "bgcolor": "#E5ECF6",
           "caxis": {
            "gridcolor": "white",
            "linecolor": "white",
            "ticks": ""
           }
          },
          "title": {
           "x": 0.05
          },
          "xaxis": {
           "automargin": true,
           "gridcolor": "white",
           "linecolor": "white",
           "ticks": "",
           "title": {
            "standoff": 15
           },
           "zerolinecolor": "white",
           "zerolinewidth": 2
          },
          "yaxis": {
           "automargin": true,
           "gridcolor": "white",
           "linecolor": "white",
           "ticks": "",
           "title": {
            "standoff": 15
           },
           "zerolinecolor": "white",
           "zerolinewidth": 2
          }
         }
        },
        "title": {
         "text": "ETH Candlestick Chart",
         "x": 0.5,
         "xanchor": "center",
         "y": 0.9,
         "yanchor": "top"
        },
        "xaxis": {
         "title": {
          "text": "Time"
         }
        },
        "yaxis": {
         "ticksuffix": "$",
         "title": {
          "text": "Price in USD"
         }
        }
       }
      }
     },
     "metadata": {},
     "output_type": "display_data"
    },
    {
     "data": {
      "application/vnd.plotly.v1+json": {
       "config": {
        "plotlyServerURL": "https://plot.ly"
       },
       "data": [
        {
         "close": [
          0.2140066,
          0.2139218,
          0.21404975,
          0.21412775,
          0.21426675,
          0.21447,
          0.21459375,
          0.2143916,
          0.2142294,
          0.21462725,
          0.21439075,
          0.2143734,
          0.21414525,
          0.2137273999999999,
          0.2133,
          0.213123,
          0.2127345,
          0.212661,
          0.21191325,
          0.2113275999999999,
          0.2110929999999999,
          0.210906,
          0.2103206,
          0.2097036,
          0.2101516,
          0.2098373999999999,
          0.2100688,
          0.2098578,
          0.210006,
          0.2101896,
          0.210184,
          0.2108494,
          0.2112912,
          0.2108668,
          0.2093244,
          0.209237,
          0.2090998,
          0.2086652,
          0.2083322,
          0.2080596,
          0.2078148,
          0.2074926,
          0.207219,
          0.2084208,
          0.2075768,
          0.2082572,
          0.2078496,
          0.2080264,
          0.2077563999999999,
          0.20729175,
          0.2069432,
          0.207204,
          0.2065469999999999,
          0.2062955,
          0.20603625,
          0.206555,
          0.20671275,
          0.206285,
          0.2061989999999999,
          0.2058382,
          0.205773,
          0.2057369999999999,
          0.2066753999999999,
          0.2066483999999999,
          0.2069425,
          0.2072385,
          0.207054,
          0.207129,
          0.2064,
          0.2066682,
          0.20747725,
          0.20758075,
          0.20714875,
          0.2066288,
          0.20674575,
          0.2074405,
          0.2073739999999999,
          0.2069355,
          0.2077176,
          0.208161,
          0.2080205,
          0.2080594999999999,
          0.2082945,
          0.2080945,
          0.20809775,
          0.2074445999999999,
          0.2069202,
          0.2067969999999999,
          0.20862125,
          0.20829425
         ],
         "high": [
          0.2144,
          0.2142,
          0.2143,
          0.2144,
          0.2146,
          0.2145,
          0.2149,
          0.2147,
          0.21453,
          0.2148,
          0.2148,
          0.2146,
          0.2144,
          0.214324,
          0.2139,
          0.2133,
          0.213215,
          0.2132,
          0.212716,
          0.2123,
          0.2116,
          0.2114,
          0.2112,
          0.210411,
          0.2106,
          0.2105,
          0.2102,
          0.2103,
          0.2102,
          0.2105,
          0.2103199999999999,
          0.2112,
          0.2115,
          0.2116,
          0.2109199999999999,
          0.2097,
          0.2097099999999999,
          0.2092,
          0.209,
          0.2084,
          0.20819,
          0.2079,
          0.2077,
          0.2089,
          0.2089,
          0.2084030000000001,
          0.2086,
          0.2083,
          0.2082,
          0.2079,
          0.2075,
          0.207278,
          0.2071619999999999,
          0.2067,
          0.206729,
          0.2068,
          0.2068,
          0.2071,
          0.2063,
          0.2067,
          0.2064,
          0.206,
          0.2069,
          0.2072,
          0.2075,
          0.2074599999999999,
          0.2074,
          0.2074369999999999,
          0.2075,
          0.2068,
          0.2076,
          0.2078,
          0.207806,
          0.2074,
          0.2069,
          0.2075,
          0.2076,
          0.2076,
          0.208,
          0.2083,
          0.2083,
          0.2083,
          0.2083,
          0.2084,
          0.2083,
          0.2082,
          0.20754,
          0.2071,
          0.2088,
          0.2088
         ],
         "low": [
          0.2139,
          0.2135099999999999,
          0.2139,
          0.214,
          0.214,
          0.2141,
          0.2144,
          0.2143,
          0.21419,
          0.2141,
          0.21427,
          0.2142,
          0.2141,
          0.2136,
          0.2132,
          0.2129,
          0.2126,
          0.2126,
          0.2118,
          0.2111,
          0.211,
          0.2108,
          0.2101,
          0.2094,
          0.2096179999999999,
          0.20934,
          0.2092,
          0.2091,
          0.209396,
          0.20994,
          0.2098,
          0.2101199999999999,
          0.210479,
          0.2106,
          0.209194,
          0.209,
          0.209,
          0.2085,
          0.2081,
          0.207997,
          0.2076,
          0.2072,
          0.2071,
          0.20711,
          0.207474,
          0.2069,
          0.2076,
          0.2074,
          0.207535,
          0.207092,
          0.2064,
          0.206375,
          0.2061,
          0.2061,
          0.2058,
          0.205988,
          0.2058969999999999,
          0.2061,
          0.2058969999999999,
          0.2057,
          0.2057,
          0.205565,
          0.20563,
          0.2065,
          0.206576,
          0.2068,
          0.20692,
          0.207,
          0.2062,
          0.2061889999999999,
          0.2066,
          0.20715,
          0.207069,
          0.206544,
          0.2065,
          0.2066,
          0.2072099999999999,
          0.206892,
          0.20689,
          0.20773,
          0.2079,
          0.2079,
          0.208,
          0.208,
          0.208,
          0.207294,
          0.2068,
          0.2066,
          0.206784,
          0.2082
         ],
         "open": [
          0.2142702,
          0.2139584,
          0.213997,
          0.214108,
          0.21417075,
          0.21427025,
          0.21455,
          0.214547,
          0.2143948,
          0.2141765,
          0.21462475,
          0.2143962,
          0.2143304999999999,
          0.2141262,
          0.213758,
          0.2131988,
          0.2131554999999999,
          0.2127755,
          0.21260575,
          0.2119364,
          0.21118625,
          0.2111218,
          0.2109667999999999,
          0.2101342,
          0.209823,
          0.2101644,
          0.2098746,
          0.2100312,
          0.2098428,
          0.2100906,
          0.2102197999999999,
          0.2102582,
          0.2108284,
          0.2111858,
          0.2107632,
          0.2092594,
          0.2091927999999999,
          0.2090266,
          0.208663,
          0.2082686,
          0.2081012,
          0.2077518,
          0.2075154,
          0.2072934,
          0.2084062,
          0.2075654,
          0.208279,
          0.2077656,
          0.2080602,
          0.20758825,
          0.2072652,
          0.206917,
          0.2071105,
          0.20648,
          0.206273,
          0.2061324999999999,
          0.206495,
          0.206703,
          0.20622675,
          0.2061397999999999,
          0.2058065,
          0.2058114999999999,
          0.2058016,
          0.2067944,
          0.206629,
          0.2069795,
          0.207251,
          0.2070864999999999,
          0.2070428,
          0.2064127999999999,
          0.2066785,
          0.20744125,
          0.20762975,
          0.2071276,
          0.2066435,
          0.206728,
          0.20745875,
          0.207383,
          0.2069528,
          0.2078645,
          0.20815725,
          0.20803175,
          0.20810675,
          0.2082995,
          0.2081125,
          0.2080717999999999,
          0.2074606,
          0.20689225,
          0.206821,
          0.2086225
         ],
         "type": "candlestick",
         "x": [
          1632177060,
          1632177120,
          1632177180,
          1632177240,
          1632177300,
          1632177360,
          1632177420,
          1632177480,
          1632177540,
          1632177600,
          1632177660,
          1632177720,
          1632177780,
          1632177840,
          1632177900,
          1632177960,
          1632178020,
          1632178080,
          1632178140,
          1632178200,
          1632178260,
          1632178320,
          1632178380,
          1632178440,
          1632178500,
          1632178560,
          1632178620,
          1632178680,
          1632178740,
          1632178800,
          1632178860,
          1632178920,
          1632178980,
          1632179040,
          1632179100,
          1632179160,
          1632179220,
          1632179280,
          1632179340,
          1632179400,
          1632179460,
          1632179520,
          1632179580,
          1632179640,
          1632179700,
          1632179760,
          1632179820,
          1632179880,
          1632179940,
          1632180000,
          1632180060,
          1632180120,
          1632180180,
          1632180240,
          1632180300,
          1632180360,
          1632180420,
          1632180480,
          1632180540,
          1632180600,
          1632180660,
          1632180720,
          1632180780,
          1632180840,
          1632180900,
          1632180960,
          1632181020,
          1632181080,
          1632181140,
          1632181200,
          1632181260,
          1632181320,
          1632181380,
          1632181440,
          1632181500,
          1632181560,
          1632181620,
          1632181680,
          1632181740,
          1632181800,
          1632181860,
          1632181920,
          1632181980,
          1632182040,
          1632182100,
          1632182160,
          1632182220,
          1632182280,
          1632182340,
          1632182400
         ]
        }
       ],
       "layout": {
        "template": {
         "data": {
          "bar": [
           {
            "error_x": {
             "color": "#2a3f5f"
            },
            "error_y": {
             "color": "#2a3f5f"
            },
            "marker": {
             "line": {
              "color": "#E5ECF6",
              "width": 0.5
             },
             "pattern": {
              "fillmode": "overlay",
              "size": 10,
              "solidity": 0.2
             }
            },
            "type": "bar"
           }
          ],
          "barpolar": [
           {
            "marker": {
             "line": {
              "color": "#E5ECF6",
              "width": 0.5
             },
             "pattern": {
              "fillmode": "overlay",
              "size": 10,
              "solidity": 0.2
             }
            },
            "type": "barpolar"
           }
          ],
          "carpet": [
           {
            "aaxis": {
             "endlinecolor": "#2a3f5f",
             "gridcolor": "white",
             "linecolor": "white",
             "minorgridcolor": "white",
             "startlinecolor": "#2a3f5f"
            },
            "baxis": {
             "endlinecolor": "#2a3f5f",
             "gridcolor": "white",
             "linecolor": "white",
             "minorgridcolor": "white",
             "startlinecolor": "#2a3f5f"
            },
            "type": "carpet"
           }
          ],
          "choropleth": [
           {
            "colorbar": {
             "outlinewidth": 0,
             "ticks": ""
            },
            "type": "choropleth"
           }
          ],
          "contour": [
           {
            "colorbar": {
             "outlinewidth": 0,
             "ticks": ""
            },
            "colorscale": [
             [
              0,
              "#0d0887"
             ],
             [
              0.1111111111111111,
              "#46039f"
             ],
             [
              0.2222222222222222,
              "#7201a8"
             ],
             [
              0.3333333333333333,
              "#9c179e"
             ],
             [
              0.4444444444444444,
              "#bd3786"
             ],
             [
              0.5555555555555556,
              "#d8576b"
             ],
             [
              0.6666666666666666,
              "#ed7953"
             ],
             [
              0.7777777777777778,
              "#fb9f3a"
             ],
             [
              0.8888888888888888,
              "#fdca26"
             ],
             [
              1,
              "#f0f921"
             ]
            ],
            "type": "contour"
           }
          ],
          "contourcarpet": [
           {
            "colorbar": {
             "outlinewidth": 0,
             "ticks": ""
            },
            "type": "contourcarpet"
           }
          ],
          "heatmap": [
           {
            "colorbar": {
             "outlinewidth": 0,
             "ticks": ""
            },
            "colorscale": [
             [
              0,
              "#0d0887"
             ],
             [
              0.1111111111111111,
              "#46039f"
             ],
             [
              0.2222222222222222,
              "#7201a8"
             ],
             [
              0.3333333333333333,
              "#9c179e"
             ],
             [
              0.4444444444444444,
              "#bd3786"
             ],
             [
              0.5555555555555556,
              "#d8576b"
             ],
             [
              0.6666666666666666,
              "#ed7953"
             ],
             [
              0.7777777777777778,
              "#fb9f3a"
             ],
             [
              0.8888888888888888,
              "#fdca26"
             ],
             [
              1,
              "#f0f921"
             ]
            ],
            "type": "heatmap"
           }
          ],
          "heatmapgl": [
           {
            "colorbar": {
             "outlinewidth": 0,
             "ticks": ""
            },
            "colorscale": [
             [
              0,
              "#0d0887"
             ],
             [
              0.1111111111111111,
              "#46039f"
             ],
             [
              0.2222222222222222,
              "#7201a8"
             ],
             [
              0.3333333333333333,
              "#9c179e"
             ],
             [
              0.4444444444444444,
              "#bd3786"
             ],
             [
              0.5555555555555556,
              "#d8576b"
             ],
             [
              0.6666666666666666,
              "#ed7953"
             ],
             [
              0.7777777777777778,
              "#fb9f3a"
             ],
             [
              0.8888888888888888,
              "#fdca26"
             ],
             [
              1,
              "#f0f921"
             ]
            ],
            "type": "heatmapgl"
           }
          ],
          "histogram": [
           {
            "marker": {
             "pattern": {
              "fillmode": "overlay",
              "size": 10,
              "solidity": 0.2
             }
            },
            "type": "histogram"
           }
          ],
          "histogram2d": [
           {
            "colorbar": {
             "outlinewidth": 0,
             "ticks": ""
            },
            "colorscale": [
             [
              0,
              "#0d0887"
             ],
             [
              0.1111111111111111,
              "#46039f"
             ],
             [
              0.2222222222222222,
              "#7201a8"
             ],
             [
              0.3333333333333333,
              "#9c179e"
             ],
             [
              0.4444444444444444,
              "#bd3786"
             ],
             [
              0.5555555555555556,
              "#d8576b"
             ],
             [
              0.6666666666666666,
              "#ed7953"
             ],
             [
              0.7777777777777778,
              "#fb9f3a"
             ],
             [
              0.8888888888888888,
              "#fdca26"
             ],
             [
              1,
              "#f0f921"
             ]
            ],
            "type": "histogram2d"
           }
          ],
          "histogram2dcontour": [
           {
            "colorbar": {
             "outlinewidth": 0,
             "ticks": ""
            },
            "colorscale": [
             [
              0,
              "#0d0887"
             ],
             [
              0.1111111111111111,
              "#46039f"
             ],
             [
              0.2222222222222222,
              "#7201a8"
             ],
             [
              0.3333333333333333,
              "#9c179e"
             ],
             [
              0.4444444444444444,
              "#bd3786"
             ],
             [
              0.5555555555555556,
              "#d8576b"
             ],
             [
              0.6666666666666666,
              "#ed7953"
             ],
             [
              0.7777777777777778,
              "#fb9f3a"
             ],
             [
              0.8888888888888888,
              "#fdca26"
             ],
             [
              1,
              "#f0f921"
             ]
            ],
            "type": "histogram2dcontour"
           }
          ],
          "mesh3d": [
           {
            "colorbar": {
             "outlinewidth": 0,
             "ticks": ""
            },
            "type": "mesh3d"
           }
          ],
          "parcoords": [
           {
            "line": {
             "colorbar": {
              "outlinewidth": 0,
              "ticks": ""
             }
            },
            "type": "parcoords"
           }
          ],
          "pie": [
           {
            "automargin": true,
            "type": "pie"
           }
          ],
          "scatter": [
           {
            "fillpattern": {
             "fillmode": "overlay",
             "size": 10,
             "solidity": 0.2
            },
            "type": "scatter"
           }
          ],
          "scatter3d": [
           {
            "line": {
             "colorbar": {
              "outlinewidth": 0,
              "ticks": ""
             }
            },
            "marker": {
             "colorbar": {
              "outlinewidth": 0,
              "ticks": ""
             }
            },
            "type": "scatter3d"
           }
          ],
          "scattercarpet": [
           {
            "marker": {
             "colorbar": {
              "outlinewidth": 0,
              "ticks": ""
             }
            },
            "type": "scattercarpet"
           }
          ],
          "scattergeo": [
           {
            "marker": {
             "colorbar": {
              "outlinewidth": 0,
              "ticks": ""
             }
            },
            "type": "scattergeo"
           }
          ],
          "scattergl": [
           {
            "marker": {
             "colorbar": {
              "outlinewidth": 0,
              "ticks": ""
             }
            },
            "type": "scattergl"
           }
          ],
          "scattermapbox": [
           {
            "marker": {
             "colorbar": {
              "outlinewidth": 0,
              "ticks": ""
             }
            },
            "type": "scattermapbox"
           }
          ],
          "scatterpolar": [
           {
            "marker": {
             "colorbar": {
              "outlinewidth": 0,
              "ticks": ""
             }
            },
            "type": "scatterpolar"
           }
          ],
          "scatterpolargl": [
           {
            "marker": {
             "colorbar": {
              "outlinewidth": 0,
              "ticks": ""
             }
            },
            "type": "scatterpolargl"
           }
          ],
          "scatterternary": [
           {
            "marker": {
             "colorbar": {
              "outlinewidth": 0,
              "ticks": ""
             }
            },
            "type": "scatterternary"
           }
          ],
          "surface": [
           {
            "colorbar": {
             "outlinewidth": 0,
             "ticks": ""
            },
            "colorscale": [
             [
              0,
              "#0d0887"
             ],
             [
              0.1111111111111111,
              "#46039f"
             ],
             [
              0.2222222222222222,
              "#7201a8"
             ],
             [
              0.3333333333333333,
              "#9c179e"
             ],
             [
              0.4444444444444444,
              "#bd3786"
             ],
             [
              0.5555555555555556,
              "#d8576b"
             ],
             [
              0.6666666666666666,
              "#ed7953"
             ],
             [
              0.7777777777777778,
              "#fb9f3a"
             ],
             [
              0.8888888888888888,
              "#fdca26"
             ],
             [
              1,
              "#f0f921"
             ]
            ],
            "type": "surface"
           }
          ],
          "table": [
           {
            "cells": {
             "fill": {
              "color": "#EBF0F8"
             },
             "line": {
              "color": "white"
             }
            },
            "header": {
             "fill": {
              "color": "#C8D4E3"
             },
             "line": {
              "color": "white"
             }
            },
            "type": "table"
           }
          ]
         },
         "layout": {
          "annotationdefaults": {
           "arrowcolor": "#2a3f5f",
           "arrowhead": 0,
           "arrowwidth": 1
          },
          "autotypenumbers": "strict",
          "coloraxis": {
           "colorbar": {
            "outlinewidth": 0,
            "ticks": ""
           }
          },
          "colorscale": {
           "diverging": [
            [
             0,
             "#8e0152"
            ],
            [
             0.1,
             "#c51b7d"
            ],
            [
             0.2,
             "#de77ae"
            ],
            [
             0.3,
             "#f1b6da"
            ],
            [
             0.4,
             "#fde0ef"
            ],
            [
             0.5,
             "#f7f7f7"
            ],
            [
             0.6,
             "#e6f5d0"
            ],
            [
             0.7,
             "#b8e186"
            ],
            [
             0.8,
             "#7fbc41"
            ],
            [
             0.9,
             "#4d9221"
            ],
            [
             1,
             "#276419"
            ]
           ],
           "sequential": [
            [
             0,
             "#0d0887"
            ],
            [
             0.1111111111111111,
             "#46039f"
            ],
            [
             0.2222222222222222,
             "#7201a8"
            ],
            [
             0.3333333333333333,
             "#9c179e"
            ],
            [
             0.4444444444444444,
             "#bd3786"
            ],
            [
             0.5555555555555556,
             "#d8576b"
            ],
            [
             0.6666666666666666,
             "#ed7953"
            ],
            [
             0.7777777777777778,
             "#fb9f3a"
            ],
            [
             0.8888888888888888,
             "#fdca26"
            ],
            [
             1,
             "#f0f921"
            ]
           ],
           "sequentialminus": [
            [
             0,
             "#0d0887"
            ],
            [
             0.1111111111111111,
             "#46039f"
            ],
            [
             0.2222222222222222,
             "#7201a8"
            ],
            [
             0.3333333333333333,
             "#9c179e"
            ],
            [
             0.4444444444444444,
             "#bd3786"
            ],
            [
             0.5555555555555556,
             "#d8576b"
            ],
            [
             0.6666666666666666,
             "#ed7953"
            ],
            [
             0.7777777777777778,
             "#fb9f3a"
            ],
            [
             0.8888888888888888,
             "#fdca26"
            ],
            [
             1,
             "#f0f921"
            ]
           ]
          },
          "colorway": [
           "#636efa",
           "#EF553B",
           "#00cc96",
           "#ab63fa",
           "#FFA15A",
           "#19d3f3",
           "#FF6692",
           "#B6E880",
           "#FF97FF",
           "#FECB52"
          ],
          "font": {
           "color": "#2a3f5f"
          },
          "geo": {
           "bgcolor": "white",
           "lakecolor": "white",
           "landcolor": "#E5ECF6",
           "showlakes": true,
           "showland": true,
           "subunitcolor": "white"
          },
          "hoverlabel": {
           "align": "left"
          },
          "hovermode": "closest",
          "mapbox": {
           "style": "light"
          },
          "paper_bgcolor": "white",
          "plot_bgcolor": "#E5ECF6",
          "polar": {
           "angularaxis": {
            "gridcolor": "white",
            "linecolor": "white",
            "ticks": ""
           },
           "bgcolor": "#E5ECF6",
           "radialaxis": {
            "gridcolor": "white",
            "linecolor": "white",
            "ticks": ""
           }
          },
          "scene": {
           "xaxis": {
            "backgroundcolor": "#E5ECF6",
            "gridcolor": "white",
            "gridwidth": 2,
            "linecolor": "white",
            "showbackground": true,
            "ticks": "",
            "zerolinecolor": "white"
           },
           "yaxis": {
            "backgroundcolor": "#E5ECF6",
            "gridcolor": "white",
            "gridwidth": 2,
            "linecolor": "white",
            "showbackground": true,
            "ticks": "",
            "zerolinecolor": "white"
           },
           "zaxis": {
            "backgroundcolor": "#E5ECF6",
            "gridcolor": "white",
            "gridwidth": 2,
            "linecolor": "white",
            "showbackground": true,
            "ticks": "",
            "zerolinecolor": "white"
           }
          },
          "shapedefaults": {
           "line": {
            "color": "#2a3f5f"
           }
          },
          "ternary": {
           "aaxis": {
            "gridcolor": "white",
            "linecolor": "white",
            "ticks": ""
           },
           "baxis": {
            "gridcolor": "white",
            "linecolor": "white",
            "ticks": ""
           },
           "bgcolor": "#E5ECF6",
           "caxis": {
            "gridcolor": "white",
            "linecolor": "white",
            "ticks": ""
           }
          },
          "title": {
           "x": 0.05
          },
          "xaxis": {
           "automargin": true,
           "gridcolor": "white",
           "linecolor": "white",
           "ticks": "",
           "title": {
            "standoff": 15
           },
           "zerolinecolor": "white",
           "zerolinewidth": 2
          },
          "yaxis": {
           "automargin": true,
           "gridcolor": "white",
           "linecolor": "white",
           "ticks": "",
           "title": {
            "standoff": 15
           },
           "zerolinecolor": "white",
           "zerolinewidth": 2
          }
         }
        },
        "title": {
         "text": "DOGE Candlestick Chart",
         "x": 0.5,
         "xanchor": "center",
         "y": 0.9,
         "yanchor": "top"
        },
        "xaxis": {
         "title": {
          "text": "Time"
         }
        },
        "yaxis": {
         "ticksuffix": "$",
         "title": {
          "text": "Price in USD"
         }
        }
       }
      }
     },
     "metadata": {},
     "output_type": "display_data"
    }
   ],
   "source": [
    "cschart(btc, label = \"BTC\")\n",
    "\n",
    "cschart(eth, label = \"ETH\")\n",
    "\n",
    "cschart(doge, label = \"DOGE\")"
   ]
  },
  {
   "cell_type": "code",
   "execution_count": 186,
   "metadata": {},
   "outputs": [],
   "source": [
    "#timestyle = time.strftime(\"%Y-%m-%d %H:%M:%S\", time.localtime(timestamp))"
   ]
  }
 ],
 "metadata": {
  "kernelspec": {
   "display_name": "Python 3.9.13 ('pythonFSFM')",
   "language": "python",
   "name": "python3"
  },
  "language_info": {
   "codemirror_mode": {
    "name": "ipython",
    "version": 3
   },
   "file_extension": ".py",
   "mimetype": "text/x-python",
   "name": "python",
   "nbconvert_exporter": "python",
   "pygments_lexer": "ipython3",
   "version": "3.9.13"
  },
  "orig_nbformat": 4,
  "vscode": {
   "interpreter": {
    "hash": "31a9bea5f067a9736ddfa79b44f56e99d7e88be9dca82d8c758d974c943c02a4"
   }
  }
 },
 "nbformat": 4,
 "nbformat_minor": 2
}
