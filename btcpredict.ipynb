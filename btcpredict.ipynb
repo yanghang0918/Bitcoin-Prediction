{
 "cells": [
  {
   "attachments": {},
   "cell_type": "markdown",
   "metadata": {},
   "source": [
    "# Import Package"
   ]
  },
  {
   "cell_type": "code",
   "execution_count": 1,
   "metadata": {},
   "outputs": [],
   "source": [
    "import os\n",
    "from datetime import datetime\n",
    "import time\n",
    "from sklearn.preprocessing import StandardScaler\n",
    "import plotly.express as px\n",
    "import plotly.graph_objs as go\n",
    "import matplotlib.pyplot as plt\n",
    "import seaborn as sns\n",
    "import math\n",
    "import statsmodels.api as sm\n",
    "from statsmodels.tsa.ar_model import AutoReg\n",
    "from statsmodels.tsa.arima_model import ARMA\n",
    "from statsmodels.tsa.stattools import adfuller\n",
    "from statsmodels.graphics.tsaplots import plot_acf\n",
    "from statsmodels.graphics.tsaplots import plot_pacf\n",
    "from statsmodels.tsa.arima_model import ARIMA\n",
    "from statsmodels.tsa.statespace.sarimax import SARIMAX\n",
    "from statsmodels.tsa.seasonal import seasonal_decompose\n",
    "from scipy import stats\n",
    "from itertools import product\n",
    "import warnings\n",
    "warnings.filterwarnings(\"ignore\")\n",
    "import numpy as np # linear algebra\n",
    "import pandas as pd\n"
   ]
  },
  {
   "attachments": {},
   "cell_type": "markdown",
   "metadata": {},
   "source": [
    "# Data Overview"
   ]
  },
  {
   "attachments": {},
   "cell_type": "markdown",
   "metadata": {},
   "source": [
    "## Import data"
   ]
  },
  {
   "cell_type": "code",
   "execution_count": 2,
   "metadata": {},
   "outputs": [],
   "source": [
    "assetinfo = pd.read_csv(\"asset_details.csv\")\n",
    "ctrain = pd.read_csv(\"train.csv\")"
   ]
  },
  {
   "attachments": {},
   "cell_type": "markdown",
   "metadata": {},
   "source": [
    "## Asset Information and Dataset Overview"
   ]
  },
  {
   "cell_type": "code",
   "execution_count": 39,
   "metadata": {},
   "outputs": [
    {
     "data": {
      "text/html": [
       "<div>\n",
       "<style scoped>\n",
       "    .dataframe tbody tr th:only-of-type {\n",
       "        vertical-align: middle;\n",
       "    }\n",
       "\n",
       "    .dataframe tbody tr th {\n",
       "        vertical-align: top;\n",
       "    }\n",
       "\n",
       "    .dataframe thead th {\n",
       "        text-align: right;\n",
       "    }\n",
       "</style>\n",
       "<table border=\"1\" class=\"dataframe\">\n",
       "  <thead>\n",
       "    <tr style=\"text-align: right;\">\n",
       "      <th></th>\n",
       "      <th>Asset_ID</th>\n",
       "      <th>Weight</th>\n",
       "      <th>Asset_Name</th>\n",
       "    </tr>\n",
       "  </thead>\n",
       "  <tbody>\n",
       "    <tr>\n",
       "      <th>0</th>\n",
       "      <td>2</td>\n",
       "      <td>2.397895</td>\n",
       "      <td>Bitcoin Cash</td>\n",
       "    </tr>\n",
       "    <tr>\n",
       "      <th>1</th>\n",
       "      <td>0</td>\n",
       "      <td>4.304065</td>\n",
       "      <td>Binance Coin</td>\n",
       "    </tr>\n",
       "    <tr>\n",
       "      <th>2</th>\n",
       "      <td>1</td>\n",
       "      <td>6.779922</td>\n",
       "      <td>Bitcoin</td>\n",
       "    </tr>\n",
       "    <tr>\n",
       "      <th>3</th>\n",
       "      <td>5</td>\n",
       "      <td>1.386294</td>\n",
       "      <td>EOS.IO</td>\n",
       "    </tr>\n",
       "    <tr>\n",
       "      <th>4</th>\n",
       "      <td>7</td>\n",
       "      <td>2.079442</td>\n",
       "      <td>Ethereum Classic</td>\n",
       "    </tr>\n",
       "    <tr>\n",
       "      <th>5</th>\n",
       "      <td>6</td>\n",
       "      <td>5.894403</td>\n",
       "      <td>Ethereum</td>\n",
       "    </tr>\n",
       "    <tr>\n",
       "      <th>6</th>\n",
       "      <td>9</td>\n",
       "      <td>2.397895</td>\n",
       "      <td>Litecoin</td>\n",
       "    </tr>\n",
       "    <tr>\n",
       "      <th>7</th>\n",
       "      <td>11</td>\n",
       "      <td>1.609438</td>\n",
       "      <td>Monero</td>\n",
       "    </tr>\n",
       "    <tr>\n",
       "      <th>8</th>\n",
       "      <td>13</td>\n",
       "      <td>1.791759</td>\n",
       "      <td>TRON</td>\n",
       "    </tr>\n",
       "    <tr>\n",
       "      <th>9</th>\n",
       "      <td>12</td>\n",
       "      <td>2.079442</td>\n",
       "      <td>Stellar</td>\n",
       "    </tr>\n",
       "    <tr>\n",
       "      <th>10</th>\n",
       "      <td>3</td>\n",
       "      <td>4.406719</td>\n",
       "      <td>Cardano</td>\n",
       "    </tr>\n",
       "    <tr>\n",
       "      <th>11</th>\n",
       "      <td>8</td>\n",
       "      <td>1.098612</td>\n",
       "      <td>IOTA</td>\n",
       "    </tr>\n",
       "    <tr>\n",
       "      <th>12</th>\n",
       "      <td>10</td>\n",
       "      <td>1.098612</td>\n",
       "      <td>Maker</td>\n",
       "    </tr>\n",
       "    <tr>\n",
       "      <th>13</th>\n",
       "      <td>4</td>\n",
       "      <td>3.555348</td>\n",
       "      <td>Dogecoin</td>\n",
       "    </tr>\n",
       "  </tbody>\n",
       "</table>\n",
       "</div>"
      ],
      "text/plain": [
       "    Asset_ID    Weight        Asset_Name\n",
       "0          2  2.397895      Bitcoin Cash\n",
       "1          0  4.304065      Binance Coin\n",
       "2          1  6.779922           Bitcoin\n",
       "3          5  1.386294            EOS.IO\n",
       "4          7  2.079442  Ethereum Classic\n",
       "5          6  5.894403          Ethereum\n",
       "6          9  2.397895          Litecoin\n",
       "7         11  1.609438            Monero\n",
       "8         13  1.791759              TRON\n",
       "9         12  2.079442           Stellar\n",
       "10         3  4.406719           Cardano\n",
       "11         8  1.098612              IOTA\n",
       "12        10  1.098612             Maker\n",
       "13         4  3.555348          Dogecoin"
      ]
     },
     "execution_count": 39,
     "metadata": {},
     "output_type": "execute_result"
    }
   ],
   "source": [
    "assetinfo"
   ]
  },
  {
   "attachments": {},
   "cell_type": "markdown",
   "metadata": {},
   "source": [
    "Bitcoin Cash：Bitcoin Cash is the result of a Bitcoin hard fork that happened in August 2017. Bitcoin Cash was created to allow more transactions in a single block,  theoretically decreasing the fees and transaction times. As of March 22, 2022, Bitcoin Cash had a market capitalization of $4.48 billion, ranking it No. 24 among cryptocurrencies by this measure, while Bitcoin was the largest cryptocurrency by far, with its market cap of $808.37 billion more than twice that of second-ranked Ethereum at $360.82 billion.\n",
    "\n",
    "Binance Coin: Binance Coin is the cryptocurrency issued by the Binance exchange and trades with the BNB symbol. BNB was initially based on the Ethereum network but is now the native currency of Binance's own blockchain, the Binance chain. BNB is a utility cryptocurrency that operates as a payment method for the fees associated with trading on the Binance Exchange. Those who use the token as a means of payment for the exchange can trade at a discount. Now Binance had a market cap of more than $56 billion and ranks behind only Bitcoin, Ethereum, and USD Tether in terms of market cap. \n",
    "\n",
    "Bitcoin: (abbreviation: BTC; sign: ₿) A decentralized digital currency that can be transferred on the peer-to-peer bitcoin network.[7] Bitcoin transactions are verified by network nodes through cryptography and recorded in a public distributed ledger called a blockchain.\n",
    "\n",
    "EOS.I0:\n",
    "\n",
    "Ethereum Classic:\n",
    "\n",
    "Ethereum: (Abbreviation: ETH;[a] sign: Ξ) A decentralized, open-source blockchain with smart contract functionality. Ether is the native cryptocurrency of the platform. Among cryptocurrencies, ether is second only to bitcoin in market capitalization.\n",
    "\n",
    "Litecoin:\n",
    "\n",
    "Monero:\n",
    "\n",
    "TRON:\n",
    "\n",
    "Stellar:\n",
    "\n",
    "Cardano: Cardano (ADA) is an “Ouroboros proof-of-stake” cryptocurrency created with a research-based approach by engineers, mathematicians, and cryptography experts. Cardano aims to be the world’s financial operating system by establishing DeFi products similar to Ethereum's and providing solutions for chain interoperability, voter fraud, and legal contract tracing, among other things. \n",
    "\n",
    "IOIA:\n",
    "\n",
    "Maker:\n",
    "\n",
    "Dogecoin: Dogecoin (DOGE), seen by some as the original “memecoin,” caused a stir in 2021 as its price skyrocketed. The coin, which uses an image of the Shiba Inu as its avatar, is accepted as a form of payment by some major companies."
   ]
  },
  {
   "cell_type": "code",
   "execution_count": 40,
   "metadata": {},
   "outputs": [
    {
     "data": {
      "text/html": [
       "<div>\n",
       "<style scoped>\n",
       "    .dataframe tbody tr th:only-of-type {\n",
       "        vertical-align: middle;\n",
       "    }\n",
       "\n",
       "    .dataframe tbody tr th {\n",
       "        vertical-align: top;\n",
       "    }\n",
       "\n",
       "    .dataframe thead th {\n",
       "        text-align: right;\n",
       "    }\n",
       "</style>\n",
       "<table border=\"1\" class=\"dataframe\">\n",
       "  <thead>\n",
       "    <tr style=\"text-align: right;\">\n",
       "      <th></th>\n",
       "      <th>timestamp</th>\n",
       "      <th>Asset_ID</th>\n",
       "      <th>Count</th>\n",
       "      <th>Open</th>\n",
       "      <th>High</th>\n",
       "      <th>Low</th>\n",
       "      <th>Close</th>\n",
       "      <th>Volume</th>\n",
       "      <th>VWAP</th>\n",
       "      <th>Target</th>\n",
       "    </tr>\n",
       "  </thead>\n",
       "  <tbody>\n",
       "    <tr>\n",
       "      <th>0</th>\n",
       "      <td>1514764860</td>\n",
       "      <td>2</td>\n",
       "      <td>40.0</td>\n",
       "      <td>2376.5800</td>\n",
       "      <td>2399.5000</td>\n",
       "      <td>2357.1400</td>\n",
       "      <td>2374.5900</td>\n",
       "      <td>19.233005</td>\n",
       "      <td>2373.116392</td>\n",
       "      <td>-0.004218</td>\n",
       "    </tr>\n",
       "    <tr>\n",
       "      <th>1</th>\n",
       "      <td>1514764860</td>\n",
       "      <td>0</td>\n",
       "      <td>5.0</td>\n",
       "      <td>8.5300</td>\n",
       "      <td>8.5300</td>\n",
       "      <td>8.5300</td>\n",
       "      <td>8.5300</td>\n",
       "      <td>78.380000</td>\n",
       "      <td>8.530000</td>\n",
       "      <td>-0.014399</td>\n",
       "    </tr>\n",
       "    <tr>\n",
       "      <th>2</th>\n",
       "      <td>1514764860</td>\n",
       "      <td>1</td>\n",
       "      <td>229.0</td>\n",
       "      <td>13835.1940</td>\n",
       "      <td>14013.8000</td>\n",
       "      <td>13666.1100</td>\n",
       "      <td>13850.1760</td>\n",
       "      <td>31.550062</td>\n",
       "      <td>13827.062093</td>\n",
       "      <td>-0.014643</td>\n",
       "    </tr>\n",
       "    <tr>\n",
       "      <th>3</th>\n",
       "      <td>1514764860</td>\n",
       "      <td>5</td>\n",
       "      <td>32.0</td>\n",
       "      <td>7.6596</td>\n",
       "      <td>7.6596</td>\n",
       "      <td>7.6567</td>\n",
       "      <td>7.6576</td>\n",
       "      <td>6626.713370</td>\n",
       "      <td>7.657713</td>\n",
       "      <td>-0.013922</td>\n",
       "    </tr>\n",
       "    <tr>\n",
       "      <th>4</th>\n",
       "      <td>1514764860</td>\n",
       "      <td>7</td>\n",
       "      <td>5.0</td>\n",
       "      <td>25.9200</td>\n",
       "      <td>25.9200</td>\n",
       "      <td>25.8740</td>\n",
       "      <td>25.8770</td>\n",
       "      <td>121.087310</td>\n",
       "      <td>25.891363</td>\n",
       "      <td>-0.008264</td>\n",
       "    </tr>\n",
       "  </tbody>\n",
       "</table>\n",
       "</div>"
      ],
      "text/plain": [
       "    timestamp  Asset_ID  Count        Open        High         Low  \\\n",
       "0  1514764860         2   40.0   2376.5800   2399.5000   2357.1400   \n",
       "1  1514764860         0    5.0      8.5300      8.5300      8.5300   \n",
       "2  1514764860         1  229.0  13835.1940  14013.8000  13666.1100   \n",
       "3  1514764860         5   32.0      7.6596      7.6596      7.6567   \n",
       "4  1514764860         7    5.0     25.9200     25.9200     25.8740   \n",
       "\n",
       "        Close       Volume          VWAP    Target  \n",
       "0   2374.5900    19.233005   2373.116392 -0.004218  \n",
       "1      8.5300    78.380000      8.530000 -0.014399  \n",
       "2  13850.1760    31.550062  13827.062093 -0.014643  \n",
       "3      7.6576  6626.713370      7.657713 -0.013922  \n",
       "4     25.8770   121.087310     25.891363 -0.008264  "
      ]
     },
     "execution_count": 40,
     "metadata": {},
     "output_type": "execute_result"
    }
   ],
   "source": [
    "ctrain.head()"
   ]
  },
  {
   "cell_type": "code",
   "execution_count": 5,
   "metadata": {},
   "outputs": [
    {
     "name": "stdout",
     "output_type": "stream",
     "text": [
      "<class 'pandas.core.frame.DataFrame'>\n",
      "RangeIndex: 24236806 entries, 0 to 24236805\n",
      "Data columns (total 10 columns):\n",
      " #   Column     Non-Null Count     Dtype  \n",
      "---  ------     --------------     -----  \n",
      " 0   timestamp  24236806 non-null  int64  \n",
      " 1   Asset_ID   24236806 non-null  int64  \n",
      " 2   Count      24236806 non-null  float64\n",
      " 3   Open       24236806 non-null  float64\n",
      " 4   High       24236806 non-null  float64\n",
      " 5   Low        24236806 non-null  float64\n",
      " 6   Close      24236806 non-null  float64\n",
      " 7   Volume     24236806 non-null  float64\n",
      " 8   VWAP       24236797 non-null  float64\n",
      " 9   Target     23486468 non-null  float64\n",
      "dtypes: float64(8), int64(2)\n",
      "memory usage: 1.8 GB\n"
     ]
    }
   ],
   "source": [
    "ctrain.info(show_counts = True)"
   ]
  },
  {
   "attachments": {},
   "cell_type": "markdown",
   "metadata": {},
   "source": [
    "## Generate Sorting List"
   ]
  },
  {
   "cell_type": "code",
   "execution_count": 6,
   "metadata": {},
   "outputs": [],
   "source": [
    "asset_names_dict = {row[\"Asset_Name\"]:row[\"Asset_ID\"] for ind, row in assetinfo.iterrows()}\n",
    "\n",
    "asset_names = [\n",
    "    'Bitcoin',\n",
    "    'Ethereum',\n",
    "    'Cardano',\n",
    "    'Binance Coin',\n",
    "    'Dogecoin',\n",
    "    'Bitcoin Cash',\n",
    "    'Litecoin',\n",
    "    'Ethereum Classic',\n",
    "    'Stellar',\n",
    "    'TRON',\n",
    "    'Monero',\n",
    "    'EOS.IO',\n",
    "    'IOTA',\n",
    "    'Maker'\n",
    "]"
   ]
  },
  {
   "attachments": {},
   "cell_type": "markdown",
   "metadata": {},
   "source": [
    "## Timespan Overview"
   ]
  },
  {
   "cell_type": "code",
   "execution_count": 7,
   "metadata": {},
   "outputs": [
    {
     "data": {
      "text/html": [
       "<div>\n",
       "<style scoped>\n",
       "    .dataframe tbody tr th:only-of-type {\n",
       "        vertical-align: middle;\n",
       "    }\n",
       "\n",
       "    .dataframe tbody tr th {\n",
       "        vertical-align: top;\n",
       "    }\n",
       "\n",
       "    .dataframe thead th {\n",
       "        text-align: right;\n",
       "    }\n",
       "</style>\n",
       "<table border=\"1\" class=\"dataframe\">\n",
       "  <thead>\n",
       "    <tr style=\"text-align: right;\">\n",
       "      <th></th>\n",
       "      <th>Asset_Name</th>\n",
       "      <th>Begin_Time</th>\n",
       "      <th>End_Time</th>\n",
       "    </tr>\n",
       "  </thead>\n",
       "  <tbody>\n",
       "    <tr>\n",
       "      <th>0</th>\n",
       "      <td>Bitcoin</td>\n",
       "      <td>2018-01-01 00:01:00</td>\n",
       "      <td>2021-09-21</td>\n",
       "    </tr>\n",
       "    <tr>\n",
       "      <th>1</th>\n",
       "      <td>Ethereum</td>\n",
       "      <td>2018-01-01 00:01:00</td>\n",
       "      <td>2021-09-21</td>\n",
       "    </tr>\n",
       "    <tr>\n",
       "      <th>2</th>\n",
       "      <td>Cardano</td>\n",
       "      <td>2018-04-17 09:11:00</td>\n",
       "      <td>2021-09-21</td>\n",
       "    </tr>\n",
       "    <tr>\n",
       "      <th>3</th>\n",
       "      <td>Binance Coin</td>\n",
       "      <td>2018-01-01 00:01:00</td>\n",
       "      <td>2021-09-21</td>\n",
       "    </tr>\n",
       "    <tr>\n",
       "      <th>4</th>\n",
       "      <td>Dogecoin</td>\n",
       "      <td>2019-04-12 14:34:00</td>\n",
       "      <td>2021-09-21</td>\n",
       "    </tr>\n",
       "    <tr>\n",
       "      <th>5</th>\n",
       "      <td>Bitcoin Cash</td>\n",
       "      <td>2018-01-01 00:01:00</td>\n",
       "      <td>2021-09-21</td>\n",
       "    </tr>\n",
       "    <tr>\n",
       "      <th>6</th>\n",
       "      <td>Litecoin</td>\n",
       "      <td>2018-01-01 00:01:00</td>\n",
       "      <td>2021-09-21</td>\n",
       "    </tr>\n",
       "    <tr>\n",
       "      <th>7</th>\n",
       "      <td>Ethereum Classic</td>\n",
       "      <td>2018-01-01 00:01:00</td>\n",
       "      <td>2021-09-21</td>\n",
       "    </tr>\n",
       "    <tr>\n",
       "      <th>8</th>\n",
       "      <td>Stellar</td>\n",
       "      <td>2018-02-16 23:53:00</td>\n",
       "      <td>2021-09-21</td>\n",
       "    </tr>\n",
       "    <tr>\n",
       "      <th>9</th>\n",
       "      <td>TRON</td>\n",
       "      <td>2018-02-06 21:37:00</td>\n",
       "      <td>2021-09-21</td>\n",
       "    </tr>\n",
       "    <tr>\n",
       "      <th>10</th>\n",
       "      <td>Monero</td>\n",
       "      <td>2018-01-01 00:01:00</td>\n",
       "      <td>2021-09-21</td>\n",
       "    </tr>\n",
       "    <tr>\n",
       "      <th>11</th>\n",
       "      <td>EOS.IO</td>\n",
       "      <td>2018-01-01 00:01:00</td>\n",
       "      <td>2021-09-21</td>\n",
       "    </tr>\n",
       "    <tr>\n",
       "      <th>12</th>\n",
       "      <td>IOTA</td>\n",
       "      <td>2018-05-09 08:07:00</td>\n",
       "      <td>2021-09-21</td>\n",
       "    </tr>\n",
       "    <tr>\n",
       "      <th>13</th>\n",
       "      <td>Maker</td>\n",
       "      <td>2018-05-10 15:21:00</td>\n",
       "      <td>2021-09-21</td>\n",
       "    </tr>\n",
       "  </tbody>\n",
       "</table>\n",
       "</div>"
      ],
      "text/plain": [
       "          Asset_Name          Begin_Time   End_Time\n",
       "0            Bitcoin 2018-01-01 00:01:00 2021-09-21\n",
       "1           Ethereum 2018-01-01 00:01:00 2021-09-21\n",
       "2            Cardano 2018-04-17 09:11:00 2021-09-21\n",
       "3       Binance Coin 2018-01-01 00:01:00 2021-09-21\n",
       "4           Dogecoin 2019-04-12 14:34:00 2021-09-21\n",
       "5       Bitcoin Cash 2018-01-01 00:01:00 2021-09-21\n",
       "6           Litecoin 2018-01-01 00:01:00 2021-09-21\n",
       "7   Ethereum Classic 2018-01-01 00:01:00 2021-09-21\n",
       "8            Stellar 2018-02-16 23:53:00 2021-09-21\n",
       "9               TRON 2018-02-06 21:37:00 2021-09-21\n",
       "10            Monero 2018-01-01 00:01:00 2021-09-21\n",
       "11            EOS.IO 2018-01-01 00:01:00 2021-09-21\n",
       "12              IOTA 2018-05-09 08:07:00 2021-09-21\n",
       "13             Maker 2018-05-10 15:21:00 2021-09-21"
      ]
     },
     "execution_count": 7,
     "metadata": {},
     "output_type": "execute_result"
    }
   ],
   "source": [
    "time_list = []\n",
    "for coin in asset_names:\n",
    "    coin_df = ctrain[ctrain[\"Asset_ID\"]==asset_names_dict[coin]].set_index(\"timestamp\")  # 以timestamp为index，按照加密货币种类生成df; create dataframe in accordance to the type of crpytocurrency, with timestamp as index \n",
    "    beg_time = coin_df.index[0].astype('datetime64[s]') # astype是pandas的数据转换function(如df['clientno'].astype('object'),也可以用to_datetime()), 从数据库中读取的timestamp往往是object格式，将object的日期格式转换成时间格式datetime64(在pandas和numpy下)([s]second,[m]minute,[h]hour,[D]day,[W]week,[M]month,[Y]year,[ms,us,ns,ps,fs,as])\n",
    "    end_time = coin_df.index[-1].astype('datetime64[s]') #we can use astype to change the type of the data(not limited to time, e.g:df['clientno'].astype('object')), datetime64 is the type of time data under pandas and numpy\n",
    "    time_list.append([coin, beg_time, end_time])\n",
    "time_df = pd.DataFrame(time_list)\n",
    "time_df.columns = [\"Asset_Name\", \"Begin_Time\", \"End_Time\"]\n",
    "time_df"
   ]
  },
  {
   "attachments": {},
   "cell_type": "markdown",
   "metadata": {},
   "source": [
    "## Missing data overview"
   ]
  },
  {
   "cell_type": "code",
   "execution_count": 8,
   "metadata": {},
   "outputs": [
    {
     "data": {
      "text/html": [
       "<div>\n",
       "<style scoped>\n",
       "    .dataframe tbody tr th:only-of-type {\n",
       "        vertical-align: middle;\n",
       "    }\n",
       "\n",
       "    .dataframe tbody tr th {\n",
       "        vertical-align: top;\n",
       "    }\n",
       "\n",
       "    .dataframe thead th {\n",
       "        text-align: right;\n",
       "    }\n",
       "</style>\n",
       "<table border=\"1\" class=\"dataframe\">\n",
       "  <thead>\n",
       "    <tr style=\"text-align: right;\">\n",
       "      <th></th>\n",
       "      <th>Asset_Name</th>\n",
       "      <th>number_of_gaps</th>\n",
       "      <th>max_gap_in_seconds</th>\n",
       "    </tr>\n",
       "  </thead>\n",
       "  <tbody>\n",
       "    <tr>\n",
       "      <th>0</th>\n",
       "      <td>Bitcoin</td>\n",
       "      <td>145</td>\n",
       "      <td>2400</td>\n",
       "    </tr>\n",
       "    <tr>\n",
       "      <th>1</th>\n",
       "      <td>Ethereum</td>\n",
       "      <td>156</td>\n",
       "      <td>7200</td>\n",
       "    </tr>\n",
       "    <tr>\n",
       "      <th>2</th>\n",
       "      <td>Cardano</td>\n",
       "      <td>9360</td>\n",
       "      <td>4800</td>\n",
       "    </tr>\n",
       "    <tr>\n",
       "      <th>3</th>\n",
       "      <td>Binance Coin</td>\n",
       "      <td>6600</td>\n",
       "      <td>120720</td>\n",
       "    </tr>\n",
       "    <tr>\n",
       "      <th>4</th>\n",
       "      <td>Dogecoin</td>\n",
       "      <td>76652</td>\n",
       "      <td>7260</td>\n",
       "    </tr>\n",
       "    <tr>\n",
       "      <th>5</th>\n",
       "      <td>Bitcoin Cash</td>\n",
       "      <td>2502</td>\n",
       "      <td>4380</td>\n",
       "    </tr>\n",
       "    <tr>\n",
       "      <th>6</th>\n",
       "      <td>Litecoin</td>\n",
       "      <td>291</td>\n",
       "      <td>5280</td>\n",
       "    </tr>\n",
       "    <tr>\n",
       "      <th>7</th>\n",
       "      <td>Ethereum Classic</td>\n",
       "      <td>4707</td>\n",
       "      <td>3780</td>\n",
       "    </tr>\n",
       "    <tr>\n",
       "      <th>8</th>\n",
       "      <td>Stellar</td>\n",
       "      <td>37770</td>\n",
       "      <td>8520</td>\n",
       "    </tr>\n",
       "    <tr>\n",
       "      <th>9</th>\n",
       "      <td>TRON</td>\n",
       "      <td>12225</td>\n",
       "      <td>3000</td>\n",
       "    </tr>\n",
       "    <tr>\n",
       "      <th>10</th>\n",
       "      <td>Monero</td>\n",
       "      <td>131837</td>\n",
       "      <td>3180</td>\n",
       "    </tr>\n",
       "    <tr>\n",
       "      <th>11</th>\n",
       "      <td>EOS.IO</td>\n",
       "      <td>1188</td>\n",
       "      <td>3960</td>\n",
       "    </tr>\n",
       "    <tr>\n",
       "      <th>12</th>\n",
       "      <td>IOTA</td>\n",
       "      <td>107741</td>\n",
       "      <td>10920</td>\n",
       "    </tr>\n",
       "    <tr>\n",
       "      <th>13</th>\n",
       "      <td>Maker</td>\n",
       "      <td>26497</td>\n",
       "      <td>281700</td>\n",
       "    </tr>\n",
       "  </tbody>\n",
       "</table>\n",
       "</div>"
      ],
      "text/plain": [
       "          Asset_Name  number_of_gaps  max_gap_in_seconds\n",
       "0            Bitcoin             145                2400\n",
       "1           Ethereum             156                7200\n",
       "2            Cardano            9360                4800\n",
       "3       Binance Coin            6600              120720\n",
       "4           Dogecoin           76652                7260\n",
       "5       Bitcoin Cash            2502                4380\n",
       "6           Litecoin             291                5280\n",
       "7   Ethereum Classic            4707                3780\n",
       "8            Stellar           37770                8520\n",
       "9               TRON           12225                3000\n",
       "10            Monero          131837                3180\n",
       "11            EOS.IO            1188                3960\n",
       "12              IOTA          107741               10920\n",
       "13             Maker           26497              281700"
      ]
     },
     "execution_count": 8,
     "metadata": {},
     "output_type": "execute_result"
    }
   ],
   "source": [
    "gap_list = []\n",
    "for coin in asset_names:\n",
    "    coin_df = ctrain[ctrain[\"Asset_ID\"]==asset_names_dict[coin]].set_index(\"timestamp\")\n",
    "    gap_df = (coin_df.index[1:]-coin_df.index[:-1]).value_counts().reset_index() #针对每个币种，计算两个记录之间的时间差(计算结果有60s,120s,180s...),然后计算每种时间差的数量，并以时间差种类为index生成一个序列（索引/时间差/时间差个数）; for each cryptocurrency, calculate the time gap between two records(outcomes include 60s,120s,180s...), then calculate the amount of each type of gap(60s,120s,180s...), finally generate a dataframe with the type of gap as index\n",
    "    n_gaps = gap_df[gap_df[\"index\"]!=60][\"timestamp\"].sum() #剔除时间差为60s的数据后，针对每个币种统计不同时间差的个数; from the dataframe previously generated we neglect those 60s\n",
    "    max_gap = gap_df[\"index\"].max()\n",
    "    gap_list.append([coin, n_gaps, max_gap])\n",
    "gap_df = pd.DataFrame(gap_list)\n",
    "gap_df.columns = [\"Asset_Name\", \"number_of_gaps\", \"max_gap_in_seconds\"]\n",
    "gap_df"
   ]
  },
  {
   "cell_type": "code",
   "execution_count": 9,
   "metadata": {},
   "outputs": [
    {
     "data": {
      "text/html": [
       "<div>\n",
       "<style scoped>\n",
       "    .dataframe tbody tr th:only-of-type {\n",
       "        vertical-align: middle;\n",
       "    }\n",
       "\n",
       "    .dataframe tbody tr th {\n",
       "        vertical-align: top;\n",
       "    }\n",
       "\n",
       "    .dataframe thead th {\n",
       "        text-align: right;\n",
       "    }\n",
       "</style>\n",
       "<table border=\"1\" class=\"dataframe\">\n",
       "  <thead>\n",
       "    <tr style=\"text-align: right;\">\n",
       "      <th></th>\n",
       "      <th>Asset_Name</th>\n",
       "      <th>TotalRows</th>\n",
       "      <th>Missing_Asset_ID</th>\n",
       "      <th>Missing_Count</th>\n",
       "      <th>Missing_Open</th>\n",
       "      <th>Missing_High</th>\n",
       "      <th>Missing_Low</th>\n",
       "      <th>Missing_Close</th>\n",
       "      <th>Missing_Volume</th>\n",
       "      <th>Missing_VWAP</th>\n",
       "      <th>Missing_Target</th>\n",
       "    </tr>\n",
       "  </thead>\n",
       "  <tbody>\n",
       "    <tr>\n",
       "      <th>0</th>\n",
       "      <td>Bitcoin</td>\n",
       "      <td>1956282</td>\n",
       "      <td>0</td>\n",
       "      <td>0</td>\n",
       "      <td>0</td>\n",
       "      <td>0</td>\n",
       "      <td>0</td>\n",
       "      <td>0</td>\n",
       "      <td>0</td>\n",
       "      <td>0</td>\n",
       "      <td>304</td>\n",
       "    </tr>\n",
       "    <tr>\n",
       "      <th>1</th>\n",
       "      <td>Ethereum</td>\n",
       "      <td>1956200</td>\n",
       "      <td>0</td>\n",
       "      <td>0</td>\n",
       "      <td>0</td>\n",
       "      <td>0</td>\n",
       "      <td>0</td>\n",
       "      <td>0</td>\n",
       "      <td>0</td>\n",
       "      <td>0</td>\n",
       "      <td>340</td>\n",
       "    </tr>\n",
       "    <tr>\n",
       "      <th>2</th>\n",
       "      <td>Cardano</td>\n",
       "      <td>1791867</td>\n",
       "      <td>0</td>\n",
       "      <td>0</td>\n",
       "      <td>0</td>\n",
       "      <td>0</td>\n",
       "      <td>0</td>\n",
       "      <td>0</td>\n",
       "      <td>0</td>\n",
       "      <td>0</td>\n",
       "      <td>18731</td>\n",
       "    </tr>\n",
       "    <tr>\n",
       "      <th>3</th>\n",
       "      <td>Binance Coin</td>\n",
       "      <td>1942619</td>\n",
       "      <td>0</td>\n",
       "      <td>0</td>\n",
       "      <td>0</td>\n",
       "      <td>0</td>\n",
       "      <td>0</td>\n",
       "      <td>0</td>\n",
       "      <td>0</td>\n",
       "      <td>0</td>\n",
       "      <td>13415</td>\n",
       "    </tr>\n",
       "    <tr>\n",
       "      <th>4</th>\n",
       "      <td>Dogecoin</td>\n",
       "      <td>1156866</td>\n",
       "      <td>0</td>\n",
       "      <td>0</td>\n",
       "      <td>0</td>\n",
       "      <td>0</td>\n",
       "      <td>0</td>\n",
       "      <td>0</td>\n",
       "      <td>0</td>\n",
       "      <td>0</td>\n",
       "      <td>144974</td>\n",
       "    </tr>\n",
       "    <tr>\n",
       "      <th>5</th>\n",
       "      <td>Bitcoin Cash</td>\n",
       "      <td>1953537</td>\n",
       "      <td>0</td>\n",
       "      <td>0</td>\n",
       "      <td>0</td>\n",
       "      <td>0</td>\n",
       "      <td>0</td>\n",
       "      <td>0</td>\n",
       "      <td>0</td>\n",
       "      <td>0</td>\n",
       "      <td>4861</td>\n",
       "    </tr>\n",
       "    <tr>\n",
       "      <th>6</th>\n",
       "      <td>Litecoin</td>\n",
       "      <td>1956030</td>\n",
       "      <td>0</td>\n",
       "      <td>0</td>\n",
       "      <td>0</td>\n",
       "      <td>0</td>\n",
       "      <td>0</td>\n",
       "      <td>0</td>\n",
       "      <td>0</td>\n",
       "      <td>0</td>\n",
       "      <td>521</td>\n",
       "    </tr>\n",
       "    <tr>\n",
       "      <th>7</th>\n",
       "      <td>Ethereum Classic</td>\n",
       "      <td>1951127</td>\n",
       "      <td>0</td>\n",
       "      <td>0</td>\n",
       "      <td>0</td>\n",
       "      <td>0</td>\n",
       "      <td>0</td>\n",
       "      <td>0</td>\n",
       "      <td>0</td>\n",
       "      <td>0</td>\n",
       "      <td>9326</td>\n",
       "    </tr>\n",
       "    <tr>\n",
       "      <th>8</th>\n",
       "      <td>Stellar</td>\n",
       "      <td>1778749</td>\n",
       "      <td>0</td>\n",
       "      <td>0</td>\n",
       "      <td>0</td>\n",
       "      <td>0</td>\n",
       "      <td>0</td>\n",
       "      <td>0</td>\n",
       "      <td>0</td>\n",
       "      <td>0</td>\n",
       "      <td>61816</td>\n",
       "    </tr>\n",
       "    <tr>\n",
       "      <th>9</th>\n",
       "      <td>TRON</td>\n",
       "      <td>1874560</td>\n",
       "      <td>0</td>\n",
       "      <td>0</td>\n",
       "      <td>0</td>\n",
       "      <td>0</td>\n",
       "      <td>0</td>\n",
       "      <td>0</td>\n",
       "      <td>0</td>\n",
       "      <td>0</td>\n",
       "      <td>21014</td>\n",
       "    </tr>\n",
       "    <tr>\n",
       "      <th>10</th>\n",
       "      <td>Monero</td>\n",
       "      <td>1701261</td>\n",
       "      <td>0</td>\n",
       "      <td>0</td>\n",
       "      <td>0</td>\n",
       "      <td>0</td>\n",
       "      <td>0</td>\n",
       "      <td>0</td>\n",
       "      <td>0</td>\n",
       "      <td>0</td>\n",
       "      <td>239603</td>\n",
       "    </tr>\n",
       "    <tr>\n",
       "      <th>11</th>\n",
       "      <td>EOS.IO</td>\n",
       "      <td>1955140</td>\n",
       "      <td>0</td>\n",
       "      <td>0</td>\n",
       "      <td>0</td>\n",
       "      <td>0</td>\n",
       "      <td>0</td>\n",
       "      <td>0</td>\n",
       "      <td>0</td>\n",
       "      <td>0</td>\n",
       "      <td>2302</td>\n",
       "    </tr>\n",
       "    <tr>\n",
       "      <th>12</th>\n",
       "      <td>IOTA</td>\n",
       "      <td>1592071</td>\n",
       "      <td>0</td>\n",
       "      <td>0</td>\n",
       "      <td>0</td>\n",
       "      <td>0</td>\n",
       "      <td>0</td>\n",
       "      <td>0</td>\n",
       "      <td>0</td>\n",
       "      <td>0</td>\n",
       "      <td>193106</td>\n",
       "    </tr>\n",
       "    <tr>\n",
       "      <th>13</th>\n",
       "      <td>Maker</td>\n",
       "      <td>670497</td>\n",
       "      <td>0</td>\n",
       "      <td>0</td>\n",
       "      <td>0</td>\n",
       "      <td>0</td>\n",
       "      <td>0</td>\n",
       "      <td>0</td>\n",
       "      <td>0</td>\n",
       "      <td>9</td>\n",
       "      <td>40025</td>\n",
       "    </tr>\n",
       "  </tbody>\n",
       "</table>\n",
       "</div>"
      ],
      "text/plain": [
       "          Asset_Name  TotalRows  Missing_Asset_ID  Missing_Count  \\\n",
       "0            Bitcoin    1956282                 0              0   \n",
       "1           Ethereum    1956200                 0              0   \n",
       "2            Cardano    1791867                 0              0   \n",
       "3       Binance Coin    1942619                 0              0   \n",
       "4           Dogecoin    1156866                 0              0   \n",
       "5       Bitcoin Cash    1953537                 0              0   \n",
       "6           Litecoin    1956030                 0              0   \n",
       "7   Ethereum Classic    1951127                 0              0   \n",
       "8            Stellar    1778749                 0              0   \n",
       "9               TRON    1874560                 0              0   \n",
       "10            Monero    1701261                 0              0   \n",
       "11            EOS.IO    1955140                 0              0   \n",
       "12              IOTA    1592071                 0              0   \n",
       "13             Maker     670497                 0              0   \n",
       "\n",
       "    Missing_Open  Missing_High  Missing_Low  Missing_Close  Missing_Volume  \\\n",
       "0              0             0            0              0               0   \n",
       "1              0             0            0              0               0   \n",
       "2              0             0            0              0               0   \n",
       "3              0             0            0              0               0   \n",
       "4              0             0            0              0               0   \n",
       "5              0             0            0              0               0   \n",
       "6              0             0            0              0               0   \n",
       "7              0             0            0              0               0   \n",
       "8              0             0            0              0               0   \n",
       "9              0             0            0              0               0   \n",
       "10             0             0            0              0               0   \n",
       "11             0             0            0              0               0   \n",
       "12             0             0            0              0               0   \n",
       "13             0             0            0              0               0   \n",
       "\n",
       "    Missing_VWAP  Missing_Target  \n",
       "0              0             304  \n",
       "1              0             340  \n",
       "2              0           18731  \n",
       "3              0           13415  \n",
       "4              0          144974  \n",
       "5              0            4861  \n",
       "6              0             521  \n",
       "7              0            9326  \n",
       "8              0           61816  \n",
       "9              0           21014  \n",
       "10             0          239603  \n",
       "11             0            2302  \n",
       "12             0          193106  \n",
       "13             9           40025  "
      ]
     },
     "execution_count": 9,
     "metadata": {},
     "output_type": "execute_result"
    }
   ],
   "source": [
    "missing_list = []\n",
    "for coin in asset_names:\n",
    "    coin_df = ctrain[ctrain[\"Asset_ID\"]==asset_names_dict[coin]].set_index(\"timestamp\")\n",
    "    missing_list.append([coin, coin_df.shape[0]] + coin_df.isna().sum().tolist()) #coin_df.shape[0]读取某个币种数组的行数(即下面结果中的TotalRows，[1]读取列数, 对于三维张量还有shape[2]; use coin_df_shape[0] we can get the number of rows of the dataframe of each coin (the column \"TotalRows\" in the outcome, shape[0]-the number of rows, shape[1]-the number of columns, for 3 dimension dataset, there will be shape[2]\n",
    "missing_df = pd.DataFrame(missing_list)\n",
    "missing_df.columns = [\"Asset_Name\", \"TotalRows\", 'Missing_Asset_ID', 'Missing_Count', 'Missing_Open', \n",
    "                      'Missing_High', 'Missing_Low', 'Missing_Close', 'Missing_Volume', 'Missing_VWAP', 'Missing_Target']\n",
    "missing_df"
   ]
  },
  {
   "attachments": {},
   "cell_type": "markdown",
   "metadata": {},
   "source": [
    "# Data preprocessing"
   ]
  },
  {
   "attachments": {},
   "cell_type": "markdown",
   "metadata": {},
   "source": [
    "## Dealing with missing data"
   ]
  },
  {
   "attachments": {},
   "cell_type": "markdown",
   "metadata": {},
   "source": [
    "### Missing time"
   ]
  },
  {
   "cell_type": "code",
   "execution_count": 10,
   "metadata": {},
   "outputs": [],
   "source": [
    "allcoin = pd.DataFrame([])\n",
    "for coin in asset_names:\n",
    "    coin_df = ctrain[ctrain[\"Asset_ID\"]==asset_names_dict[coin]].set_index(\"timestamp\")\n",
    "    coin_df_time = coin_df.reindex(range(coin_df.index[0],coin_df.index[-1]+60,60), method=\"pad\")    # range(star(opt.specifying at which position to start, default is 0), stop(opt.specifying at which position to stop, not included), step(specifying the incrementation, default is 1)) ;  df.fillna(), methods include backfill, bfill, pad, ffill and None, pad is the same as ffill actually https://pandas.pydata.org/docs/reference/api/pandas.DataFrame.fillna.html\n",
    "    allcoin = allcoin.append(coin_df_time)"
   ]
  },
  {
   "cell_type": "code",
   "execution_count": 11,
   "metadata": {},
   "outputs": [
    {
     "data": {
      "text/html": [
       "<div>\n",
       "<style scoped>\n",
       "    .dataframe tbody tr th:only-of-type {\n",
       "        vertical-align: middle;\n",
       "    }\n",
       "\n",
       "    .dataframe tbody tr th {\n",
       "        vertical-align: top;\n",
       "    }\n",
       "\n",
       "    .dataframe thead th {\n",
       "        text-align: right;\n",
       "    }\n",
       "</style>\n",
       "<table border=\"1\" class=\"dataframe\">\n",
       "  <thead>\n",
       "    <tr style=\"text-align: right;\">\n",
       "      <th></th>\n",
       "      <th>Asset_ID</th>\n",
       "      <th>Count</th>\n",
       "      <th>Open</th>\n",
       "      <th>High</th>\n",
       "      <th>Low</th>\n",
       "      <th>Close</th>\n",
       "      <th>Volume</th>\n",
       "      <th>VWAP</th>\n",
       "      <th>Target</th>\n",
       "    </tr>\n",
       "    <tr>\n",
       "      <th>timestamp</th>\n",
       "      <th></th>\n",
       "      <th></th>\n",
       "      <th></th>\n",
       "      <th></th>\n",
       "      <th></th>\n",
       "      <th></th>\n",
       "      <th></th>\n",
       "      <th></th>\n",
       "      <th></th>\n",
       "    </tr>\n",
       "  </thead>\n",
       "  <tbody>\n",
       "    <tr>\n",
       "      <th>1514764860</th>\n",
       "      <td>1</td>\n",
       "      <td>229.0</td>\n",
       "      <td>13835.194000</td>\n",
       "      <td>14013.8000</td>\n",
       "      <td>13666.1100</td>\n",
       "      <td>13850.176000</td>\n",
       "      <td>31.550062</td>\n",
       "      <td>13827.062093</td>\n",
       "      <td>-0.014643</td>\n",
       "    </tr>\n",
       "    <tr>\n",
       "      <th>1514764920</th>\n",
       "      <td>1</td>\n",
       "      <td>235.0</td>\n",
       "      <td>13835.036000</td>\n",
       "      <td>14052.3000</td>\n",
       "      <td>13680.0000</td>\n",
       "      <td>13828.102000</td>\n",
       "      <td>31.046432</td>\n",
       "      <td>13840.362591</td>\n",
       "      <td>-0.015037</td>\n",
       "    </tr>\n",
       "    <tr>\n",
       "      <th>1514764980</th>\n",
       "      <td>1</td>\n",
       "      <td>528.0</td>\n",
       "      <td>13823.900000</td>\n",
       "      <td>14000.4000</td>\n",
       "      <td>13601.0000</td>\n",
       "      <td>13801.314000</td>\n",
       "      <td>55.061820</td>\n",
       "      <td>13806.068014</td>\n",
       "      <td>-0.010309</td>\n",
       "    </tr>\n",
       "    <tr>\n",
       "      <th>1514765040</th>\n",
       "      <td>1</td>\n",
       "      <td>435.0</td>\n",
       "      <td>13802.512000</td>\n",
       "      <td>13999.0000</td>\n",
       "      <td>13576.2800</td>\n",
       "      <td>13768.040000</td>\n",
       "      <td>38.780529</td>\n",
       "      <td>13783.598101</td>\n",
       "      <td>-0.008999</td>\n",
       "    </tr>\n",
       "    <tr>\n",
       "      <th>1514765100</th>\n",
       "      <td>1</td>\n",
       "      <td>742.0</td>\n",
       "      <td>13766.000000</td>\n",
       "      <td>13955.9000</td>\n",
       "      <td>13554.4400</td>\n",
       "      <td>13724.914000</td>\n",
       "      <td>108.501637</td>\n",
       "      <td>13735.586842</td>\n",
       "      <td>-0.008079</td>\n",
       "    </tr>\n",
       "    <tr>\n",
       "      <th>...</th>\n",
       "      <td>...</td>\n",
       "      <td>...</td>\n",
       "      <td>...</td>\n",
       "      <td>...</td>\n",
       "      <td>...</td>\n",
       "      <td>...</td>\n",
       "      <td>...</td>\n",
       "      <td>...</td>\n",
       "      <td>...</td>\n",
       "    </tr>\n",
       "    <tr>\n",
       "      <th>1632182160</th>\n",
       "      <td>10</td>\n",
       "      <td>32.0</td>\n",
       "      <td>2432.374125</td>\n",
       "      <td>2434.6565</td>\n",
       "      <td>2424.0000</td>\n",
       "      <td>2425.832500</td>\n",
       "      <td>0.908325</td>\n",
       "      <td>2428.051855</td>\n",
       "      <td>NaN</td>\n",
       "    </tr>\n",
       "    <tr>\n",
       "      <th>1632182220</th>\n",
       "      <td>10</td>\n",
       "      <td>22.0</td>\n",
       "      <td>2423.134450</td>\n",
       "      <td>2426.0000</td>\n",
       "      <td>2417.0000</td>\n",
       "      <td>2419.437500</td>\n",
       "      <td>1.070306</td>\n",
       "      <td>2420.973654</td>\n",
       "      <td>NaN</td>\n",
       "    </tr>\n",
       "    <tr>\n",
       "      <th>1632182280</th>\n",
       "      <td>10</td>\n",
       "      <td>51.0</td>\n",
       "      <td>2417.673900</td>\n",
       "      <td>2423.0000</td>\n",
       "      <td>2414.0000</td>\n",
       "      <td>2421.112000</td>\n",
       "      <td>8.953943</td>\n",
       "      <td>2419.701730</td>\n",
       "      <td>NaN</td>\n",
       "    </tr>\n",
       "    <tr>\n",
       "      <th>1632182340</th>\n",
       "      <td>10</td>\n",
       "      <td>63.0</td>\n",
       "      <td>2424.459500</td>\n",
       "      <td>2439.0000</td>\n",
       "      <td>2420.4780</td>\n",
       "      <td>2435.652250</td>\n",
       "      <td>6.107466</td>\n",
       "      <td>2432.949907</td>\n",
       "      <td>NaN</td>\n",
       "    </tr>\n",
       "    <tr>\n",
       "      <th>1632182400</th>\n",
       "      <td>10</td>\n",
       "      <td>34.0</td>\n",
       "      <td>2437.065067</td>\n",
       "      <td>2438.0000</td>\n",
       "      <td>2430.2269</td>\n",
       "      <td>2432.907467</td>\n",
       "      <td>3.975460</td>\n",
       "      <td>2434.818747</td>\n",
       "      <td>NaN</td>\n",
       "    </tr>\n",
       "  </tbody>\n",
       "</table>\n",
       "<p>26080043 rows × 9 columns</p>\n",
       "</div>"
      ],
      "text/plain": [
       "            Asset_ID  Count          Open        High         Low  \\\n",
       "timestamp                                                           \n",
       "1514764860         1  229.0  13835.194000  14013.8000  13666.1100   \n",
       "1514764920         1  235.0  13835.036000  14052.3000  13680.0000   \n",
       "1514764980         1  528.0  13823.900000  14000.4000  13601.0000   \n",
       "1514765040         1  435.0  13802.512000  13999.0000  13576.2800   \n",
       "1514765100         1  742.0  13766.000000  13955.9000  13554.4400   \n",
       "...              ...    ...           ...         ...         ...   \n",
       "1632182160        10   32.0   2432.374125   2434.6565   2424.0000   \n",
       "1632182220        10   22.0   2423.134450   2426.0000   2417.0000   \n",
       "1632182280        10   51.0   2417.673900   2423.0000   2414.0000   \n",
       "1632182340        10   63.0   2424.459500   2439.0000   2420.4780   \n",
       "1632182400        10   34.0   2437.065067   2438.0000   2430.2269   \n",
       "\n",
       "                   Close      Volume          VWAP    Target  \n",
       "timestamp                                                     \n",
       "1514764860  13850.176000   31.550062  13827.062093 -0.014643  \n",
       "1514764920  13828.102000   31.046432  13840.362591 -0.015037  \n",
       "1514764980  13801.314000   55.061820  13806.068014 -0.010309  \n",
       "1514765040  13768.040000   38.780529  13783.598101 -0.008999  \n",
       "1514765100  13724.914000  108.501637  13735.586842 -0.008079  \n",
       "...                  ...         ...           ...       ...  \n",
       "1632182160   2425.832500    0.908325   2428.051855       NaN  \n",
       "1632182220   2419.437500    1.070306   2420.973654       NaN  \n",
       "1632182280   2421.112000    8.953943   2419.701730       NaN  \n",
       "1632182340   2435.652250    6.107466   2432.949907       NaN  \n",
       "1632182400   2432.907467    3.975460   2434.818747       NaN  \n",
       "\n",
       "[26080043 rows x 9 columns]"
      ]
     },
     "execution_count": 11,
     "metadata": {},
     "output_type": "execute_result"
    }
   ],
   "source": [
    "allcoin"
   ]
  },
  {
   "cell_type": "code",
   "execution_count": 12,
   "metadata": {},
   "outputs": [
    {
     "data": {
      "text/plain": [
       " 60           26080029\n",
       "-117417540           7\n",
       "-108226140           1\n",
       "-77102760            1\n",
       "-113357220           1\n",
       "Name: timestamp, dtype: int64"
      ]
     },
     "execution_count": 12,
     "metadata": {},
     "output_type": "execute_result"
    }
   ],
   "source": [
    "(allcoin.index[1:]-allcoin.index[:-1]).value_counts().head() #check if there is some surprise that we don't want, those ten hug time gap should be the gap between the end time of one currency and the start time of another one"
   ]
  },
  {
   "cell_type": "code",
   "execution_count": 13,
   "metadata": {},
   "outputs": [
    {
     "name": "stdout",
     "output_type": "stream",
     "text": [
      "Original Dataset Null Summary\n"
     ]
    },
    {
     "data": {
      "text/plain": [
       "timestamp         0\n",
       "Asset_ID          0\n",
       "Count             0\n",
       "Open              0\n",
       "High              0\n",
       "Low               0\n",
       "Close             0\n",
       "Volume            0\n",
       "VWAP              9\n",
       "Target       750338\n",
       "dtype: int64"
      ]
     },
     "execution_count": 13,
     "metadata": {},
     "output_type": "execute_result"
    }
   ],
   "source": [
    "print('Original Dataset Null Summary')\n",
    "ctrain.isnull().sum()"
   ]
  },
  {
   "cell_type": "code",
   "execution_count": 14,
   "metadata": {},
   "outputs": [
    {
     "name": "stdout",
     "output_type": "stream",
     "text": [
      "Modified Dataset Null Summary\n"
     ]
    },
    {
     "data": {
      "text/plain": [
       "Asset_ID          0\n",
       "Count             0\n",
       "Open              0\n",
       "High              0\n",
       "Low               0\n",
       "Close             0\n",
       "Volume            0\n",
       "VWAP             18\n",
       "Target      2593032\n",
       "dtype: int64"
      ]
     },
     "execution_count": 14,
     "metadata": {},
     "output_type": "execute_result"
    }
   ],
   "source": [
    "print('Modified Dataset Null Summary')  \n",
    "allcoin.isnull().sum()\n",
    "\n",
    "# it shows that we add 1,842,694(2593032-750338) rows after dealing with the missing timestamps"
   ]
  },
  {
   "attachments": {},
   "cell_type": "markdown",
   "metadata": {},
   "source": [
    "### Log Return"
   ]
  },
  {
   "attachments": {},
   "cell_type": "markdown",
   "metadata": {},
   "source": [
    "Removing Variability Using Logarithmic Transformation\n",
    "Since the data shows changing variance over time, the first thing we will do to stabilize the variance by applying log transformation using the log() function. The resulting series will be a linear time series.\n",
    "\n",
    "Removing Linear Trend\n",
    "Then we perform the first difference transformation z(t) - z(t-1) to our series to remove the linear trend\n"
   ]
  },
  {
   "cell_type": "code",
   "execution_count": 15,
   "metadata": {},
   "outputs": [],
   "source": [
    "def log_return(series, periods = 1):\n",
    "    return np.log(series).diff(periods=periods)\n",
    "\n",
    "allcoinlret = pd.DataFrame([])\n",
    "for coin in asset_names:\n",
    "    coin_df = ctrain[ctrain[\"Asset_ID\"]==asset_names_dict[coin]].set_index(\"timestamp\")\n",
    "    coin_lret = log_return(coin_df.Close)[1:]\n",
    "    allcoinlret = allcoinlret.join(coin_lret, rsuffix= coin, how = \"outer\") # rsuffix - add appendix from the right(Close➡️CloseEthereum) the usage of merge,join, concat and compare https://pandas.pydata.org/pandas-docs/stable/user_guide/merging.html"
   ]
  },
  {
   "cell_type": "code",
   "execution_count": 16,
   "metadata": {},
   "outputs": [
    {
     "data": {
      "text/html": [
       "<div>\n",
       "<style scoped>\n",
       "    .dataframe tbody tr th:only-of-type {\n",
       "        vertical-align: middle;\n",
       "    }\n",
       "\n",
       "    .dataframe tbody tr th {\n",
       "        vertical-align: top;\n",
       "    }\n",
       "\n",
       "    .dataframe thead th {\n",
       "        text-align: right;\n",
       "    }\n",
       "</style>\n",
       "<table border=\"1\" class=\"dataframe\">\n",
       "  <thead>\n",
       "    <tr style=\"text-align: right;\">\n",
       "      <th></th>\n",
       "      <th>Close</th>\n",
       "      <th>CloseEthereum</th>\n",
       "      <th>CloseCardano</th>\n",
       "      <th>CloseBinance Coin</th>\n",
       "      <th>CloseDogecoin</th>\n",
       "      <th>CloseBitcoin Cash</th>\n",
       "      <th>CloseLitecoin</th>\n",
       "      <th>CloseEthereum Classic</th>\n",
       "      <th>CloseStellar</th>\n",
       "      <th>CloseTRON</th>\n",
       "      <th>CloseMonero</th>\n",
       "      <th>CloseEOS.IO</th>\n",
       "      <th>CloseIOTA</th>\n",
       "      <th>CloseMaker</th>\n",
       "    </tr>\n",
       "    <tr>\n",
       "      <th>timestamp</th>\n",
       "      <th></th>\n",
       "      <th></th>\n",
       "      <th></th>\n",
       "      <th></th>\n",
       "      <th></th>\n",
       "      <th></th>\n",
       "      <th></th>\n",
       "      <th></th>\n",
       "      <th></th>\n",
       "      <th></th>\n",
       "      <th></th>\n",
       "      <th></th>\n",
       "      <th></th>\n",
       "      <th></th>\n",
       "    </tr>\n",
       "  </thead>\n",
       "  <tbody>\n",
       "    <tr>\n",
       "      <th>1514764920</th>\n",
       "      <td>-0.001595</td>\n",
       "      <td>-0.000335</td>\n",
       "      <td>NaN</td>\n",
       "      <td>-0.001819</td>\n",
       "      <td>NaN</td>\n",
       "      <td>-0.000970</td>\n",
       "      <td>-0.001555</td>\n",
       "      <td>0.000773</td>\n",
       "      <td>NaN</td>\n",
       "      <td>NaN</td>\n",
       "      <td>-0.000030</td>\n",
       "      <td>-0.000118</td>\n",
       "      <td>NaN</td>\n",
       "      <td>NaN</td>\n",
       "    </tr>\n",
       "    <tr>\n",
       "      <th>1514764980</th>\n",
       "      <td>-0.001939</td>\n",
       "      <td>-0.001027</td>\n",
       "      <td>NaN</td>\n",
       "      <td>-0.003494</td>\n",
       "      <td>NaN</td>\n",
       "      <td>-0.000094</td>\n",
       "      <td>0.005072</td>\n",
       "      <td>0.021866</td>\n",
       "      <td>NaN</td>\n",
       "      <td>NaN</td>\n",
       "      <td>-0.000790</td>\n",
       "      <td>-0.000719</td>\n",
       "      <td>NaN</td>\n",
       "      <td>NaN</td>\n",
       "    </tr>\n",
       "    <tr>\n",
       "      <th>1514765040</th>\n",
       "      <td>-0.002414</td>\n",
       "      <td>-0.000543</td>\n",
       "      <td>NaN</td>\n",
       "      <td>0.001896</td>\n",
       "      <td>NaN</td>\n",
       "      <td>-0.000631</td>\n",
       "      <td>-0.007662</td>\n",
       "      <td>-0.000756</td>\n",
       "      <td>NaN</td>\n",
       "      <td>NaN</td>\n",
       "      <td>-0.003134</td>\n",
       "      <td>-0.002015</td>\n",
       "      <td>NaN</td>\n",
       "      <td>NaN</td>\n",
       "    </tr>\n",
       "    <tr>\n",
       "      <th>1514765100</th>\n",
       "      <td>-0.003137</td>\n",
       "      <td>-0.001898</td>\n",
       "      <td>NaN</td>\n",
       "      <td>-0.005296</td>\n",
       "      <td>NaN</td>\n",
       "      <td>-0.000166</td>\n",
       "      <td>-0.002031</td>\n",
       "      <td>-0.000473</td>\n",
       "      <td>NaN</td>\n",
       "      <td>NaN</td>\n",
       "      <td>-0.002227</td>\n",
       "      <td>-0.003385</td>\n",
       "      <td>NaN</td>\n",
       "      <td>NaN</td>\n",
       "    </tr>\n",
       "    <tr>\n",
       "      <th>1514765160</th>\n",
       "      <td>-0.000569</td>\n",
       "      <td>-0.000687</td>\n",
       "      <td>NaN</td>\n",
       "      <td>-0.006645</td>\n",
       "      <td>NaN</td>\n",
       "      <td>-0.001134</td>\n",
       "      <td>-0.003099</td>\n",
       "      <td>-0.001401</td>\n",
       "      <td>NaN</td>\n",
       "      <td>NaN</td>\n",
       "      <td>0.013680</td>\n",
       "      <td>-0.005006</td>\n",
       "      <td>NaN</td>\n",
       "      <td>NaN</td>\n",
       "    </tr>\n",
       "    <tr>\n",
       "      <th>...</th>\n",
       "      <td>...</td>\n",
       "      <td>...</td>\n",
       "      <td>...</td>\n",
       "      <td>...</td>\n",
       "      <td>...</td>\n",
       "      <td>...</td>\n",
       "      <td>...</td>\n",
       "      <td>...</td>\n",
       "      <td>...</td>\n",
       "      <td>...</td>\n",
       "      <td>...</td>\n",
       "      <td>...</td>\n",
       "      <td>...</td>\n",
       "      <td>...</td>\n",
       "    </tr>\n",
       "    <tr>\n",
       "      <th>1632182160</th>\n",
       "      <td>-0.002007</td>\n",
       "      <td>-0.003137</td>\n",
       "      <td>-0.007796</td>\n",
       "      <td>-0.003282</td>\n",
       "      <td>-0.003144</td>\n",
       "      <td>-0.002363</td>\n",
       "      <td>-0.002359</td>\n",
       "      <td>-0.001912</td>\n",
       "      <td>-0.003261</td>\n",
       "      <td>-0.002754</td>\n",
       "      <td>-0.002766</td>\n",
       "      <td>-0.003516</td>\n",
       "      <td>-0.004869</td>\n",
       "      <td>-0.003641</td>\n",
       "    </tr>\n",
       "    <tr>\n",
       "      <th>1632182220</th>\n",
       "      <td>-0.000910</td>\n",
       "      <td>-0.001305</td>\n",
       "      <td>-0.000610</td>\n",
       "      <td>-0.001980</td>\n",
       "      <td>-0.002531</td>\n",
       "      <td>-0.005945</td>\n",
       "      <td>-0.003906</td>\n",
       "      <td>-0.004158</td>\n",
       "      <td>-0.002748</td>\n",
       "      <td>-0.003939</td>\n",
       "      <td>-0.003065</td>\n",
       "      <td>-0.002115</td>\n",
       "      <td>-0.002737</td>\n",
       "      <td>-0.002640</td>\n",
       "    </tr>\n",
       "    <tr>\n",
       "      <th>1632182280</th>\n",
       "      <td>-0.000770</td>\n",
       "      <td>-0.001165</td>\n",
       "      <td>-0.000583</td>\n",
       "      <td>-0.000945</td>\n",
       "      <td>-0.000596</td>\n",
       "      <td>0.000158</td>\n",
       "      <td>-0.001038</td>\n",
       "      <td>-0.001059</td>\n",
       "      <td>-0.002100</td>\n",
       "      <td>-0.000041</td>\n",
       "      <td>-0.000551</td>\n",
       "      <td>-0.000822</td>\n",
       "      <td>-0.001528</td>\n",
       "      <td>0.000692</td>\n",
       "    </tr>\n",
       "    <tr>\n",
       "      <th>1632182340</th>\n",
       "      <td>0.004433</td>\n",
       "      <td>0.006670</td>\n",
       "      <td>0.007448</td>\n",
       "      <td>0.006217</td>\n",
       "      <td>0.008783</td>\n",
       "      <td>0.006913</td>\n",
       "      <td>0.005811</td>\n",
       "      <td>0.005138</td>\n",
       "      <td>0.005839</td>\n",
       "      <td>0.005122</td>\n",
       "      <td>0.004771</td>\n",
       "      <td>0.005493</td>\n",
       "      <td>0.007462</td>\n",
       "      <td>0.005988</td>\n",
       "    </tr>\n",
       "    <tr>\n",
       "      <th>1632182400</th>\n",
       "      <td>-0.000343</td>\n",
       "      <td>-0.001542</td>\n",
       "      <td>-0.000514</td>\n",
       "      <td>-0.000981</td>\n",
       "      <td>-0.001569</td>\n",
       "      <td>-0.002709</td>\n",
       "      <td>-0.001790</td>\n",
       "      <td>-0.000206</td>\n",
       "      <td>-0.000095</td>\n",
       "      <td>0.000253</td>\n",
       "      <td>0.000073</td>\n",
       "      <td>-0.000713</td>\n",
       "      <td>-0.001558</td>\n",
       "      <td>-0.001128</td>\n",
       "    </tr>\n",
       "  </tbody>\n",
       "</table>\n",
       "<p>1956781 rows × 14 columns</p>\n",
       "</div>"
      ],
      "text/plain": [
       "               Close  CloseEthereum  CloseCardano  CloseBinance Coin  \\\n",
       "timestamp                                                              \n",
       "1514764920 -0.001595      -0.000335           NaN          -0.001819   \n",
       "1514764980 -0.001939      -0.001027           NaN          -0.003494   \n",
       "1514765040 -0.002414      -0.000543           NaN           0.001896   \n",
       "1514765100 -0.003137      -0.001898           NaN          -0.005296   \n",
       "1514765160 -0.000569      -0.000687           NaN          -0.006645   \n",
       "...              ...            ...           ...                ...   \n",
       "1632182160 -0.002007      -0.003137     -0.007796          -0.003282   \n",
       "1632182220 -0.000910      -0.001305     -0.000610          -0.001980   \n",
       "1632182280 -0.000770      -0.001165     -0.000583          -0.000945   \n",
       "1632182340  0.004433       0.006670      0.007448           0.006217   \n",
       "1632182400 -0.000343      -0.001542     -0.000514          -0.000981   \n",
       "\n",
       "            CloseDogecoin  CloseBitcoin Cash  CloseLitecoin  \\\n",
       "timestamp                                                     \n",
       "1514764920            NaN          -0.000970      -0.001555   \n",
       "1514764980            NaN          -0.000094       0.005072   \n",
       "1514765040            NaN          -0.000631      -0.007662   \n",
       "1514765100            NaN          -0.000166      -0.002031   \n",
       "1514765160            NaN          -0.001134      -0.003099   \n",
       "...                   ...                ...            ...   \n",
       "1632182160      -0.003144          -0.002363      -0.002359   \n",
       "1632182220      -0.002531          -0.005945      -0.003906   \n",
       "1632182280      -0.000596           0.000158      -0.001038   \n",
       "1632182340       0.008783           0.006913       0.005811   \n",
       "1632182400      -0.001569          -0.002709      -0.001790   \n",
       "\n",
       "            CloseEthereum Classic  CloseStellar  CloseTRON  CloseMonero  \\\n",
       "timestamp                                                                 \n",
       "1514764920               0.000773           NaN        NaN    -0.000030   \n",
       "1514764980               0.021866           NaN        NaN    -0.000790   \n",
       "1514765040              -0.000756           NaN        NaN    -0.003134   \n",
       "1514765100              -0.000473           NaN        NaN    -0.002227   \n",
       "1514765160              -0.001401           NaN        NaN     0.013680   \n",
       "...                           ...           ...        ...          ...   \n",
       "1632182160              -0.001912     -0.003261  -0.002754    -0.002766   \n",
       "1632182220              -0.004158     -0.002748  -0.003939    -0.003065   \n",
       "1632182280              -0.001059     -0.002100  -0.000041    -0.000551   \n",
       "1632182340               0.005138      0.005839   0.005122     0.004771   \n",
       "1632182400              -0.000206     -0.000095   0.000253     0.000073   \n",
       "\n",
       "            CloseEOS.IO  CloseIOTA  CloseMaker  \n",
       "timestamp                                       \n",
       "1514764920    -0.000118        NaN         NaN  \n",
       "1514764980    -0.000719        NaN         NaN  \n",
       "1514765040    -0.002015        NaN         NaN  \n",
       "1514765100    -0.003385        NaN         NaN  \n",
       "1514765160    -0.005006        NaN         NaN  \n",
       "...                 ...        ...         ...  \n",
       "1632182160    -0.003516  -0.004869   -0.003641  \n",
       "1632182220    -0.002115  -0.002737   -0.002640  \n",
       "1632182280    -0.000822  -0.001528    0.000692  \n",
       "1632182340     0.005493   0.007462    0.005988  \n",
       "1632182400    -0.000713  -0.001558   -0.001128  \n",
       "\n",
       "[1956781 rows x 14 columns]"
      ]
     },
     "execution_count": 16,
     "metadata": {},
     "output_type": "execute_result"
    }
   ],
   "source": [
    "allcoinlret"
   ]
  },
  {
   "attachments": {},
   "cell_type": "markdown",
   "metadata": {},
   "source": [
    "# Data Visualisation"
   ]
  },
  {
   "attachments": {},
   "cell_type": "markdown",
   "metadata": {},
   "source": [
    "## Subgroup and Define Function for Data Visualisation and Comparison "
   ]
  },
  {
   "cell_type": "code",
   "execution_count": 41,
   "metadata": {},
   "outputs": [],
   "source": [
    "totimestamp = lambda s: np.int32(time.mktime(datetime.strptime(s,\"%d/%m/%Y\").timetuple()))\n",
    "start_time = totimestamp(\"01/01/2021\")\n",
    "end_time = totimestamp(\"21/09/2021\")\n",
    "\n",
    "\n",
    "#Subgroup Bitcoin\n",
    "btc = allcoin[allcoin[\"Asset_ID\"]==1].loc[start_time:end_time]\n",
    "btc.index = pd.to_datetime(btc.index, unit = \"s\")\n",
    "\n",
    "#Subgroup Ethereum\n",
    "eth = allcoin[allcoin[\"Asset_ID\"]==6].loc[start_time:end_time]\n",
    "eth.index = pd.to_datetime(eth.index, unit = \"s\")\n",
    "\n",
    "#Subgroup Dogecoin\n",
    "doge = allcoin[allcoin[\"Asset_ID\"]==4].loc[start_time:end_time]\n",
    "doge.index = pd.to_datetime(doge.index, unit = \"s\")\n"
   ]
  },
  {
   "cell_type": "code",
   "execution_count": 36,
   "metadata": {},
   "outputs": [],
   "source": [
    "#Define a function to plot the closing price and return for btc, eth and doge\n",
    "\n",
    "def gplot(no, data, porret, label, ylabel, color):\n",
    "    fig = plt.figure(figsize = (6,9))\n",
    "    ax = fig.add_subplot(no)\n",
    "    plt.plot(data[porret], label = label, color = color)\n",
    "    plt.legend()\n",
    "    plt.xlabel(\"Time\")\n",
    "    plt.ylabel(ylabel)\n",
    "    plt.xticks(rotation = 60)\n",
    "    plt.tight_layout()\n",
    "    plt.show()\n"
   ]
  },
  {
   "cell_type": "code",
   "execution_count": 32,
   "metadata": {},
   "outputs": [],
   "source": [
    "#Defind a function to draw candlestick charts\n",
    "\n",
    "def cschart(data, label):\n",
    "    data_recent = data.iloc[-90:]\n",
    "    csc_fig = go.Figure([go.Candlestick(x = data_recent.index, open = data_recent['Open'], high = data_recent['High'], low = data_recent['Low'], close = data_recent['Close'])])\n",
    "    csc_fig.update_layout(title = {'text':'{:} Candlestick Chart'.format(label), \"y\":0.9, \"x\":0.5, 'xanchor':'center', 'yanchor':'top'})\n",
    "    csc_fig.update_xaxes(title_text = 'Time')\n",
    "    csc_fig.update_yaxes(title_text = 'Price in USD', ticksuffix = '$')\n",
    "    csc_fig.show()"
   ]
  },
  {
   "attachments": {},
   "cell_type": "markdown",
   "metadata": {},
   "source": [
    "## Closing Price Trend (Period: year 2021)"
   ]
  },
  {
   "cell_type": "code",
   "execution_count": 44,
   "metadata": {},
   "outputs": [
    {
     "data": {
      "image/png": "[encoded data removed]",
      "text/plain": [
       "<Figure size 600x900 with 1 Axes>"
      ]
     },
     "metadata": {},
     "output_type": "display_data"
    },
    {
     "data": {
      "image/png": "[encoded data removed]",
      "text/plain": [
       "<Figure size 600x900 with 1 Axes>"
      ]
     },
     "metadata": {},
     "output_type": "display_data"
    },
    {
     "data": {
      "image/png": "[encoded data removed]",
      "text/plain": [
       "<Figure size 600x900 with 1 Axes>"
      ]
     },
     "metadata": {},
     "output_type": "display_data"
    }
   ],
   "source": [
    "#BTC Price Trend\n",
    "gplot(no = 311, data = btc,  porret = \"Close\", label = \"BTC Overall Closing Price Trend\", ylabel = \"BTC Closing Price\", color = \"#FFC0CB\" )\n",
    "\n",
    "#ETH Price Trend\n",
    "gplot(no = 312, data = eth, porret = \"Close\", label = \"ETH Overall Closing Price Trend\", ylabel = \"ETH Closing Price\", color = \"#ff81c0\" )\n",
    "\n",
    "#DOGE Price Trend\n",
    "gplot(no = 313, data = doge, porret = \"Close\", label = \"DOGE Overall Closing Price Trend\", ylabel = \"DOGE Closing Price\", color = \"#dda0dd\" )\n"
   ]
  },
  {
   "attachments": {},
   "cell_type": "markdown",
   "metadata": {},
   "source": [
    "The trend charts show that Bitcoin and Ethereum have similar price trend, while Dogecoin, which is xxxxxxx"
   ]
  },
  {
   "attachments": {},
   "cell_type": "markdown",
   "metadata": {},
   "source": [
    "## Return Trend"
   ]
  },
  {
   "cell_type": "code",
   "execution_count": 43,
   "metadata": {},
   "outputs": [
    {
     "data": {
      "image/png": "[encoded data removed]",
      "text/plain": [
       "<Figure size 600x900 with 1 Axes>"
      ]
     },
     "metadata": {},
     "output_type": "display_data"
    },
    {
     "data": {
      "image/png": "[encoded data removed]",
      "text/plain": [
       "<Figure size 600x900 with 1 Axes>"
      ]
     },
     "metadata": {},
     "output_type": "display_data"
    },
    {
     "data": {
      "image/png": "[encoded data removed]",
      "text/plain": [
       "<Figure size 600x900 with 1 Axes>"
      ]
     },
     "metadata": {},
     "output_type": "display_data"
    }
   ],
   "source": [
    "#BTC Return Trend\n",
    "gplot(no = 311, data = btc, porret = \"Target\", label = \"BTC Overall 15min Residual Return Trend\", ylabel = \"BTC Residual Return\", color = \"#FFC0CB\" )\n",
    "\n",
    "#ETH Return Trend\n",
    "gplot(no = 312, data = eth, porret = \"Target\", label = \"ETH Overall 15min Residual Return Trend\", ylabel = \"ETH Residual Return\", color = \"#ff81c0\" )\n",
    "\n",
    "#DOGE Return Trend\n",
    "gplot(no = 313, data = doge, porret = \"Target\", label = \"DOGE Overall 15min Residual Return Trend\", ylabel = \"DOGE Residual Return\", color = \"#dda0dd\" )"
   ]
  },
  {
   "attachments": {},
   "cell_type": "markdown",
   "metadata": {},
   "source": [
    "## Candlestick Chart （Period: 20/09/2021)"
   ]
  },
  {
   "cell_type": "code",
   "execution_count": 42,
   "metadata": {},
   "outputs": [
    {
     "data": {
      "application/vnd.plotly.v1+json": {
       "config": {
        "plotlyServerURL": "https://plot.ly"
       },
       "data": [
        {
         "close": [
          43666.62285714286,
          43688.77942172,
          43684.07022895857,
          43697.28428571428,
          43725.01142857143,
          43745.28999999999,
          43763.855714285724,
          43775.26857142857,
          43682.67857142857,
          43578.98218626571,
          43447.00375,
          43440,
          43360.72375,
          43427.24285714286,
          43375.04,
          43391.2775,
          43328.33142857143,
          43333.292857142864,
          43272.20571428572,
          43302.26142857143,
          43237.22857142857,
          43293.438571428575,
          43335.397142857146,
          43329.36,
          43315.57857142857,
          43358.98,
          43401.56125,
          43496.01714285714,
          43543.944285714286,
          43735.24749999998,
          43635.8,
          43565.93714285714,
          43445.9742505125,
          43582.882500000014,
          43509.89375,
          43583.13375,
          43620.45625000002,
          43683.955,
          43688.792857142864,
          43748.37285714286,
          43733.61857142858,
          43770.91142857143,
          43725.21247342,
          43699.93519433285,
          43681.41125,
          43663.37142857142,
          43674.12714285714,
          43735.2968762825,
          43761.40857142857,
          43804.98142857143,
          43748.64871729857,
          43754.64400535857,
          43761.9313146925,
          43745.054649555714,
          43749.41395637714,
          43704.05428571429,
          43754.37857142858,
          43752.16000000002,
          43752.56428571429,
          43742.16285714285,
          43722.25010413143,
          43698.399835418575,
          43678.80153424286,
          43688.29428571429,
          43673.78428571428,
          43674.93714285714,
          43696.93209772,
          43696.218571428566,
          43688.90142857142,
          43680.15714285715,
          43699.02571428572,
          43731.86428571429,
          43747.49428571429,
          43762.66571428572,
          43851.00774273375,
          43796.60571428571,
          43767.107142857145,
          43685.150000000016,
          43691.55,
          43724.642857142855,
          43737.69285714287,
          43651.975714285705,
          43596.42285714286,
          43623.89428571428,
          43635.89571428572,
          43561.85142857144,
          43536.07792585572,
          43480.374285714286,
          43514.82,
          43608.34571428572
         ],
         "high": [
          43687.68903327,
          43718,
          43704,
          43705.91,
          43743.5,
          43770.01,
          43773.71,
          43789.4,
          43785,
          43703.8,
          43588.68,
          43495.95402838,
          43455.2184781,
          43454.99,
          43467,
          43405,
          43407.7,
          43350,
          43344.99,
          43315.99,
          43317,
          43318.8,
          43353.43,
          43363.82,
          43341.56,
          43372.8,
          43436.99,
          43512.7,
          43581.88,
          43750.27,
          43749.6,
          43636.4,
          43587.1,
          43609.1,
          43617,
          43611.11,
          43634.01,
          43715.6675949,
          43707.74,
          43763.7,
          43766.35,
          43798.21,
          43780,
          43726,
          43731,
          43702.91,
          43684.24,
          43773.35,
          43784.1,
          43818.17,
          43810,
          43766,
          43790,
          43774,
          43760.01,
          43763.66,
          43773.4,
          43768.62,
          43776,
          43768.53,
          43750,
          43746.7,
          43708,
          43701.5,
          43701.5,
          43689,
          43716.49468404,
          43709,
          43703.62,
          43723.37,
          43708.47,
          43754.58,
          43757.98,
          43776.38,
          43882.75,
          43913.83,
          43813,
          43788.8,
          43704.19,
          43738,
          43746.19,
          43747,
          43672,
          43639.5,
          43651,
          43647.45,
          43582,
          43550.99,
          43524,
          43618.15
         ],
         "low": [
          43647.27,
          43657.91,
          43662.2,
          43672.6,
          43691.48,
          43703.8,
          43719.15,
          43749.6,
          43652.86,
          43534.74,
          43427.28,
          43414.33,
          43327.29,
          43348.06,
          43351.15,
          43280,
          43284.12,
          43283.74,
          43240.01,
          43261.26,
          43217.6,
          43207.55,
          43268.05,
          43278.42,
          43272.19,
          43287.88,
          43350.2,
          43387.95,
          43487.66,
          43527.56,
          43600,
          43538.26,
          43426.2,
          43431.57,
          43436.46,
          43476.65,
          43525.5,
          43585.4,
          43647.65,
          43676.9,
          43702.98,
          43709.75,
          43706.19,
          43683.73,
          43669.67,
          43638.92,
          43631.17,
          43662.11,
          43729.9,
          43730,
          43732.41,
          43725.22,
          43739.3,
          43722.3,
          43717.71,
          43686.54,
          43695.18,
          43733.8,
          43729.06,
          43730.17,
          43705.92,
          43691.2,
          43665.84,
          43657.79,
          43663.42,
          43658.2,
          43663.48,
          43669.1,
          43669.1,
          43659.05,
          43669.2,
          43677.4,
          43718.9,
          43742.1,
          43754.67,
          43790.01,
          43750.89,
          43672.6,
          43669.13,
          43683.08,
          43689.3,
          43641.65,
          43584.69,
          43583.4,
          43608.15,
          43522,
          43504.1,
          43464.86,
          43462.56,
          43499.99
         ],
         "open": [
          43672.39843332429,
          43673.22142857144,
          43686.31285714286,
          43683.87,
          43699.45428571429,
          43725.58,
          43744.49441664,
          43764.55857142858,
          43771.15142857143,
          43682.167142857135,
          43558.39375,
          43449.81857142858,
          43427.0823097625,
          43362.572857142855,
          43419.8325,
          43368.71625,
          43393.847142857136,
          43329.654285714285,
          43335.71432474571,
          43275.938571428575,
          43301.834285714285,
          43232.93714285714,
          43297.98428571429,
          43336.64,
          43333.63142857143,
          43314.74000000001,
          43364.94875,
          43408.08714285715,
          43504.69050787143,
          43563.5475,
          43734.17517274572,
          43622.09142833857,
          43556.59375,
          43455.175,
          43574.825,
          43520.28,
          43576.7775,
          43622.23555296,
          43692.88857142858,
          43693.87714285714,
          43746.07428571429,
          43732.60428571428,
          43769.21714285714,
          43713.06428571429,
          43696.00375,
          43671.81428571429,
          43658.32428571429,
          43678.86,
          43747.11558816286,
          43763.66857142857,
          43801.88285714287,
          43743.70142857143,
          43760.135,
          43757.962857142855,
          43746.89571428572,
          43752.36571428572,
          43706.63459625,
          43754.938571428575,
          43751.42502128715,
          43747.71428571428,
          43741.16142857143,
          43718.720000000016,
          43697.06571428572,
          43678.72571428572,
          43687.59428571429,
          43674.66142857143,
          43674.23,
          43699.485714285714,
          43693.75714285714,
          43686.042857142864,
          43680.84285714286,
          43703.04380334572,
          43737.424990827145,
          43748.792857142864,
          43764.222193155,
          43867.28649138286,
          43796.17000235,
          43764.80711541429,
          43683.29195864715,
          43694.014285714286,
          43724.80857142858,
          43734.218571428566,
          43648.50714285714,
          43595.79378934143,
          43622.90857142857,
          43635.26571428571,
          43561.49245584857,
          43540.261460078575,
          43481.81571428572,
          43514.376468365714
         ],
         "type": "candlestick",
         "x": [
          "2021-09-20T20:31:00",
          "2021-09-20T20:32:00",
          "2021-09-20T20:33:00",
          "2021-09-20T20:34:00",
          "2021-09-20T20:35:00",
          "2021-09-20T20:36:00",
          "2021-09-20T20:37:00",
          "2021-09-20T20:38:00",
          "2021-09-20T20:39:00",
          "2021-09-20T20:40:00",
          "2021-09-20T20:41:00",
          "2021-09-20T20:42:00",
          "2021-09-20T20:43:00",
          "2021-09-20T20:44:00",
          "2021-09-20T20:45:00",
          "2021-09-20T20:46:00",
          "2021-09-20T20:47:00",
          "2021-09-20T20:48:00",
          "2021-09-20T20:49:00",
          "2021-09-20T20:50:00",
          "2021-09-20T20:51:00",
          "2021-09-20T20:52:00",
          "2021-09-20T20:53:00",
          "2021-09-20T20:54:00",
          "2021-09-20T20:55:00",
          "2021-09-20T20:56:00",
          "2021-09-20T20:57:00",
          "2021-09-20T20:58:00",
          "2021-09-20T20:59:00",
          "2021-09-20T21:00:00",
          "2021-09-20T21:01:00",
          "2021-09-20T21:02:00",
          "2021-09-20T21:03:00",
          "2021-09-20T21:04:00",
          "2021-09-20T21:05:00",
          "2021-09-20T21:06:00",
          "2021-09-20T21:07:00",
          "2021-09-20T21:08:00",
          "2021-09-20T21:09:00",
          "2021-09-20T21:10:00",
          "2021-09-20T21:11:00",
          "2021-09-20T21:12:00",
          "2021-09-20T21:13:00",
          "2021-09-20T21:14:00",
          "2021-09-20T21:15:00",
          "2021-09-20T21:16:00",
          "2021-09-20T21:17:00",
          "2021-09-20T21:18:00",
          "2021-09-20T21:19:00",
          "2021-09-20T21:20:00",
          "2021-09-20T21:21:00",
          "2021-09-20T21:22:00",
          "2021-09-20T21:23:00",
          "2021-09-20T21:24:00",
          "2021-09-20T21:25:00",
          "2021-09-20T21:26:00",
          "2021-09-20T21:27:00",
          "2021-09-20T21:28:00",
          "2021-09-20T21:29:00",
          "2021-09-20T21:30:00",
          "2021-09-20T21:31:00",
          "2021-09-20T21:32:00",
          "2021-09-20T21:33:00",
          "2021-09-20T21:34:00",
          "2021-09-20T21:35:00",
          "2021-09-20T21:36:00",
          "2021-09-20T21:37:00",
          "2021-09-20T21:38:00",
          "2021-09-20T21:39:00",
          "2021-09-20T21:40:00",
          "2021-09-20T21:41:00",
          "2021-09-20T21:42:00",
          "2021-09-20T21:43:00",
          "2021-09-20T21:44:00",
          "2021-09-20T21:45:00",
          "2021-09-20T21:46:00",
          "2021-09-20T21:47:00",
          "2021-09-20T21:48:00",
          "2021-09-20T21:49:00",
          "2021-09-20T21:50:00",
          "2021-09-20T21:51:00",
          "2021-09-20T21:52:00",
          "2021-09-20T21:53:00",
          "2021-09-20T21:54:00",
          "2021-09-20T21:55:00",
          "2021-09-20T21:56:00",
          "2021-09-20T21:57:00",
          "2021-09-20T21:58:00",
          "2021-09-20T21:59:00",
          "2021-09-20T22:00:00"
         ]
        }
       ],
       "layout": {
        "template": {
         "data": {
          "bar": [
           {
            "error_x": {
             "color": "#2a3f5f"
            },
            "error_y": {
             "color": "#2a3f5f"
            },
            "marker": {
             "line": {
              "color": "#E5ECF6",
              "width": 0.5
             },
             "pattern": {
              "fillmode": "overlay",
              "size": 10,
              "solidity": 0.2
             }
            },
            "type": "bar"
           }
          ],
          "barpolar": [
           {
            "marker": {
             "line": {
              "color": "#E5ECF6",
              "width": 0.5
             },
             "pattern": {
              "fillmode": "overlay",
              "size": 10,
              "solidity": 0.2
             }
            },
            "type": "barpolar"
           }
          ],
          "carpet": [
           {
            "aaxis": {
             "endlinecolor": "#2a3f5f",
             "gridcolor": "white",
             "linecolor": "white",
             "minorgridcolor": "white",
             "startlinecolor": "#2a3f5f"
            },
            "baxis": {
             "endlinecolor": "#2a3f5f",
             "gridcolor": "white",
             "linecolor": "white",
             "minorgridcolor": "white",
             "startlinecolor": "#2a3f5f"
            },
            "type": "carpet"
           }
          ],
          "choropleth": [
           {
            "colorbar": {
             "outlinewidth": 0,
             "ticks": ""
            },
            "type": "choropleth"
           }
          ],
          "contour": [
           {
            "colorbar": {
             "outlinewidth": 0,
             "ticks": ""
            },
            "colorscale": [
             [
              0,
              "#0d0887"
             ],
             [
              0.1111111111111111,
              "#46039f"
             ],
             [
              0.2222222222222222,
              "#7201a8"
             ],
             [
              0.3333333333333333,
              "#9c179e"
             ],
             [
              0.4444444444444444,
              "#bd3786"
             ],
             [
              0.5555555555555556,
              "#d8576b"
             ],
             [
              0.6666666666666666,
              "#ed7953"
             ],
             [
              0.7777777777777778,
              "#fb9f3a"
             ],
             [
              0.8888888888888888,
              "#fdca26"
             ],
             [
              1,
              "#f0f921"
             ]
            ],
            "type": "contour"
           }
          ],
          "contourcarpet": [
           {
            "colorbar": {
             "outlinewidth": 0,
             "ticks": ""
            },
            "type": "contourcarpet"
           }
          ],
          "heatmap": [
           {
            "colorbar": {
             "outlinewidth": 0,
             "ticks": ""
            },
            "colorscale": [
             [
              0,
              "#0d0887"
             ],
             [
              0.1111111111111111,
              "#46039f"
             ],
             [
              0.2222222222222222,
              "#7201a8"
             ],
             [
              0.3333333333333333,
              "#9c179e"
             ],
             [
              0.4444444444444444,
              "#bd3786"
             ],
             [
              0.5555555555555556,
              "#d8576b"
             ],
             [
              0.6666666666666666,
              "#ed7953"
             ],
             [
              0.7777777777777778,
              "#fb9f3a"
             ],
             [
              0.8888888888888888,
              "#fdca26"
             ],
             [
              1,
              "#f0f921"
             ]
            ],
            "type": "heatmap"
           }
          ],
          "heatmapgl": [
           {
            "colorbar": {
             "outlinewidth": 0,
             "ticks": ""
            },
            "colorscale": [
             [
              0,
              "#0d0887"
             ],
             [
              0.1111111111111111,
              "#46039f"
             ],
             [
              0.2222222222222222,
              "#7201a8"
             ],
             [
              0.3333333333333333,
              "#9c179e"
             ],
             [
              0.4444444444444444,
              "#bd3786"
             ],
             [
              0.5555555555555556,
              "#d8576b"
             ],
             [
              0.6666666666666666,
              "#ed7953"
             ],
             [
              0.7777777777777778,
              "#fb9f3a"
             ],
             [
              0.8888888888888888,
              "#fdca26"
             ],
             [
              1,
              "#f0f921"
             ]
            ],
            "type": "heatmapgl"
           }
          ],
          "histogram": [
           {
            "marker": {
             "pattern": {
              "fillmode": "overlay",
              "size": 10,
              "solidity": 0.2
             }
            },
            "type": "histogram"
           }
          ],
          "histogram2d": [
           {
            "colorbar": {
             "outlinewidth": 0,
             "ticks": ""
            },
            "colorscale": [
             [
              0,
              "#0d0887"
             ],
             [
              0.1111111111111111,
              "#46039f"
             ],
             [
              0.2222222222222222,
              "#7201a8"
             ],
             [
              0.3333333333333333,
              "#9c179e"
             ],
             [
              0.4444444444444444,
              "#bd3786"
             ],
             [
              0.5555555555555556,
              "#d8576b"
             ],
             [
              0.6666666666666666,
              "#ed7953"
             ],
             [
              0.7777777777777778,
              "#fb9f3a"
             ],
             [
              0.8888888888888888,
              "#fdca26"
             ],
             [
              1,
              "#f0f921"
             ]
            ],
            "type": "histogram2d"
           }
          ],
          "histogram2dcontour": [
           {
            "colorbar": {
             "outlinewidth": 0,
             "ticks": ""
            },
            "colorscale": [
             [
              0,
              "#0d0887"
             ],
             [
              0.1111111111111111,
              "#46039f"
             ],
             [
              0.2222222222222222,
              "#7201a8"
             ],
             [
              0.3333333333333333,
              "#9c179e"
             ],
             [
              0.4444444444444444,
              "#bd3786"
             ],
             [
              0.5555555555555556,
              "#d8576b"
             ],
             [
              0.6666666666666666,
              "#ed7953"
             ],
             [
              0.7777777777777778,
              "#fb9f3a"
             ],
             [
              0.8888888888888888,
              "#fdca26"
             ],
             [
              1,
              "#f0f921"
             ]
            ],
            "type": "histogram2dcontour"
           }
          ],
          "mesh3d": [
           {
            "colorbar": {
             "outlinewidth": 0,
             "ticks": ""
            },
            "type": "mesh3d"
           }
          ],
          "parcoords": [
           {
            "line": {
             "colorbar": {
              "outlinewidth": 0,
              "ticks": ""
             }
            },
            "type": "parcoords"
           }
          ],
          "pie": [
           {
            "automargin": true,
            "type": "pie"
           }
          ],
          "scatter": [
           {
            "fillpattern": {
             "fillmode": "overlay",
             "size": 10,
             "solidity": 0.2
            },
            "type": "scatter"
           }
          ],
          "scatter3d": [
           {
            "line": {
             "colorbar": {
              "outlinewidth": 0,
              "ticks": ""
             }
            },
            "marker": {
             "colorbar": {
              "outlinewidth": 0,
              "ticks": ""
             }
            },
            "type": "scatter3d"
           }
          ],
          "scattercarpet": [
           {
            "marker": {
             "colorbar": {
              "outlinewidth": 0,
              "ticks": ""
             }
            },
            "type": "scattercarpet"
           }
          ],
          "scattergeo": [
           {
            "marker": {
             "colorbar": {
              "outlinewidth": 0,
              "ticks": ""
             }
            },
            "type": "scattergeo"
           }
          ],
          "scattergl": [
           {
            "marker": {
             "colorbar": {
              "outlinewidth": 0,
              "ticks": ""
             }
            },
            "type": "scattergl"
           }
          ],
          "scattermapbox": [
           {
            "marker": {
             "colorbar": {
              "outlinewidth": 0,
              "ticks": ""
             }
            },
            "type": "scattermapbox"
           }
          ],
          "scatterpolar": [
           {
            "marker": {
             "colorbar": {
              "outlinewidth": 0,
              "ticks": ""
             }
            },
            "type": "scatterpolar"
           }
          ],
          "scatterpolargl": [
           {
            "marker": {
             "colorbar": {
              "outlinewidth": 0,
              "ticks": ""
             }
            },
            "type": "scatterpolargl"
           }
          ],
          "scatterternary": [
           {
            "marker": {
             "colorbar": {
              "outlinewidth": 0,
              "ticks": ""
             }
            },
            "type": "scatterternary"
           }
          ],
          "surface": [
           {
            "colorbar": {
             "outlinewidth": 0,
             "ticks": ""
            },
            "colorscale": [
             [
              0,
              "#0d0887"
             ],
             [
              0.1111111111111111,
              "#46039f"
             ],
             [
              0.2222222222222222,
              "#7201a8"
             ],
             [
              0.3333333333333333,
              "#9c179e"
             ],
             [
              0.4444444444444444,
              "#bd3786"
             ],
             [
              0.5555555555555556,
              "#d8576b"
             ],
             [
              0.6666666666666666,
              "#ed7953"
             ],
             [
              0.7777777777777778,
              "#fb9f3a"
             ],
             [
              0.8888888888888888,
              "#fdca26"
             ],
             [
              1,
              "#f0f921"
             ]
            ],
            "type": "surface"
           }
          ],
          "table": [
           {
            "cells": {
             "fill": {
              "color": "#EBF0F8"
             },
             "line": {
              "color": "white"
             }
            },
            "header": {
             "fill": {
              "color": "#C8D4E3"
             },
             "line": {
              "color": "white"
             }
            },
            "type": "table"
           }
          ]
         },
         "layout": {
          "annotationdefaults": {
           "arrowcolor": "#2a3f5f",
           "arrowhead": 0,
           "arrowwidth": 1
          },
          "autotypenumbers": "strict",
          "coloraxis": {
           "colorbar": {
            "outlinewidth": 0,
            "ticks": ""
           }
          },
          "colorscale": {
           "diverging": [
            [
             0,
             "#8e0152"
            ],
            [
             0.1,
             "#c51b7d"
            ],
            [
             0.2,
             "#de77ae"
            ],
            [
             0.3,
             "#f1b6da"
            ],
            [
             0.4,
             "#fde0ef"
            ],
            [
             0.5,
             "#f7f7f7"
            ],
            [
             0.6,
             "#e6f5d0"
            ],
            [
             0.7,
             "#b8e186"
            ],
            [
             0.8,
             "#7fbc41"
            ],
            [
             0.9,
             "#4d9221"
            ],
            [
             1,
             "#276419"
            ]
           ],
           "sequential": [
            [
             0,
             "#0d0887"
            ],
            [
             0.1111111111111111,
             "#46039f"
            ],
            [
             0.2222222222222222,
             "#7201a8"
            ],
            [
             0.3333333333333333,
             "#9c179e"
            ],
            [
             0.4444444444444444,
             "#bd3786"
            ],
            [
             0.5555555555555556,
             "#d8576b"
            ],
            [
             0.6666666666666666,
             "#ed7953"
            ],
            [
             0.7777777777777778,
             "#fb9f3a"
            ],
            [
             0.8888888888888888,
             "#fdca26"
            ],
            [
             1,
             "#f0f921"
            ]
           ],
           "sequentialminus": [
            [
             0,
             "#0d0887"
            ],
            [
             0.1111111111111111,
             "#46039f"
            ],
            [
             0.2222222222222222,
             "#7201a8"
            ],
            [
             0.3333333333333333,
             "#9c179e"
            ],
            [
             0.4444444444444444,
             "#bd3786"
            ],
            [
             0.5555555555555556,
             "#d8576b"
            ],
            [
             0.6666666666666666,
             "#ed7953"
            ],
            [
             0.7777777777777778,
             "#fb9f3a"
            ],
            [
             0.8888888888888888,
             "#fdca26"
            ],
            [
             1,
             "#f0f921"
            ]
           ]
          },
          "colorway": [
           "#636efa",
           "#EF553B",
           "#00cc96",
           "#ab63fa",
           "#FFA15A",
           "#19d3f3",
           "#FF6692",
           "#B6E880",
           "#FF97FF",
           "#FECB52"
          ],
          "font": {
           "color": "#2a3f5f"
          },
          "geo": {
           "bgcolor": "white",
           "lakecolor": "white",
           "landcolor": "#E5ECF6",
           "showlakes": true,
           "showland": true,
           "subunitcolor": "white"
          },
          "hoverlabel": {
           "align": "left"
          },
          "hovermode": "closest",
          "mapbox": {
           "style": "light"
          },
          "paper_bgcolor": "white",
          "plot_bgcolor": "#E5ECF6",
          "polar": {
           "angularaxis": {
            "gridcolor": "white",
            "linecolor": "white",
            "ticks": ""
           },
           "bgcolor": "#E5ECF6",
           "radialaxis": {
            "gridcolor": "white",
            "linecolor": "white",
            "ticks": ""
           }
          },
          "scene": {
           "xaxis": {
            "backgroundcolor": "#E5ECF6",
            "gridcolor": "white",
            "gridwidth": 2,
            "linecolor": "white",
            "showbackground": true,
            "ticks": "",
            "zerolinecolor": "white"
           },
           "yaxis": {
            "backgroundcolor": "#E5ECF6",
            "gridcolor": "white",
            "gridwidth": 2,
            "linecolor": "white",
            "showbackground": true,
            "ticks": "",
            "zerolinecolor": "white"
           },
           "zaxis": {
            "backgroundcolor": "#E5ECF6",
            "gridcolor": "white",
            "gridwidth": 2,
            "linecolor": "white",
            "showbackground": true,
            "ticks": "",
            "zerolinecolor": "white"
           }
          },
          "shapedefaults": {
           "line": {
            "color": "#2a3f5f"
           }
          },
          "ternary": {
           "aaxis": {
            "gridcolor": "white",
            "linecolor": "white",
            "ticks": ""
           },
           "baxis": {
            "gridcolor": "white",
            "linecolor": "white",
            "ticks": ""
           },
           "bgcolor": "#E5ECF6",
           "caxis": {
            "gridcolor": "white",
            "linecolor": "white",
            "ticks": ""
           }
          },
          "title": {
           "x": 0.05
          },
          "xaxis": {
           "automargin": true,
           "gridcolor": "white",
           "linecolor": "white",
           "ticks": "",
           "title": {
            "standoff": 15
           },
           "zerolinecolor": "white",
           "zerolinewidth": 2
          },
          "yaxis": {
           "automargin": true,
           "gridcolor": "white",
           "linecolor": "white",
           "ticks": "",
           "title": {
            "standoff": 15
           },
           "zerolinecolor": "white",
           "zerolinewidth": 2
          }
         }
        },
        "title": {
         "text": "BTC Candlestick Chart",
         "x": 0.5,
         "xanchor": "center",
         "y": 0.9,
         "yanchor": "top"
        },
        "xaxis": {
         "title": {
          "text": "Time"
         }
        },
        "yaxis": {
         "ticksuffix": "$",
         "title": {
          "text": "Price in USD"
         }
        }
       }
      }
     },
     "metadata": {},
     "output_type": "display_data"
    },
    {
     "data": {
      "application/vnd.plotly.v1+json": {
       "config": {
        "plotlyServerURL": "https://plot.ly"
       },
       "data": [
        {
         "close": [
          3039.9450883642853,
          3039.5614285714287,
          3039.347142857143,
          3039.354285714286,
          3040.2528571428584,
          3040.808571428571,
          3041.792857142857,
          3041.61,
          3030.795714285713,
          3021.2828571428577,
          3010.6014285714286,
          3008.8637631742854,
          3004.612857142857,
          3010.888571428572,
          3003.307142857143,
          3006.071428571429,
          3000.741428571429,
          3005.244149767143,
          3000.0651961,
          2999.124285714286,
          2990.445714285714,
          2996.911428571429,
          2999.3857142857146,
          2999.397142857143,
          2998.755714285714,
          3004.738571428571,
          3009.2914285714287,
          3015.1600000000008,
          3018.515851722857,
          3037.188571428572,
          3030.354285714286,
          3023.3442857142863,
          3009.337142857143,
          3017.68,
          3012.8371428571418,
          3022.822857142857,
          3021.182857142857,
          3029.1,
          3028.881428571429,
          3035.354725822857,
          3032.938571428572,
          3038.241428571428,
          3030.587142857143,
          3029.025714285715,
          3027.3228571428576,
          3023.5371428571425,
          3023.890000000001,
          3034.668333333333,
          3038.7,
          3039.9886590657147,
          3033.9200000000005,
          3037.05,
          3037.911428571429,
          3038.068121018572,
          3038.581918151428,
          3034.662857142857,
          3039.891666666667,
          3040.213333333333,
          3040.718571428571,
          3040.697142857143,
          3034.8228571428576,
          3033.857142857143,
          3033.378571428572,
          3033.02,
          3030.40441334,
          3029.832857142857,
          3030.3857142857146,
          3032.0116666666668,
          3031.528571428571,
          3031.4233604257142,
          3031.644285714286,
          3034.441666666667,
          3037.104285714285,
          3039.8214285714284,
          3045.7571428571423,
          3043.490633111428,
          3044.089614203334,
          3036.217142857143,
          3035.2666666666664,
          3037.361428571429,
          3041.008571428571,
          3031.502857142857,
          3028.4000000000005,
          3030.0914285714284,
          3029.712857142857,
          3024.05,
          3022.312857142857,
          3017.306666666667,
          3017.298571428572,
          3028.084285714285
         ],
         "high": [
          3042.2,
          3044.25,
          3040.69,
          3040.7,
          3041.79,
          3043.18,
          3043.32,
          3044.9,
          3041.98,
          3031.7,
          3023.17,
          3014.03,
          3010.94,
          3013.55,
          3014.33,
          3007.5,
          3007.6,
          3006.84,
          3006.22,
          3002.4,
          3000.6,
          3000.1,
          3001.22,
          3001.58,
          3001.85,
          3006.7,
          3012.18,
          3016.59,
          3022.53,
          3040,
          3039.8,
          3030,
          3024.46,
          3019.32,
          3022.46678372,
          3024.66,
          3023.81,
          3031.69,
          3031.69,
          3036.86,
          3037.19,
          3042,
          3039,
          3032.66,
          3032.28,
          3028.3,
          3026.26,
          3035.71,
          3039.89,
          3043.46,
          3040.8,
          3039.16,
          3041,
          3039.89,
          3040.41,
          3039.93,
          3041.46,
          3041.22,
          3042.29,
          3042.58,
          3041.0913911,
          3035.01969993,
          3035,
          3033.86,
          3033.5,
          3030.9,
          3031.13,
          3033.13,
          3032.77,
          3032.53,
          3032.58,
          3035.06,
          3038.16,
          3040.99,
          3047.96,
          3049.79,
          3046.4,
          3044.5898716999995,
          3036.3,
          3038.4,
          3042.67,
          3042.46,
          3033.3,
          3031.99,
          3030.66,
          3030.65,
          3025.42,
          3023.21,
          3018.4,
          3028.99
         ],
         "low": [
          3037.75,
          3036.89,
          3037,
          3037.84,
          3037.56,
          3038.2,
          3038.48,
          3039.77,
          3028.28,
          3017.33,
          3005.35,
          3004.67,
          3002.34,
          3004.51,
          3000,
          2992.1,
          2996.7,
          2999.96,
          2997.02,
          2996.65,
          2989.34,
          2986.36,
          2994.97,
          2994.24,
          2996.7,
          2997.64,
          3001.92,
          3008.37,
          3012.06,
          3017.75,
          3025.69,
          3021.37,
          3006.83,
          3008.42,
          3009.93,
          3010.38,
          3013.25,
          3018.95,
          3027.16,
          3027.93,
          3031.1,
          3031.96,
          3029.42,
          3025.85,
          3024.89,
          3022.53,
          3018.99,
          3022.92,
          3032.49,
          3037.38,
          3031.9,
          3031.08,
          3035.99,
          3034.31,
          3036.65,
          3032.94,
          3033.64,
          3037.55,
          3038.03,
          3039.95,
          3033.07,
          3032.73,
          3032,
          3031.85,
          3028.64,
          3028.93,
          3029.34,
          3029.98,
          3030,
          3030,
          3030.01,
          3030.01,
          3033.69,
          3034.8,
          3039.77,
          3042.13,
          3042.02,
          3034.75,
          3033.37,
          3034.59,
          3036.16,
          3030.02,
          3027.1,
          3027.36,
          3027.98,
          3021.48,
          3020.71,
          3016.48,
          3016.29,
          3016.29
         ],
         "open": [
          3040.48,
          3040.122857142857,
          3039.328571428572,
          3039.3057142857133,
          3039.5071428571428,
          3040.553443715715,
          3040.7885714285712,
          3042.493668354286,
          3041.248571428572,
          3030.9471428571424,
          3022.0414285714287,
          3010.547142857143,
          3008.681002678571,
          3005.285714285714,
          3010.867142857143,
          3003.9300000000007,
          3006.192857142857,
          3000.871428571428,
          3005.317142857143,
          3000.405714285714,
          2998.4557142857147,
          2990.092857142857,
          2997.462857142857,
          2998.9614285714288,
          3000.678674422857,
          2999.125714285715,
          3004.978571428572,
          3009.584285714285,
          3015.561810472857,
          3019.434285714285,
          3037.312857142857,
          3028.384285714286,
          3022.817142857143,
          3010.412857142857,
          3017.648571428572,
          3013.7114285714288,
          3022.27,
          3021.388571428572,
          3029.33722242,
          3029.2771428571427,
          3035.5328571428577,
          3033.52,
          3037.628571428572,
          3029.928160967143,
          3029.13,
          3026.9757142857143,
          3023.17386884,
          3024.496666666668,
          3035.184285714286,
          3039.2314285714283,
          3039.465714285714,
          3033.5842857142857,
          3037.958571428572,
          3037.807142857143,
          3038.0333467228565,
          3038.706203865714,
          3035.345,
          3039.905,
          3040.0571428571416,
          3040.7000000000007,
          3040.524484442857,
          3033.991428571428,
          3033.9,
          3033.2457142857147,
          3033.022857142857,
          3030.142499438572,
          3029.917142857142,
          3030.595,
          3032.0509337771427,
          3031.380933777143,
          3031.5071428571428,
          3031.856666666666,
          3034.595714285714,
          3037.462857142857,
          3040.59,
          3046.5528571428576,
          3043.588333333333,
          3043.599981671429,
          3035.625,
          3035.689124085715,
          3037.795714285715,
          3041.354285714285,
          3031.5214285714287,
          3028.708527184285,
          3029.8,
          3029.735948247144,
          3024.2200000000007,
          3022.3416666666667,
          3017.1,
          3017.228571428572
         ],
         "type": "candlestick",
         "x": [
          "2021-09-20T20:31:00",
          "2021-09-20T20:32:00",
          "2021-09-20T20:33:00",
          "2021-09-20T20:34:00",
          "2021-09-20T20:35:00",
          "2021-09-20T20:36:00",
          "2021-09-20T20:37:00",
          "2021-09-20T20:38:00",
          "2021-09-20T20:39:00",
          "2021-09-20T20:40:00",
          "2021-09-20T20:41:00",
          "2021-09-20T20:42:00",
          "2021-09-20T20:43:00",
          "2021-09-20T20:44:00",
          "2021-09-20T20:45:00",
          "2021-09-20T20:46:00",
          "2021-09-20T20:47:00",
          "2021-09-20T20:48:00",
          "2021-09-20T20:49:00",
          "2021-09-20T20:50:00",
          "2021-09-20T20:51:00",
          "2021-09-20T20:52:00",
          "2021-09-20T20:53:00",
          "2021-09-20T20:54:00",
          "2021-09-20T20:55:00",
          "2021-09-20T20:56:00",
          "2021-09-20T20:57:00",
          "2021-09-20T20:58:00",
          "2021-09-20T20:59:00",
          "2021-09-20T21:00:00",
          "2021-09-20T21:01:00",
          "2021-09-20T21:02:00",
          "2021-09-20T21:03:00",
          "2021-09-20T21:04:00",
          "2021-09-20T21:05:00",
          "2021-09-20T21:06:00",
          "2021-09-20T21:07:00",
          "2021-09-20T21:08:00",
          "2021-09-20T21:09:00",
          "2021-09-20T21:10:00",
          "2021-09-20T21:11:00",
          "2021-09-20T21:12:00",
          "2021-09-20T21:13:00",
          "2021-09-20T21:14:00",
          "2021-09-20T21:15:00",
          "2021-09-20T21:16:00",
          "2021-09-20T21:17:00",
          "2021-09-20T21:18:00",
          "2021-09-20T21:19:00",
          "2021-09-20T21:20:00",
          "2021-09-20T21:21:00",
          "2021-09-20T21:22:00",
          "2021-09-20T21:23:00",
          "2021-09-20T21:24:00",
          "2021-09-20T21:25:00",
          "2021-09-20T21:26:00",
          "2021-09-20T21:27:00",
          "2021-09-20T21:28:00",
          "2021-09-20T21:29:00",
          "2021-09-20T21:30:00",
          "2021-09-20T21:31:00",
          "2021-09-20T21:32:00",
          "2021-09-20T21:33:00",
          "2021-09-20T21:34:00",
          "2021-09-20T21:35:00",
          "2021-09-20T21:36:00",
          "2021-09-20T21:37:00",
          "2021-09-20T21:38:00",
          "2021-09-20T21:39:00",
          "2021-09-20T21:40:00",
          "2021-09-20T21:41:00",
          "2021-09-20T21:42:00",
          "2021-09-20T21:43:00",
          "2021-09-20T21:44:00",
          "2021-09-20T21:45:00",
          "2021-09-20T21:46:00",
          "2021-09-20T21:47:00",
          "2021-09-20T21:48:00",
          "2021-09-20T21:49:00",
          "2021-09-20T21:50:00",
          "2021-09-20T21:51:00",
          "2021-09-20T21:52:00",
          "2021-09-20T21:53:00",
          "2021-09-20T21:54:00",
          "2021-09-20T21:55:00",
          "2021-09-20T21:56:00",
          "2021-09-20T21:57:00",
          "2021-09-20T21:58:00",
          "2021-09-20T21:59:00",
          "2021-09-20T22:00:00"
         ]
        }
       ],
       "layout": {
        "template": {
         "data": {
          "bar": [
           {
            "error_x": {
             "color": "#2a3f5f"
            },
            "error_y": {
             "color": "#2a3f5f"
            },
            "marker": {
             "line": {
              "color": "#E5ECF6",
              "width": 0.5
             },
             "pattern": {
              "fillmode": "overlay",
              "size": 10,
              "solidity": 0.2
             }
            },
            "type": "bar"
           }
          ],
          "barpolar": [
           {
            "marker": {
             "line": {
              "color": "#E5ECF6",
              "width": 0.5
             },
             "pattern": {
              "fillmode": "overlay",
              "size": 10,
              "solidity": 0.2
             }
            },
            "type": "barpolar"
           }
          ],
          "carpet": [
           {
            "aaxis": {
             "endlinecolor": "#2a3f5f",
             "gridcolor": "white",
             "linecolor": "white",
             "minorgridcolor": "white",
             "startlinecolor": "#2a3f5f"
            },
            "baxis": {
             "endlinecolor": "#2a3f5f",
             "gridcolor": "white",
             "linecolor": "white",
             "minorgridcolor": "white",
             "startlinecolor": "#2a3f5f"
            },
            "type": "carpet"
           }
          ],
          "choropleth": [
           {
            "colorbar": {
             "outlinewidth": 0,
             "ticks": ""
            },
            "type": "choropleth"
           }
          ],
          "contour": [
           {
            "colorbar": {
             "outlinewidth": 0,
             "ticks": ""
            },
            "colorscale": [
             [
              0,
              "#0d0887"
             ],
             [
              0.1111111111111111,
              "#46039f"
             ],
             [
              0.2222222222222222,
              "#7201a8"
             ],
             [
              0.3333333333333333,
              "#9c179e"
             ],
             [
              0.4444444444444444,
              "#bd3786"
             ],
             [
              0.5555555555555556,
              "#d8576b"
             ],
             [
              0.6666666666666666,
              "#ed7953"
             ],
             [
              0.7777777777777778,
              "#fb9f3a"
             ],
             [
              0.8888888888888888,
              "#fdca26"
             ],
             [
              1,
              "#f0f921"
             ]
            ],
            "type": "contour"
           }
          ],
          "contourcarpet": [
           {
            "colorbar": {
             "outlinewidth": 0,
             "ticks": ""
            },
            "type": "contourcarpet"
           }
          ],
          "heatmap": [
           {
            "colorbar": {
             "outlinewidth": 0,
             "ticks": ""
            },
            "colorscale": [
             [
              0,
              "#0d0887"
             ],
             [
              0.1111111111111111,
              "#46039f"
             ],
             [
              0.2222222222222222,
              "#7201a8"
             ],
             [
              0.3333333333333333,
              "#9c179e"
             ],
             [
              0.4444444444444444,
              "#bd3786"
             ],
             [
              0.5555555555555556,
              "#d8576b"
             ],
             [
              0.6666666666666666,
              "#ed7953"
             ],
             [
              0.7777777777777778,
              "#fb9f3a"
             ],
             [
              0.8888888888888888,
              "#fdca26"
             ],
             [
              1,
              "#f0f921"
             ]
            ],
            "type": "heatmap"
           }
          ],
          "heatmapgl": [
           {
            "colorbar": {
             "outlinewidth": 0,
             "ticks": ""
            },
            "colorscale": [
             [
              0,
              "#0d0887"
             ],
             [
              0.1111111111111111,
              "#46039f"
             ],
             [
              0.2222222222222222,
              "#7201a8"
             ],
             [
              0.3333333333333333,
              "#9c179e"
             ],
             [
              0.4444444444444444,
              "#bd3786"
             ],
             [
              0.5555555555555556,
              "#d8576b"
             ],
             [
              0.6666666666666666,
              "#ed7953"
             ],
             [
              0.7777777777777778,
              "#fb9f3a"
             ],
             [
              0.8888888888888888,
              "#fdca26"
             ],
             [
              1,
              "#f0f921"
             ]
            ],
            "type": "heatmapgl"
           }
          ],
          "histogram": [
           {
            "marker": {
             "pattern": {
              "fillmode": "overlay",
              "size": 10,
              "solidity": 0.2
             }
            },
            "type": "histogram"
           }
          ],
          "histogram2d": [
           {
            "colorbar": {
             "outlinewidth": 0,
             "ticks": ""
            },
            "colorscale": [
             [
              0,
              "#0d0887"
             ],
             [
              0.1111111111111111,
              "#46039f"
             ],
             [
              0.2222222222222222,
              "#7201a8"
             ],
             [
              0.3333333333333333,
              "#9c179e"
             ],
             [
              0.4444444444444444,
              "#bd3786"
             ],
             [
              0.5555555555555556,
              "#d8576b"
             ],
             [
              0.6666666666666666,
              "#ed7953"
             ],
             [
              0.7777777777777778,
              "#fb9f3a"
             ],
             [
              0.8888888888888888,
              "#fdca26"
             ],
             [
              1,
              "#f0f921"
             ]
            ],
            "type": "histogram2d"
           }
          ],
          "histogram2dcontour": [
           {
            "colorbar": {
             "outlinewidth": 0,
             "ticks": ""
            },
            "colorscale": [
             [
              0,
              "#0d0887"
             ],
             [
              0.1111111111111111,
              "#46039f"
             ],
             [
              0.2222222222222222,
              "#7201a8"
             ],
             [
              0.3333333333333333,
              "#9c179e"
             ],
             [
              0.4444444444444444,
              "#bd3786"
             ],
             [
              0.5555555555555556,
              "#d8576b"
             ],
             [
              0.6666666666666666,
              "#ed7953"
             ],
             [
              0.7777777777777778,
              "#fb9f3a"
             ],
             [
              0.8888888888888888,
              "#fdca26"
             ],
             [
              1,
              "#f0f921"
             ]
            ],
            "type": "histogram2dcontour"
           }
          ],
          "mesh3d": [
           {
            "colorbar": {
             "outlinewidth": 0,
             "ticks": ""
            },
            "type": "mesh3d"
           }
          ],
          "parcoords": [
           {
            "line": {
             "colorbar": {
              "outlinewidth": 0,
              "ticks": ""
             }
            },
            "type": "parcoords"
           }
          ],
          "pie": [
           {
            "automargin": true,
            "type": "pie"
           }
          ],
          "scatter": [
           {
            "fillpattern": {
             "fillmode": "overlay",
             "size": 10,
             "solidity": 0.2
            },
            "type": "scatter"
           }
          ],
          "scatter3d": [
           {
            "line": {
             "colorbar": {
              "outlinewidth": 0,
              "ticks": ""
             }
            },
            "marker": {
             "colorbar": {
              "outlinewidth": 0,
              "ticks": ""
             }
            },
            "type": "scatter3d"
           }
          ],
          "scattercarpet": [
           {
            "marker": {
             "colorbar": {
              "outlinewidth": 0,
              "ticks": ""
             }
            },
            "type": "scattercarpet"
           }
          ],
          "scattergeo": [
           {
            "marker": {
             "colorbar": {
              "outlinewidth": 0,
              "ticks": ""
             }
            },
            "type": "scattergeo"
           }
          ],
          "scattergl": [
           {
            "marker": {
             "colorbar": {
              "outlinewidth": 0,
              "ticks": ""
             }
            },
            "type": "scattergl"
           }
          ],
          "scattermapbox": [
           {
            "marker": {
             "colorbar": {
              "outlinewidth": 0,
              "ticks": ""
             }
            },
            "type": "scattermapbox"
           }
          ],
          "scatterpolar": [
           {
            "marker": {
             "colorbar": {
              "outlinewidth": 0,
              "ticks": ""
             }
            },
            "type": "scatterpolar"
           }
          ],
          "scatterpolargl": [
           {
            "marker": {
             "colorbar": {
              "outlinewidth": 0,
              "ticks": ""
             }
            },
            "type": "scatterpolargl"
           }
          ],
          "scatterternary": [
           {
            "marker": {
             "colorbar": {
              "outlinewidth": 0,
              "ticks": ""
             }
            },
            "type": "scatterternary"
           }
          ],
          "surface": [
           {
            "colorbar": {
             "outlinewidth": 0,
             "ticks": ""
            },
            "colorscale": [
             [
              0,
              "#0d0887"
             ],
             [
              0.1111111111111111,
              "#46039f"
             ],
             [
              0.2222222222222222,
              "#7201a8"
             ],
             [
              0.3333333333333333,
              "#9c179e"
             ],
             [
              0.4444444444444444,
              "#bd3786"
             ],
             [
              0.5555555555555556,
              "#d8576b"
             ],
             [
              0.6666666666666666,
              "#ed7953"
             ],
             [
              0.7777777777777778,
              "#fb9f3a"
             ],
             [
              0.8888888888888888,
              "#fdca26"
             ],
             [
              1,
              "#f0f921"
             ]
            ],
            "type": "surface"
           }
          ],
          "table": [
           {
            "cells": {
             "fill": {
              "color": "#EBF0F8"
             },
             "line": {
              "color": "white"
             }
            },
            "header": {
             "fill": {
              "color": "#C8D4E3"
             },
             "line": {
              "color": "white"
             }
            },
            "type": "table"
           }
          ]
         },
         "layout": {
          "annotationdefaults": {
           "arrowcolor": "#2a3f5f",
           "arrowhead": 0,
           "arrowwidth": 1
          },
          "autotypenumbers": "strict",
          "coloraxis": {
           "colorbar": {
            "outlinewidth": 0,
            "ticks": ""
           }
          },
          "colorscale": {
           "diverging": [
            [
             0,
             "#8e0152"
            ],
            [
             0.1,
             "#c51b7d"
            ],
            [
             0.2,
             "#de77ae"
            ],
            [
             0.3,
             "#f1b6da"
            ],
            [
             0.4,
             "#fde0ef"
            ],
            [
             0.5,
             "#f7f7f7"
            ],
            [
             0.6,
             "#e6f5d0"
            ],
            [
             0.7,
             "#b8e186"
            ],
            [
             0.8,
             "#7fbc41"
            ],
            [
             0.9,
             "#4d9221"
            ],
            [
             1,
             "#276419"
            ]
           ],
           "sequential": [
            [
             0,
             "#0d0887"
            ],
            [
             0.1111111111111111,
             "#46039f"
            ],
            [
             0.2222222222222222,
             "#7201a8"
            ],
            [
             0.3333333333333333,
             "#9c179e"
            ],
            [
             0.4444444444444444,
             "#bd3786"
            ],
            [
             0.5555555555555556,
             "#d8576b"
            ],
            [
             0.6666666666666666,
             "#ed7953"
            ],
            [
             0.7777777777777778,
             "#fb9f3a"
            ],
            [
             0.8888888888888888,
             "#fdca26"
            ],
            [
             1,
             "#f0f921"
            ]
           ],
           "sequentialminus": [
            [
             0,
             "#0d0887"
            ],
            [
             0.1111111111111111,
             "#46039f"
            ],
            [
             0.2222222222222222,
             "#7201a8"
            ],
            [
             0.3333333333333333,
             "#9c179e"
            ],
            [
             0.4444444444444444,
             "#bd3786"
            ],
            [
             0.5555555555555556,
             "#d8576b"
            ],
            [
             0.6666666666666666,
             "#ed7953"
            ],
            [
             0.7777777777777778,
             "#fb9f3a"
            ],
            [
             0.8888888888888888,
             "#fdca26"
            ],
            [
             1,
             "#f0f921"
            ]
           ]
          },
          "colorway": [
           "#636efa",
           "#EF553B",
           "#00cc96",
           "#ab63fa",
           "#FFA15A",
           "#19d3f3",
           "#FF6692",
           "#B6E880",
           "#FF97FF",
           "#FECB52"
          ],
          "font": {
           "color": "#2a3f5f"
          },
          "geo": {
           "bgcolor": "white",
           "lakecolor": "white",
           "landcolor": "#E5ECF6",
           "showlakes": true,
           "showland": true,
           "subunitcolor": "white"
          },
          "hoverlabel": {
           "align": "left"
          },
          "hovermode": "closest",
          "mapbox": {
           "style": "light"
          },
          "paper_bgcolor": "white",
          "plot_bgcolor": "#E5ECF6",
          "polar": {
           "angularaxis": {
            "gridcolor": "white",
            "linecolor": "white",
            "ticks": ""
           },
           "bgcolor": "#E5ECF6",
           "radialaxis": {
            "gridcolor": "white",
            "linecolor": "white",
            "ticks": ""
           }
          },
          "scene": {
           "xaxis": {
            "backgroundcolor": "#E5ECF6",
            "gridcolor": "white",
            "gridwidth": 2,
            "linecolor": "white",
            "showbackground": true,
            "ticks": "",
            "zerolinecolor": "white"
           },
           "yaxis": {
            "backgroundcolor": "#E5ECF6",
            "gridcolor": "white",
            "gridwidth": 2,
            "linecolor": "white",
            "showbackground": true,
            "ticks": "",
            "zerolinecolor": "white"
           },
           "zaxis": {
            "backgroundcolor": "#E5ECF6",
            "gridcolor": "white",
            "gridwidth": 2,
            "linecolor": "white",
            "showbackground": true,
            "ticks": "",
            "zerolinecolor": "white"
           }
          },
          "shapedefaults": {
           "line": {
            "color": "#2a3f5f"
           }
          },
          "ternary": {
           "aaxis": {
            "gridcolor": "white",
            "linecolor": "white",
            "ticks": ""
           },
           "baxis": {
            "gridcolor": "white",
            "linecolor": "white",
            "ticks": ""
           },
           "bgcolor": "#E5ECF6",
           "caxis": {
            "gridcolor": "white",
            "linecolor": "white",
            "ticks": ""
           }
          },
          "title": {
           "x": 0.05
          },
          "xaxis": {
           "automargin": true,
           "gridcolor": "white",
           "linecolor": "white",
           "ticks": "",
           "title": {
            "standoff": 15
           },
           "zerolinecolor": "white",
           "zerolinewidth": 2
          },
          "yaxis": {
           "automargin": true,
           "gridcolor": "white",
           "linecolor": "white",
           "ticks": "",
           "title": {
            "standoff": 15
           },
           "zerolinecolor": "white",
           "zerolinewidth": 2
          }
         }
        },
        "title": {
         "text": "ETH Candlestick Chart",
         "x": 0.5,
         "xanchor": "center",
         "y": 0.9,
         "yanchor": "top"
        },
        "xaxis": {
         "title": {
          "text": "Time"
         }
        },
        "yaxis": {
         "ticksuffix": "$",
         "title": {
          "text": "Price in USD"
         }
        }
       }
      }
     },
     "metadata": {},
     "output_type": "display_data"
    },
    {
     "data": {
      "application/vnd.plotly.v1+json": {
       "config": {
        "plotlyServerURL": "https://plot.ly"
       },
       "data": [
        {
         "close": [
          0.2103205,
          0.21038625,
          0.21045975,
          0.2103858,
          0.2104238,
          0.2107969999999999,
          0.21104925,
          0.2112635,
          0.2104406,
          0.2099636,
          0.209456,
          0.209221,
          0.2090168,
          0.20924475,
          0.20895,
          0.20918525,
          0.20879575,
          0.20906125,
          0.208747,
          0.208788,
          0.2084602,
          0.2086435,
          0.20895625,
          0.20896225,
          0.20880675,
          0.2091489999999999,
          0.2092405,
          0.20985425,
          0.21005625,
          0.2114764,
          0.211081,
          0.2106908,
          0.2097066,
          0.2101732,
          0.2100929999999999,
          0.21074225,
          0.21107425,
          0.21132925,
          0.211242,
          0.2115974,
          0.2114535,
          0.211562,
          0.2113118,
          0.21122925,
          0.2109894,
          0.21095525,
          0.211112,
          0.21165875,
          0.2120526,
          0.21189025,
          0.2117792,
          0.21200625,
          0.21209975,
          0.21194975,
          0.21187575,
          0.211612,
          0.21213875,
          0.21205625,
          0.21189175,
          0.21189325,
          0.211875,
          0.211887,
          0.2118699999999999,
          0.21186825,
          0.21185425,
          0.2118376,
          0.2118515,
          0.2118416666666666,
          0.2118415,
          0.21184325,
          0.21182575,
          0.2118255,
          0.21184525,
          0.2118914999999999,
          0.2122212,
          0.2126136,
          0.21258675,
          0.2122268,
          0.2121686,
          0.21266625,
          0.2133195,
          0.2130449999999999,
          0.2126016,
          0.2125405,
          0.212562,
          0.212112,
          0.2118024,
          0.2116038,
          0.21198875,
          0.21280075
         ],
         "high": [
          0.2106,
          0.2107,
          0.2106,
          0.2106,
          0.2106,
          0.210832,
          0.2111,
          0.2115,
          0.2113,
          0.2105,
          0.2101,
          0.2097,
          0.2094,
          0.2095,
          0.2095,
          0.209211,
          0.2094,
          0.2091,
          0.2091,
          0.2091,
          0.2088,
          0.208915,
          0.2091,
          0.2091,
          0.209,
          0.2094,
          0.2097,
          0.2099,
          0.2102,
          0.2117,
          0.211801,
          0.2111,
          0.2107,
          0.2104,
          0.2107,
          0.2109,
          0.2111,
          0.2116,
          0.2114,
          0.21173,
          0.2118,
          0.2119,
          0.2116,
          0.2114,
          0.2113,
          0.2111,
          0.2113,
          0.2117,
          0.2122,
          0.2123,
          0.212,
          0.2121,
          0.2123,
          0.2122,
          0.2121,
          0.212,
          0.2123,
          0.2123,
          0.2122,
          0.212,
          0.212,
          0.212,
          0.212,
          0.212,
          0.212,
          0.212,
          0.212,
          0.212,
          0.212,
          0.212,
          0.212,
          0.2119,
          0.212,
          0.212,
          0.2124,
          0.21272,
          0.2127,
          0.2126,
          0.2123,
          0.2128,
          0.213348,
          0.2135,
          0.2132,
          0.2127,
          0.2127,
          0.2127,
          0.2122,
          0.2119,
          0.2121,
          0.2129
         ],
         "low": [
          0.2102,
          0.2102,
          0.2103,
          0.210278,
          0.210189,
          0.21039,
          0.2106,
          0.211,
          0.210373,
          0.2098,
          0.209274,
          0.2091829999999999,
          0.2087,
          0.2089,
          0.2087,
          0.2086,
          0.2087,
          0.2087,
          0.2085,
          0.2086,
          0.2083,
          0.2082,
          0.2083219999999999,
          0.20859,
          0.20855,
          0.208612,
          0.20904,
          0.2092,
          0.209625,
          0.21,
          0.2108,
          0.2106,
          0.2096,
          0.20948,
          0.2098699999999999,
          0.2098,
          0.2103,
          0.2109,
          0.211,
          0.2112,
          0.2113139999999999,
          0.2113199999999999,
          0.2111699999999999,
          0.21098,
          0.2109,
          0.21075,
          0.2107,
          0.210981,
          0.2116,
          0.2118,
          0.211587,
          0.2116,
          0.211969,
          0.2118,
          0.2117969999999999,
          0.2115,
          0.2116,
          0.211984,
          0.2118,
          0.2118,
          0.2118,
          0.2118,
          0.21176,
          0.2118,
          0.2118,
          0.2117,
          0.2117,
          0.2117,
          0.2117,
          0.2117,
          0.2117,
          0.2117,
          0.2117,
          0.2117,
          0.2118,
          0.21223,
          0.2125,
          0.212194,
          0.212083,
          0.2121,
          0.2126,
          0.213,
          0.2125,
          0.2124869999999999,
          0.2125,
          0.212056,
          0.2116699999999999,
          0.2115199999999999,
          0.211529,
          0.211939
         ],
         "open": [
          0.2105295,
          0.21031675,
          0.21040225,
          0.2104724,
          0.2104072,
          0.21042525,
          0.2107735,
          0.21107425,
          0.2111966,
          0.2104344,
          0.20996825,
          0.2095054999999999,
          0.2091866,
          0.208939,
          0.20922375,
          0.2089935,
          0.20925125,
          0.208831,
          0.2090465,
          0.208731,
          0.2087364,
          0.20840025,
          0.20867125,
          0.20896625,
          0.208907,
          0.20881975,
          0.209159,
          0.209275,
          0.2098085,
          0.210103,
          0.2115578,
          0.2110554,
          0.2104334,
          0.209724,
          0.210292,
          0.2101225,
          0.21072,
          0.21099175,
          0.21134225,
          0.2113489999999999,
          0.2115165,
          0.2114105,
          0.2115516,
          0.21115225,
          0.2112132,
          0.2109975,
          0.2109505,
          0.21107275,
          0.2117706,
          0.21217375,
          0.2118547999999999,
          0.2117275,
          0.212021,
          0.2120155,
          0.21194,
          0.2118636,
          0.21167625,
          0.2121335,
          0.21202925,
          0.211881,
          0.21190175,
          0.21187225,
          0.21185775,
          0.21188525,
          0.21183925,
          0.2118534,
          0.21179675,
          0.211842,
          0.21183925,
          0.21184225,
          0.2118255,
          0.2118429999999999,
          0.2118205,
          0.211848,
          0.2119356,
          0.2123933999999999,
          0.2126155,
          0.2125314,
          0.2122534,
          0.21217225,
          0.21270025,
          0.2133475,
          0.2130369999999999,
          0.2125605,
          0.21259025,
          0.21254525,
          0.2120548,
          0.2117774,
          0.21159225,
          0.21202975
         ],
         "type": "candlestick",
         "x": [
          "2021-09-20T20:31:00",
          "2021-09-20T20:32:00",
          "2021-09-20T20:33:00",
          "2021-09-20T20:34:00",
          "2021-09-20T20:35:00",
          "2021-09-20T20:36:00",
          "2021-09-20T20:37:00",
          "2021-09-20T20:38:00",
          "2021-09-20T20:39:00",
          "2021-09-20T20:40:00",
          "2021-09-20T20:41:00",
          "2021-09-20T20:42:00",
          "2021-09-20T20:43:00",
          "2021-09-20T20:44:00",
          "2021-09-20T20:45:00",
          "2021-09-20T20:46:00",
          "2021-09-20T20:47:00",
          "2021-09-20T20:48:00",
          "2021-09-20T20:49:00",
          "2021-09-20T20:50:00",
          "2021-09-20T20:51:00",
          "2021-09-20T20:52:00",
          "2021-09-20T20:53:00",
          "2021-09-20T20:54:00",
          "2021-09-20T20:55:00",
          "2021-09-20T20:56:00",
          "2021-09-20T20:57:00",
          "2021-09-20T20:58:00",
          "2021-09-20T20:59:00",
          "2021-09-20T21:00:00",
          "2021-09-20T21:01:00",
          "2021-09-20T21:02:00",
          "2021-09-20T21:03:00",
          "2021-09-20T21:04:00",
          "2021-09-20T21:05:00",
          "2021-09-20T21:06:00",
          "2021-09-20T21:07:00",
          "2021-09-20T21:08:00",
          "2021-09-20T21:09:00",
          "2021-09-20T21:10:00",
          "2021-09-20T21:11:00",
          "2021-09-20T21:12:00",
          "2021-09-20T21:13:00",
          "2021-09-20T21:14:00",
          "2021-09-20T21:15:00",
          "2021-09-20T21:16:00",
          "2021-09-20T21:17:00",
          "2021-09-20T21:18:00",
          "2021-09-20T21:19:00",
          "2021-09-20T21:20:00",
          "2021-09-20T21:21:00",
          "2021-09-20T21:22:00",
          "2021-09-20T21:23:00",
          "2021-09-20T21:24:00",
          "2021-09-20T21:25:00",
          "2021-09-20T21:26:00",
          "2021-09-20T21:27:00",
          "2021-09-20T21:28:00",
          "2021-09-20T21:29:00",
          "2021-09-20T21:30:00",
          "2021-09-20T21:31:00",
          "2021-09-20T21:32:00",
          "2021-09-20T21:33:00",
          "2021-09-20T21:34:00",
          "2021-09-20T21:35:00",
          "2021-09-20T21:36:00",
          "2021-09-20T21:37:00",
          "2021-09-20T21:38:00",
          "2021-09-20T21:39:00",
          "2021-09-20T21:40:00",
          "2021-09-20T21:41:00",
          "2021-09-20T21:42:00",
          "2021-09-20T21:43:00",
          "2021-09-20T21:44:00",
          "2021-09-20T21:45:00",
          "2021-09-20T21:46:00",
          "2021-09-20T21:47:00",
          "2021-09-20T21:48:00",
          "2021-09-20T21:49:00",
          "2021-09-20T21:50:00",
          "2021-09-20T21:51:00",
          "2021-09-20T21:52:00",
          "2021-09-20T21:53:00",
          "2021-09-20T21:54:00",
          "2021-09-20T21:55:00",
          "2021-09-20T21:56:00",
          "2021-09-20T21:57:00",
          "2021-09-20T21:58:00",
          "2021-09-20T21:59:00",
          "2021-09-20T22:00:00"
         ]
        }
       ],
       "layout": {
        "template": {
         "data": {
          "bar": [
           {
            "error_x": {
             "color": "#2a3f5f"
            },
            "error_y": {
             "color": "#2a3f5f"
            },
            "marker": {
             "line": {
              "color": "#E5ECF6",
              "width": 0.5
             },
             "pattern": {
              "fillmode": "overlay",
              "size": 10,
              "solidity": 0.2
             }
            },
            "type": "bar"
           }
          ],
          "barpolar": [
           {
            "marker": {
             "line": {
              "color": "#E5ECF6",
              "width": 0.5
             },
             "pattern": {
              "fillmode": "overlay",
              "size": 10,
              "solidity": 0.2
             }
            },
            "type": "barpolar"
           }
          ],
          "carpet": [
           {
            "aaxis": {
             "endlinecolor": "#2a3f5f",
             "gridcolor": "white",
             "linecolor": "white",
             "minorgridcolor": "white",
             "startlinecolor": "#2a3f5f"
            },
            "baxis": {
             "endlinecolor": "#2a3f5f",
             "gridcolor": "white",
             "linecolor": "white",
             "minorgridcolor": "white",
             "startlinecolor": "#2a3f5f"
            },
            "type": "carpet"
           }
          ],
          "choropleth": [
           {
            "colorbar": {
             "outlinewidth": 0,
             "ticks": ""
            },
            "type": "choropleth"
           }
          ],
          "contour": [
           {
            "colorbar": {
             "outlinewidth": 0,
             "ticks": ""
            },
            "colorscale": [
             [
              0,
              "#0d0887"
             ],
             [
              0.1111111111111111,
              "#46039f"
             ],
             [
              0.2222222222222222,
              "#7201a8"
             ],
             [
              0.3333333333333333,
              "#9c179e"
             ],
             [
              0.4444444444444444,
              "#bd3786"
             ],
             [
              0.5555555555555556,
              "#d8576b"
             ],
             [
              0.6666666666666666,
              "#ed7953"
             ],
             [
              0.7777777777777778,
              "#fb9f3a"
             ],
             [
              0.8888888888888888,
              "#fdca26"
             ],
             [
              1,
              "#f0f921"
             ]
            ],
            "type": "contour"
           }
          ],
          "contourcarpet": [
           {
            "colorbar": {
             "outlinewidth": 0,
             "ticks": ""
            },
            "type": "contourcarpet"
           }
          ],
          "heatmap": [
           {
            "colorbar": {
             "outlinewidth": 0,
             "ticks": ""
            },
            "colorscale": [
             [
              0,
              "#0d0887"
             ],
             [
              0.1111111111111111,
              "#46039f"
             ],
             [
              0.2222222222222222,
              "#7201a8"
             ],
             [
              0.3333333333333333,
              "#9c179e"
             ],
             [
              0.4444444444444444,
              "#bd3786"
             ],
             [
              0.5555555555555556,
              "#d8576b"
             ],
             [
              0.6666666666666666,
              "#ed7953"
             ],
             [
              0.7777777777777778,
              "#fb9f3a"
             ],
             [
              0.8888888888888888,
              "#fdca26"
             ],
             [
              1,
              "#f0f921"
             ]
            ],
            "type": "heatmap"
           }
          ],
          "heatmapgl": [
           {
            "colorbar": {
             "outlinewidth": 0,
             "ticks": ""
            },
            "colorscale": [
             [
              0,
              "#0d0887"
             ],
             [
              0.1111111111111111,
              "#46039f"
             ],
             [
              0.2222222222222222,
              "#7201a8"
             ],
             [
              0.3333333333333333,
              "#9c179e"
             ],
             [
              0.4444444444444444,
              "#bd3786"
             ],
             [
              0.5555555555555556,
              "#d8576b"
             ],
             [
              0.6666666666666666,
              "#ed7953"
             ],
             [
              0.7777777777777778,
              "#fb9f3a"
             ],
             [
              0.8888888888888888,
              "#fdca26"
             ],
             [
              1,
              "#f0f921"
             ]
            ],
            "type": "heatmapgl"
           }
          ],
          "histogram": [
           {
            "marker": {
             "pattern": {
              "fillmode": "overlay",
              "size": 10,
              "solidity": 0.2
             }
            },
            "type": "histogram"
           }
          ],
          "histogram2d": [
           {
            "colorbar": {
             "outlinewidth": 0,
             "ticks": ""
            },
            "colorscale": [
             [
              0,
              "#0d0887"
             ],
             [
              0.1111111111111111,
              "#46039f"
             ],
             [
              0.2222222222222222,
              "#7201a8"
             ],
             [
              0.3333333333333333,
              "#9c179e"
             ],
             [
              0.4444444444444444,
              "#bd3786"
             ],
             [
              0.5555555555555556,
              "#d8576b"
             ],
             [
              0.6666666666666666,
              "#ed7953"
             ],
             [
              0.7777777777777778,
              "#fb9f3a"
             ],
             [
              0.8888888888888888,
              "#fdca26"
             ],
             [
              1,
              "#f0f921"
             ]
            ],
            "type": "histogram2d"
           }
          ],
          "histogram2dcontour": [
           {
            "colorbar": {
             "outlinewidth": 0,
             "ticks": ""
            },
            "colorscale": [
             [
              0,
              "#0d0887"
             ],
             [
              0.1111111111111111,
              "#46039f"
             ],
             [
              0.2222222222222222,
              "#7201a8"
             ],
             [
              0.3333333333333333,
              "#9c179e"
             ],
             [
              0.4444444444444444,
              "#bd3786"
             ],
             [
              0.5555555555555556,
              "#d8576b"
             ],
             [
              0.6666666666666666,
              "#ed7953"
             ],
             [
              0.7777777777777778,
              "#fb9f3a"
             ],
             [
              0.8888888888888888,
              "#fdca26"
             ],
             [
              1,
              "#f0f921"
             ]
            ],
            "type": "histogram2dcontour"
           }
          ],
          "mesh3d": [
           {
            "colorbar": {
             "outlinewidth": 0,
             "ticks": ""
            },
            "type": "mesh3d"
           }
          ],
          "parcoords": [
           {
            "line": {
             "colorbar": {
              "outlinewidth": 0,
              "ticks": ""
             }
            },
            "type": "parcoords"
           }
          ],
          "pie": [
           {
            "automargin": true,
            "type": "pie"
           }
          ],
          "scatter": [
           {
            "fillpattern": {
             "fillmode": "overlay",
             "size": 10,
             "solidity": 0.2
            },
            "type": "scatter"
           }
          ],
          "scatter3d": [
           {
            "line": {
             "colorbar": {
              "outlinewidth": 0,
              "ticks": ""
             }
            },
            "marker": {
             "colorbar": {
              "outlinewidth": 0,
              "ticks": ""
             }
            },
            "type": "scatter3d"
           }
          ],
          "scattercarpet": [
           {
            "marker": {
             "colorbar": {
              "outlinewidth": 0,
              "ticks": ""
             }
            },
            "type": "scattercarpet"
           }
          ],
          "scattergeo": [
           {
            "marker": {
             "colorbar": {
              "outlinewidth": 0,
              "ticks": ""
             }
            },
            "type": "scattergeo"
           }
          ],
          "scattergl": [
           {
            "marker": {
             "colorbar": {
              "outlinewidth": 0,
              "ticks": ""
             }
            },
            "type": "scattergl"
           }
          ],
          "scattermapbox": [
           {
            "marker": {
             "colorbar": {
              "outlinewidth": 0,
              "ticks": ""
             }
            },
            "type": "scattermapbox"
           }
          ],
          "scatterpolar": [
           {
            "marker": {
             "colorbar": {
              "outlinewidth": 0,
              "ticks": ""
             }
            },
            "type": "scatterpolar"
           }
          ],
          "scatterpolargl": [
           {
            "marker": {
             "colorbar": {
              "outlinewidth": 0,
              "ticks": ""
             }
            },
            "type": "scatterpolargl"
           }
          ],
          "scatterternary": [
           {
            "marker": {
             "colorbar": {
              "outlinewidth": 0,
              "ticks": ""
             }
            },
            "type": "scatterternary"
           }
          ],
          "surface": [
           {
            "colorbar": {
             "outlinewidth": 0,
             "ticks": ""
            },
            "colorscale": [
             [
              0,
              "#0d0887"
             ],
             [
              0.1111111111111111,
              "#46039f"
             ],
             [
              0.2222222222222222,
              "#7201a8"
             ],
             [
              0.3333333333333333,
              "#9c179e"
             ],
             [
              0.4444444444444444,
              "#bd3786"
             ],
             [
              0.5555555555555556,
              "#d8576b"
             ],
             [
              0.6666666666666666,
              "#ed7953"
             ],
             [
              0.7777777777777778,
              "#fb9f3a"
             ],
             [
              0.8888888888888888,
              "#fdca26"
             ],
             [
              1,
              "#f0f921"
             ]
            ],
            "type": "surface"
           }
          ],
          "table": [
           {
            "cells": {
             "fill": {
              "color": "#EBF0F8"
             },
             "line": {
              "color": "white"
             }
            },
            "header": {
             "fill": {
              "color": "#C8D4E3"
             },
             "line": {
              "color": "white"
             }
            },
            "type": "table"
           }
          ]
         },
         "layout": {
          "annotationdefaults": {
           "arrowcolor": "#2a3f5f",
           "arrowhead": 0,
           "arrowwidth": 1
          },
          "autotypenumbers": "strict",
          "coloraxis": {
           "colorbar": {
            "outlinewidth": 0,
            "ticks": ""
           }
          },
          "colorscale": {
           "diverging": [
            [
             0,
             "#8e0152"
            ],
            [
             0.1,
             "#c51b7d"
            ],
            [
             0.2,
             "#de77ae"
            ],
            [
             0.3,
             "#f1b6da"
            ],
            [
             0.4,
             "#fde0ef"
            ],
            [
             0.5,
             "#f7f7f7"
            ],
            [
             0.6,
             "#e6f5d0"
            ],
            [
             0.7,
             "#b8e186"
            ],
            [
             0.8,
             "#7fbc41"
            ],
            [
             0.9,
             "#4d9221"
            ],
            [
             1,
             "#276419"
            ]
           ],
           "sequential": [
            [
             0,
             "#0d0887"
            ],
            [
             0.1111111111111111,
             "#46039f"
            ],
            [
             0.2222222222222222,
             "#7201a8"
            ],
            [
             0.3333333333333333,
             "#9c179e"
            ],
            [
             0.4444444444444444,
             "#bd3786"
            ],
            [
             0.5555555555555556,
             "#d8576b"
            ],
            [
             0.6666666666666666,
             "#ed7953"
            ],
            [
             0.7777777777777778,
             "#fb9f3a"
            ],
            [
             0.8888888888888888,
             "#fdca26"
            ],
            [
             1,
             "#f0f921"
            ]
           ],
           "sequentialminus": [
            [
             0,
             "#0d0887"
            ],
            [
             0.1111111111111111,
             "#46039f"
            ],
            [
             0.2222222222222222,
             "#7201a8"
            ],
            [
             0.3333333333333333,
             "#9c179e"
            ],
            [
             0.4444444444444444,
             "#bd3786"
            ],
            [
             0.5555555555555556,
             "#d8576b"
            ],
            [
             0.6666666666666666,
             "#ed7953"
            ],
            [
             0.7777777777777778,
             "#fb9f3a"
            ],
            [
             0.8888888888888888,
             "#fdca26"
            ],
            [
             1,
             "#f0f921"
            ]
           ]
          },
          "colorway": [
           "#636efa",
           "#EF553B",
           "#00cc96",
           "#ab63fa",
           "#FFA15A",
           "#19d3f3",
           "#FF6692",
           "#B6E880",
           "#FF97FF",
           "#FECB52"
          ],
          "font": {
           "color": "#2a3f5f"
          },
          "geo": {
           "bgcolor": "white",
           "lakecolor": "white",
           "landcolor": "#E5ECF6",
           "showlakes": true,
           "showland": true,
           "subunitcolor": "white"
          },
          "hoverlabel": {
           "align": "left"
          },
          "hovermode": "closest",
          "mapbox": {
           "style": "light"
          },
          "paper_bgcolor": "white",
          "plot_bgcolor": "#E5ECF6",
          "polar": {
           "angularaxis": {
            "gridcolor": "white",
            "linecolor": "white",
            "ticks": ""
           },
           "bgcolor": "#E5ECF6",
           "radialaxis": {
            "gridcolor": "white",
            "linecolor": "white",
            "ticks": ""
           }
          },
          "scene": {
           "xaxis": {
            "backgroundcolor": "#E5ECF6",
            "gridcolor": "white",
            "gridwidth": 2,
            "linecolor": "white",
            "showbackground": true,
            "ticks": "",
            "zerolinecolor": "white"
           },
           "yaxis": {
            "backgroundcolor": "#E5ECF6",
            "gridcolor": "white",
            "gridwidth": 2,
            "linecolor": "white",
            "showbackground": true,
            "ticks": "",
            "zerolinecolor": "white"
           },
           "zaxis": {
            "backgroundcolor": "#E5ECF6",
            "gridcolor": "white",
            "gridwidth": 2,
            "linecolor": "white",
            "showbackground": true,
            "ticks": "",
            "zerolinecolor": "white"
           }
          },
          "shapedefaults": {
           "line": {
            "color": "#2a3f5f"
           }
          },
          "ternary": {
           "aaxis": {
            "gridcolor": "white",
            "linecolor": "white",
            "ticks": ""
           },
           "baxis": {
            "gridcolor": "white",
            "linecolor": "white",
            "ticks": ""
           },
           "bgcolor": "#E5ECF6",
           "caxis": {
            "gridcolor": "white",
            "linecolor": "white",
            "ticks": ""
           }
          },
          "title": {
           "x": 0.05
          },
          "xaxis": {
           "automargin": true,
           "gridcolor": "white",
           "linecolor": "white",
           "ticks": "",
           "title": {
            "standoff": 15
           },
           "zerolinecolor": "white",
           "zerolinewidth": 2
          },
          "yaxis": {
           "automargin": true,
           "gridcolor": "white",
           "linecolor": "white",
           "ticks": "",
           "title": {
            "standoff": 15
           },
           "zerolinecolor": "white",
           "zerolinewidth": 2
          }
         }
        },
        "title": {
         "text": "DOGE Candlestick Chart",
         "x": 0.5,
         "xanchor": "center",
         "y": 0.9,
         "yanchor": "top"
        },
        "xaxis": {
         "title": {
          "text": "Time"
         }
        },
        "yaxis": {
         "ticksuffix": "$",
         "title": {
          "text": "Price in USD"
         }
        }
       }
      }
     },
     "metadata": {},
     "output_type": "display_data"
    }
   ],
   "source": [
    "cschart(btc, label = \"BTC\")\n",
    "\n",
    "cschart(eth, label = \"ETH\")\n",
    "\n",
    "cschart(doge, label = \"DOGE\")"
   ]
  }
 ],
 "metadata": {
  "kernelspec": {
   "display_name": "Python 3.9.13 ('pythonFSFM')",
   "language": "python",
   "name": "python3"
  },
  "language_info": {
   "codemirror_mode": {
    "name": "ipython",
    "version": 3
   },
   "file_extension": ".py",
   "mimetype": "text/x-python",
   "name": "python",
   "nbconvert_exporter": "python",
   "pygments_lexer": "ipython3",
   "version": "3.9.13"
  },
  "orig_nbformat": 4,
  "vscode": {
   "interpreter": {
    "hash": "31a9bea5f067a9736ddfa79b44f56e99d7e88be9dca82d8c758d974c943c02a4"
   }
  }
 },
 "nbformat": 4,
 "nbformat_minor": 2
}
